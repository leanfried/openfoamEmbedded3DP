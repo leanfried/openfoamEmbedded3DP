{
 "cells": [
  {
   "cell_type": "markdown",
   "id": "ef80c0b1",
   "metadata": {},
   "source": [
    "# videoCombine\n",
    "Notebook for combining stills into big videos"
   ]
  },
  {
   "cell_type": "code",
   "execution_count": 2,
   "id": "84c69be4",
   "metadata": {
    "tags": []
   },
   "outputs": [],
   "source": [
    "%load_ext autoreload\n",
    "%autoreload 2\n",
    "LOGGERDEFINED = False"
   ]
  },
  {
   "cell_type": "code",
   "execution_count": 3,
   "id": "09a786f3",
   "metadata": {
    "tags": []
   },
   "outputs": [],
   "source": [
    "import os\n",
    "import sys\n",
    "parentdir = os.path.dirname(os.getcwd())\n",
    "sys.path.append(parentdir)\n",
    "sys.path.append(os.path.join(parentdir, 'py'))\n",
    "import file.file_handling as fh\n",
    "import video.video_funcs as vf\n",
    "from tools.config import cfg\n",
    "import tools.logs as logs\n",
    "serverfolder = cfg.path.server\n",
    "LOGGERDEFINED = logs.openLog('videoCombine.ipynb', LOGGERDEFINED, level='DEBUG', exportLog=True)"
   ]
  },
  {
   "cell_type": "markdown",
   "id": "81a5c09e-b923-47e7-9817-ef8bdc97a498",
   "metadata": {},
   "source": [
    "## create title cards"
   ]
  },
  {
   "cell_type": "code",
   "execution_count": null,
   "id": "74079874",
   "metadata": {
    "tags": []
   },
   "outputs": [],
   "source": [
    "for c in fh.simFolders(os.path.join(serverfolder, 'adjacent')):\n",
    "    vf.titleCard(c, overwrite=True, diag=True)"
   ]
  },
  {
   "cell_type": "markdown",
   "id": "058ee4f9-a2a0-4bf8-abb7-1310cbc0b1da",
   "metadata": {},
   "source": [
    "## save individual folder videos"
   ]
  },
  {
   "cell_type": "code",
   "execution_count": null,
   "id": "22aa7d44",
   "metadata": {
    "tags": []
   },
   "outputs": [],
   "source": [
    "for c in fh.simFolders(os.path.join(serverfolder, 'adjacent')):\n",
    "    if not os.path.exists(os.path.join(c,'images','y_umag.mp4')):\n",
    "        vf.saveVid(c, 'y', 'umag' )\n",
    "    if not os.path.exists(os.path.join(c,'images','a_umag.mp4')):\n",
    "        vf.saveVid(c, 'a', 'umag' )"
   ]
  },
  {
   "cell_type": "markdown",
   "id": "069d053e-63c1-480d-a807-3b58f869a21a",
   "metadata": {},
   "source": [
    "## combine all folders into one long video"
   ]
  },
  {
   "cell_type": "code",
   "execution_count": null,
   "id": "7420afff",
   "metadata": {
    "tags": []
   },
   "outputs": [],
   "source": [
    "vf.bigVideo(fh.simFolders(os.path.join(serverfolder, 'adjacent'))\n",
    "            , os.path.join(serverfolder, 'adjacent', 'summaryVideo.mp4'))"
   ]
  },
  {
   "cell_type": "code",
   "execution_count": null,
   "id": "19795f4e",
   "metadata": {
    "tags": []
   },
   "outputs": [],
   "source": [
    "vf.bigVideo(fh.simFolders(os.path.join(serverfolder, 'adjacent'))\n",
    "            , os.path.join(serverfolder, 'adjacent', 'a_summaryVideo.mp4'), tags=['a_umag'])"
   ]
  },
  {
   "cell_type": "code",
   "execution_count": null,
   "id": "8d9172ce",
   "metadata": {},
   "outputs": [],
   "source": [
    "vf.bigVideo(fh.simFolders(os.path.join(serverfolder, 'adjacent'))\n",
    "            , os.path.join(serverfolder, 'summaryVideoPresentation.mp4'), titleLength=0, tags=['a'])"
   ]
  },
  {
   "cell_type": "markdown",
   "id": "09c8e216-d29e-48ec-ba00-5b7441122b8d",
   "metadata": {},
   "source": [
    "## collect figures from a folder and make them into a video"
   ]
  },
  {
   "cell_type": "code",
   "execution_count": null,
   "id": "77a8211a-625e-4a38-9b76-33a132b30c06",
   "metadata": {
    "tags": []
   },
   "outputs": [],
   "source": [
    "vf.bigVideoFigure(os.path.join(cfg.path.fig, 'vidframes', 'adjacent', 'plots')\n",
    "                  , os.path.join(cfg.path.fig, 'adjacent', 'plots', 'figVideo.mp4'))"
   ]
  },
  {
   "cell_type": "code",
   "execution_count": null,
   "id": "1749ad9a-58ba-4c09-a64b-3113ec9d14f8",
   "metadata": {
    "tags": []
   },
   "outputs": [],
   "source": [
    "for ftag in ['x_ink_tm,sup_tm_y_sigma,iv_spacing_0.875_splitx_Ddir'\n",
    "                                   ,'x_spacing_y_sigma,iv_ink_tm_HB_sup_tm_HB_Ddir_y'\n",
    "                                   ,'x_spacing_y_sigma,iv_ink_tm_HB_sup_tm_HB_Ddir_z'\n",
    "                                   ,'x_spacing_y_sigma,iv_ink_tm_N_sup_tm_N_Ddir_y'\n",
    "                                   ,'x_spacing_y_sigma,iv_ink_tm_N_sup_tm_N_Ddir_z']:\n",
    "    for tag in ['y_umag', 'a_umag']:\n",
    "        if 'splitx' in ftag:\n",
    "            imShape = (1312, 2000, 3)\n",
    "        else:\n",
    "            imShape = (1792, 1952, 3)\n",
    "        vf.bigVideoFigure(os.path.join(cfg.path.fig, 'vidframes', 'adjacent', 'plots')\n",
    "                  , os.path.join(cfg.path.fig, 'adjacent', 'plots', f'figVideo_{ftag}_{tag}.mp4')\n",
    "                         , ftags=[ftag]\n",
    "                         , tags=[tag]\n",
    "                         , imShape=imShape)"
   ]
  },
  {
   "cell_type": "code",
   "execution_count": null,
   "id": "1e8e7ab1-6bef-4f64-b54b-eefab13a6d71",
   "metadata": {
    "tags": []
   },
   "outputs": [],
   "source": [
    "for ftag in ['x_iv_y_Ddir_spacing_0.875_ink_tm_N_sup_tm_N_makeXLabels_False_makeYLabels_False_makeTitle_False']:\n",
    "    for tag in ['a_umag']:\n",
    "        imShape = (2272, 1888, 3)\n",
    "        vf.bigVideoFigure(os.path.join(cfg.path.fig, 'vidframes', 'adjacent', 'plots')\n",
    "                  , os.path.join(cfg.path.fig, 'adjacent', 'plots', f'figVideo_orientation.mp4')\n",
    "                         , ftags=[ftag]\n",
    "                         , tags=[tag]\n",
    "                         , imShape=imShape)"
   ]
  },
  {
   "cell_type": "markdown",
   "id": "e78392dd",
   "metadata": {},
   "source": [
    "## save video for a single file"
   ]
  },
  {
   "cell_type": "code",
   "execution_count": null,
   "id": "bd55025a",
   "metadata": {},
   "outputs": [],
   "source": [
    "help(vf.saveVid)"
   ]
  },
  {
   "cell_type": "code",
   "execution_count": null,
   "id": "0ae5e367",
   "metadata": {},
   "outputs": [],
   "source": [
    "vf.saveVid(os.path.join(cfg.path.server, 'conicalNozzle', 'newtonian', 'cn224'), 'y', 'umag' )"
   ]
  },
  {
   "cell_type": "markdown",
   "id": "c937385b-7507-491a-b2a5-be5c3819390c",
   "metadata": {},
   "source": [
    "# convert to gif"
   ]
  },
  {
   "cell_type": "code",
   "execution_count": null,
   "id": "4e047e4f",
   "metadata": {},
   "outputs": [],
   "source": [
    "vf.convertToFastGif(os.path.join(cfg.path.server, 'adjacent', 'aj221', 'images', 'a_umag.mp4'), crop={'x0':)"
   ]
  },
  {
   "cell_type": "code",
   "execution_count": null,
   "id": "9a03dce2-4323-4390-b194-ac9af05e9bae",
   "metadata": {},
   "outputs": [],
   "source": []
  }
 ],
 "metadata": {
  "kernelspec": {
   "display_name": "Python 3 (ipykernel)",
   "language": "python",
   "name": "python3"
  },
  "language_info": {
   "codemirror_mode": {
    "name": "ipython",
    "version": 3
   },
   "file_extension": ".py",
   "mimetype": "text/x-python",
   "name": "python",
   "nbconvert_exporter": "python",
   "pygments_lexer": "ipython3",
   "version": "3.8.3"
  }
 },
 "nbformat": 4,
 "nbformat_minor": 5
}
