{
 "cells": [
  {
   "cell_type": "code",
   "execution_count": null,
   "metadata": {},
   "outputs": [],
   "source": [
    "%load_ext autoreload\n",
    "%autoreload 2"
   ]
  },
  {
   "cell_type": "code",
   "execution_count": null,
   "metadata": {},
   "outputs": [],
   "source": [
    "import os\n",
    "import sys\n",
    "parentdir = os.path.dirname(os.getcwd())\n",
    "sys.path.append(parentdir)\n",
    "sys.path.append(os.path.join(parentdir, 'py'))\n",
    "import initialize.ncreate3d as nc\n",
    "from tools.config import cfg"
   ]
  },
  {
   "cell_type": "markdown",
   "metadata": {},
   "source": [
    "### Create nozzle geometry. This will export mesh variables"
   ]
  },
  {
   "cell_type": "code",
   "execution_count": null,
   "metadata": {},
   "outputs": [],
   "source": [
    "help(nc.NozVars.__init__)"
   ]
  },
  {
   "cell_type": "code",
   "execution_count": null,
   "metadata": {},
   "outputs": [],
   "source": [
    "help(nc.genericMesh)"
   ]
  },
  {
   "cell_type": "code",
   "execution_count": null,
   "metadata": {
    "tags": []
   },
   "outputs": [],
   "source": [
    "fg = nc.genericMesh(os.path.join(cfg.path.c, 'LapRDTall'), npts=50, bathHeight=10, bathWidth=16) # generate mesh files\n",
    "fg.plot.savefig(os.path.join(cfg.path.fig, 'yieldingsweep','plots', 'LapRDTall', 'nozzleDiagramTall.png')) # export the diagram of the nozzle"
   ]
  },
  {
   "cell_type": "code",
   "execution_count": null,
   "metadata": {
    "tags": []
   },
   "outputs": [],
   "source": [
    "fg = nc.genericMesh(os.path.join(cfg.path.c, 'conical'), npts=50, bathDepth=16, bathHeight=10, nozzleAngle=10) # generate mesh files\n",
    "fg.plot.savefig(os.path.join(cfg.path.fig, 'conicalNozzle', 'plots', 'nozzleDiagram.svg')) # export the diagram of the nozzle"
   ]
  },
  {
   "cell_type": "code",
   "execution_count": null,
   "metadata": {
    "tags": []
   },
   "outputs": [],
   "source": [
    "ac = nc.adjacentCreator('y', 10, 0.04, 0.875, 500, inkModel='Newtonian', supModel='Newtonian')\n",
    "ac.exportMesh()"
   ]
  },
  {
   "cell_type": "code",
   "execution_count": null,
   "metadata": {
    "tags": []
   },
   "outputs": [],
   "source": [
    "fg = nc.genericMesh(os.path.join(cfg.path.c, 'nonozzle')) # generate mesh files"
   ]
  },
  {
   "cell_type": "markdown",
   "metadata": {},
   "source": [
    "## Generate simulation files"
   ]
  },
  {
   "cell_type": "markdown",
   "metadata": {},
   "source": [
    "Usage:\n",
    "<br>e.g. To create a Newtonian fluid of viscosity 1000 Pa s and density 1100 kg/m^3:\n",
    "<br>&nbsp;&nbsp;&nbsp;&nbsp;`myFluid = nc.Fluid(nu=1000, rho=1100, units='Pas')`\n",
    "<br>or to create a Newtonian fluid of viscosity 1000 Pa s and density 1000 kg/m^3:\n",
    "<br>&nbsp;&nbsp;&nbsp;&nbsp;`myFluid = nc.Fluid(nu=1000, units='Pa')`\n",
    "<br>e.g. To create a Herschel-Bulkley fluid of plateau viscosity 4 Pas, yield stress 1 Pa, consistency index 10, power law index 0.5:\n",
    "<br>&nbsp;&nbsp;&nbsp;&nbsp;`myFluid = nc.Fluid(nu0=4, tau0=1, k=10, n=0.5, units=\"Pa\")`\n",
    "<br>You can also give the fluid a label, but the label won't be used during file generation. You need to use it separately.\n",
    "<br>&nbsp;&nbsp;&nbsp;&nbsp;`myFluid = nc.Fluid(label='myLabel', nu0=4, tau0=1, k=10, n=0.5, units=\"Pa\")`\n",
    "<br><br>\n",
    "<br>Sigma must be in J/m^2 (e.g. 0.04 J/m^2)\n",
    "<br>To create a simulation folder, use genericExport.\n",
    "<br>&nbsp;&nbsp;&nbsp;&nbsp;`nc.genericExport(folderNumber, fluid1, fluid2, surfaceTension, parentFolder, exportMesh=False)`\n",
    "<br>To create a simulation folder with its own mesh files, use exportMesh=True.\n",
    "<br>&nbsp;&nbsp;&nbsp;&nbsp;`nc.genericExport(folderNumber, fluid1, fluid2, surfaceTension, parentFolder, exportMesh=True)`"
   ]
  },
  {
   "cell_type": "markdown",
   "metadata": {
    "jp-MarkdownHeadingCollapsed": true,
    "tags": []
   },
   "source": [
    "## adjacent"
   ]
  },
  {
   "cell_type": "code",
   "execution_count": null,
   "metadata": {},
   "outputs": [],
   "source": [
    "for i,d in {7:0.5, 8:0.625, 9:0.75, 11:1, 12:1.25}.items():\n",
    "    nc.adjacentCreator('y', 10, '0', d, i, inkModel='Newtonian', supModel='Newtonian').export()"
   ]
  },
  {
   "cell_type": "code",
   "execution_count": null,
   "metadata": {},
   "outputs": [],
   "source": [
    "for i,d in {37:0.5, 38:0.625, 39:0.75, 130:0.875, 42:1, 42:1.25}.items():\n",
    "    nc.adjacentCreator('y', 10, '0', d, i, inkModel='HerschelBulkley', supModel='HerschelBulkley').export()"
   ]
  },
  {
   "cell_type": "code",
   "execution_count": null,
   "metadata": {},
   "outputs": [],
   "source": [
    "nc.adjacentCreator('y', 10, '0', 0.875, 88, inkModel='HerschelBulkley', supModel='Newtonian').export()"
   ]
  },
  {
   "cell_type": "code",
   "execution_count": null,
   "metadata": {},
   "outputs": [],
   "source": [
    "nc.adjacentCreator('y', 10, '0', 0.875, 52, inkModel='Newtonian', supModel='HerschelBulkley').export()"
   ]
  },
  {
   "cell_type": "markdown",
   "metadata": {},
   "source": [
    "## adjacent v2"
   ]
  },
  {
   "cell_type": "code",
   "execution_count": null,
   "metadata": {
    "tags": []
   },
   "outputs": [],
   "source": [
    "# newtnewt\n",
    "ii = 200\n",
    "aj = True\n",
    "for orientation in ['y', 'z']:\n",
    "    for vink in [0, 10]:\n",
    "        for sigma in ['0.04', '0']:\n",
    "            for i,d in enumerate([0.5, 0.625, 0.75, 0.875, 1, 1.25]):\n",
    "                nc.adjacentCreator(orientation, vink, sigma, d, ii, inkModel='Newtonian', supModel='Newtonian').export()\n",
    "                ii = ii+1  "
   ]
  },
  {
   "cell_type": "code",
   "execution_count": null,
   "metadata": {
    "tags": []
   },
   "outputs": [],
   "source": [
    "# newtnewt\n",
    "nc.adjacentCreator('z', 0, '0', 1.251, 235, inkModel='Newtonian', supModel='Newtonian').export()\n",
    "nc.adjacentCreator('z', 10, '0', 1.252, 248, inkModel='Newtonian', supModel='Newtonian').export()\n",
    "nc.adjacentCreator('z', 0, '0.04', 1.252, 249, inkModel='Newtonian', supModel='Newtonian').export()"
   ]
  },
  {
   "cell_type": "code",
   "execution_count": null,
   "metadata": {
    "tags": []
   },
   "outputs": [],
   "source": [
    "# HBHB\n",
    "ii = 300\n",
    "aj = True\n",
    "for orientation in ['y', 'z']:\n",
    "    for vink in [0, 10]:\n",
    "        for sigma in ['0.04', '0']:\n",
    "            for i,d in enumerate([0.5, 0.625, 0.75, 0.875, 1, 1.25]):\n",
    "                nc.adjacentCreator(orientation, vink, sigma, d, ii, inkModel='HerschelBulkley', supModel='HerschelBulkley').export()\n",
    "                ii = ii+1  "
   ]
  },
  {
   "cell_type": "code",
   "execution_count": null,
   "metadata": {
    "tags": []
   },
   "outputs": [],
   "source": [
    "nc.adjacentCreator('y', 0, '0.04', 0.627, 350, inkModel='HerschelBulkley', supModel='HerschelBulkley').export()\n",
    "nc.adjacentCreator('y', 0, '0.04', 0.877, 351, inkModel='HerschelBulkley', supModel='HerschelBulkley').export()\n",
    "nc.adjacentCreator('z', 0, '0.04', 0.752, 352, inkModel='HerschelBulkley', supModel='HerschelBulkley').export()\n",
    "nc.adjacentCreator('z', 0, '0', 0.627, 353, inkModel='HerschelBulkley', supModel='HerschelBulkley').export()"
   ]
  },
  {
   "cell_type": "code",
   "execution_count": null,
   "metadata": {
    "tags": []
   },
   "outputs": [],
   "source": [
    "for i,vink in enumerate([0, 10]):\n",
    "    nc.adjacentCreator('z', vink, '0.04', 0.877, 354+i, inkModel='HerschelBulkley', supModel='HerschelBulkley').export()"
   ]
  },
  {
   "cell_type": "code",
   "execution_count": null,
   "metadata": {
    "tags": []
   },
   "outputs": [],
   "source": [
    "ii = 400\n",
    "for model in [1,2]:\n",
    "    for orientation in ['y', 'z']:\n",
    "        for vink in [0, 10]:\n",
    "            for sigma in ['0.04', '0']:\n",
    "                if model==1:\n",
    "                    nc.adjacentCreator(orientation, vink, sigma, 0.875, ii, inkModel='HerschelBulkley', supModel='Newtonian').export()\n",
    "                else:\n",
    "                    nc.adjacentCreator(orientation, vink, sigma, 0.875, ii, inkModel='Newtonian', supModel='HerschelBulkley').export()\n",
    "                ii+=1"
   ]
  },
  {
   "cell_type": "markdown",
   "metadata": {
    "jp-MarkdownHeadingCollapsed": true,
    "tags": []
   },
   "source": [
    "## conicals"
   ]
  },
  {
   "cell_type": "markdown",
   "metadata": {
    "tags": []
   },
   "source": [
    "### determine bath size"
   ]
  },
  {
   "cell_type": "code",
   "execution_count": null,
   "metadata": {
    "tags": []
   },
   "outputs": [],
   "source": [
    "nv0 = nc.NozVars(nozzleAngle=0, bathHeight=10, bathWidth=16)\n",
    "nv30 = nc.NozVars(nozzleAngle=30, bathHeight=10, bathWidth=16)\n",
    "for n in [nv0, nv30]:\n",
    "    print([getattr(n, s) for s in ['bw', 'bh', 'bd']])"
   ]
  },
  {
   "cell_type": "code",
   "execution_count": null,
   "metadata": {
    "tags": []
   },
   "outputs": [],
   "source": [
    "nv0 = nc.NozVars(nozzleAngle=0, bathHeight=7, bathWidth=16)\n",
    "nv30 = nc.NozVars(nozzleAngle=30, bathHeight=7, bathWidth=16)\n",
    "for n in [nv0, nv30]:\n",
    "    print([getattr(n, s) for s in ['bw', 'bh', 'bd']])"
   ]
  },
  {
   "cell_type": "markdown",
   "metadata": {},
   "source": [
    "### generate starting files"
   ]
  },
  {
   "cell_type": "markdown",
   "metadata": {},
   "source": [
    "#### speed/visc sweep"
   ]
  },
  {
   "cell_type": "code",
   "execution_count": null,
   "metadata": {
    "tags": []
   },
   "outputs": [],
   "source": [
    "topfolder = os.path.join(cfg.path.c, 'conical') # this is the parent folder that holds everything\n",
    "ii = 144\n",
    "sigma = 0\n",
    "fHB = nc.Fluid(units=\"Pa\", label='', tau0=10, k=3.75, n=0.45, nu0=10**4)\n",
    "fnewt = nc.Fluid(units=\"Pa\", label='', nu=10)\n",
    "for speed in [2.5, 5, 7.5, 10]:\n",
    "    for f in [fHB]:\n",
    "        for angle in [0, 5, 10, 15, 20, 25, 30]:\n",
    "            nc.genericExport(ii, f, f, sigma, topfolder, exportMesh=True, folderBase=\"cn\"\n",
    "                             , bathHeight=10, bathWidth=22,  nozzleAngle=angle, slurmFolder='/working/lmf1/conical'\n",
    "                            , vink=speed, vbath=speed)\n",
    "            ii+=1\n",
    "        for angle in [0, 5, 10, 15, 20, 25, 30]:\n",
    "            ii+=1"
   ]
  },
  {
   "cell_type": "markdown",
   "metadata": {},
   "source": [
    "#### Newtonian angle sweep, 10 Pa.s"
   ]
  },
  {
   "cell_type": "code",
   "execution_count": null,
   "metadata": {
    "tags": []
   },
   "outputs": [],
   "source": [
    "topfolder = os.path.join(cfg.path.c, 'conical') # this is the parent folder that holds everything\n",
    "ii = 200\n",
    "sigma = 0\n",
    "fnewt = nc.Fluid(units=\"Pa\", label='', nu=10)\n",
    "for f in [fnewt]:\n",
    "    for angle in [0, 5, 10, 15, 20, 25, 30]:\n",
    "        nc.genericExport(ii, f, f, sigma, topfolder, exportMesh=True, folderBase=\"cn\"\n",
    "                         , bathHeight=10, bathWidth=16,  nozzleAngle=angle, slurmFolder='/working/lmf1/conical'\n",
    "                        , vink=10, vbath=10)\n",
    "        ii+=1"
   ]
  },
  {
   "cell_type": "markdown",
   "metadata": {},
   "source": [
    "#### HB diameter sweep, absolute mesh "
   ]
  },
  {
   "cell_type": "code",
   "execution_count": null,
   "metadata": {
    "tags": []
   },
   "outputs": [],
   "source": [
    "gdot = 10/0.903\n",
    "[10/gdot+k*gdot**(0.45-1) for k in [0.375, 3.75, 37.5, 375]]"
   ]
  },
  {
   "cell_type": "code",
   "execution_count": null,
   "metadata": {
    "tags": []
   },
   "outputs": [],
   "source": [
    "topfolder = os.path.join(cfg.path.c, 'conical') # this is the parent folder that holds everything\n",
    "ii = 207\n",
    "sigma = 0\n",
    "fHB = nc.Fluid(units=\"Pa\", label='', tau0=10, k=3.75, n=0.45, nu0=10**4)\n",
    "innerdiams = [0.838,  0.413, 0.26]\n",
    "widths = [0.216,  0.152, 0.127]\n",
    "for f in [fHB]:\n",
    "    for angle in [0, 15]:\n",
    "        for i,diam in enumerate(innerdiams):\n",
    "            nc.genericExport(ii, f, f, sigma, topfolder, exportMesh=True, folderBase=\"cn\"\n",
    "                         , bathHeight=10, bathWidth=16,  nozzleAngle=angle, slurmFolder='/working/lmf1/conical'\n",
    "                        , vink=10, vbath=10, nozzleInnerWidth=diam, nozzleThickness=widths[i])\n",
    "            ii+=1"
   ]
  },
  {
   "cell_type": "markdown",
   "metadata": {},
   "source": [
    "#### HB k sweep"
   ]
  },
  {
   "cell_type": "code",
   "execution_count": null,
   "metadata": {
    "tags": []
   },
   "outputs": [],
   "source": [
    "topfolder = os.path.join(cfg.path.c, 'conical') # this is the parent folder that holds everything\n",
    "ii = 213\n",
    "sigma = 0\n",
    "fHBlist = [nc.Fluid(units=\"Pa\", label='', tau0=10, k=ki, n=0.45, nu0=10**4) for ki in [0.375, 37.5, 375]]\n",
    "for f in fHBlist:\n",
    "    for angle in [0, 15]:\n",
    "        nc.genericExport(ii, f, f, sigma, topfolder, exportMesh=True, folderBase=\"cn\"\n",
    "                         , bathHeight=10, bathWidth=16,  nozzleAngle=angle, slurmFolder='/working/lmf1/conical'\n",
    "                        , vink=10, vbath=10)\n",
    "        ii+=1"
   ]
  },
  {
   "cell_type": "markdown",
   "metadata": {
    "jp-MarkdownHeadingCollapsed": true,
    "tags": []
   },
   "source": [
    "#### Newtonian angle sweep, 1 Pa.s"
   ]
  },
  {
   "cell_type": "code",
   "execution_count": null,
   "metadata": {
    "tags": []
   },
   "outputs": [],
   "source": [
    "topfolder = os.path.join(cfg.path.c, 'conical') # this is the parent folder that holds everything\n",
    "ii = 219\n",
    "sigma = 0\n",
    "fnewt = nc.Fluid(units=\"Pa\", label='', nu=1)\n",
    "for f in [fnewt]:\n",
    "    for angle in [0, 5, 10, 15, 20, 25, 30]:\n",
    "        nc.genericExport(ii, f, f, sigma, topfolder, exportMesh=True, folderBase=\"cn\"\n",
    "                         , bathHeight=10, bathWidth=16,  nozzleAngle=angle, slurmFolder='/working/lmf1/conical'\n",
    "                        , vink=10, vbath=10)\n",
    "        ii+=1"
   ]
  },
  {
   "cell_type": "markdown",
   "metadata": {},
   "source": [
    "#### HB diameter sweep, relative mesh"
   ]
  },
  {
   "cell_type": "code",
   "execution_count": null,
   "metadata": {
    "tags": []
   },
   "outputs": [],
   "source": [
    "# diameter, mesh size relative to nozzle diameter\n",
    "topfolder = os.path.join(cfg.path.c, 'conical') # this is the parent folder that holds everything\n",
    "ii = 226\n",
    "sigma = 0\n",
    "fHB = nc.Fluid(units=\"Pa\", label='', tau0=10, k=3.75, n=0.45, nu0=10**4)\n",
    "innerdiams = [0.838,  0.413, 0.26]\n",
    "widths = [0.216,  0.152, 0.127]\n",
    "for f in [fHB]:\n",
    "    for angle in [0, 15]:\n",
    "        for i,diam in enumerate(innerdiams):\n",
    "            nc.genericExport(ii, f, f, sigma, topfolder, exportMesh=True, folderBase=\"cn\"\n",
    "                         , bathHeight=10, bathWidth=16,  nozzleAngle=angle, slurmFolder='/working/lmf1/conical'\n",
    "                        , vink=10, vbath=10, nozzleInnerWidth=diam, nozzleThickness=widths[i])\n",
    "            ii+=1"
   ]
  },
  {
   "cell_type": "markdown",
   "metadata": {},
   "source": [
    "#### HB speed sweep, 15 degree nozzle"
   ]
  },
  {
   "cell_type": "code",
   "execution_count": null,
   "metadata": {
    "tags": []
   },
   "outputs": [],
   "source": [
    "topfolder = os.path.join(cfg.path.c, 'conical') # this is the parent folder that holds everything\n",
    "ii = 232\n",
    "sigma = 0\n",
    "f = nc.Fluid(units=\"Pa\", label='', tau0=10, k=3.75, n=0.45, nu0=10**4)\n",
    "for speed in [5, 15]:\n",
    "    for angle in [15]:\n",
    "        nc.genericExport(ii, f, f, sigma, topfolder, exportMesh=True, folderBase=\"cn\"\n",
    "                         , bathHeight=10, bathWidth=16,  nozzleAngle=angle, slurmFolder='/working/lmf1/conical'\n",
    "                        , vink=speed, vbath=speed)\n",
    "        ii+=1"
   ]
  },
  {
   "cell_type": "markdown",
   "metadata": {},
   "source": [
    "#### Newtonian diameter sweep, mixed mesh"
   ]
  },
  {
   "cell_type": "code",
   "execution_count": null,
   "metadata": {
    "tags": []
   },
   "outputs": [],
   "source": [
    "topfolder = os.path.join(cfg.path.c, 'conical') # this is the parent folder that holds everything\n",
    "ii = 234\n",
    "sigma = 0\n",
    "f = nc.Fluid(units=\"Pa\", label='', nu=10)\n",
    "innerdiams = [ 0.413, 0.26]\n",
    "widths = [ 0.152, 0.127]\n",
    "nc.genericExport(ii, f, f, sigma, topfolder, exportMesh=True, folderBase=\"cn\"\n",
    "                         , bathHeight=10, bathWidth=16,  nozzleAngle=0, slurmFolder='/working/lmf1/conical'\n",
    "                        , vink=10, vbath=10, nozzleInnerWidth=0.838, nozzleThickness=0.216)\n",
    "ii+=1\n",
    "for i,diam in enumerate(innerdiams):\n",
    "    nc.genericExport(ii, f, f, sigma, topfolder, exportMesh=True, folderBase=\"cn\"\n",
    "                         , bathHeight=10, bathWidth=16,  nozzleAngle=0, slurmFolder='/working/lmf1/conical'\n",
    "                        , vink=10, vbath=10, meshSize=0.2, nozzleInnerWidth=diam, nozzleThickness=widths[i])\n",
    "    ii+=1"
   ]
  },
  {
   "cell_type": "markdown",
   "metadata": {},
   "source": [
    "#### Newtonian viscosity sweep, 15 degree nozzle"
   ]
  },
  {
   "cell_type": "code",
   "execution_count": null,
   "metadata": {
    "tags": []
   },
   "outputs": [],
   "source": [
    "topfolder = os.path.join(cfg.path.c, 'conical') # this is the parent folder that holds everything\n",
    "ii = 237\n",
    "sigma = 0\n",
    "\n",
    "for visc in [0.1, 100]:\n",
    "    fnewt = nc.Fluid(units=\"Pa\", label='', nu=visc)\n",
    "    for angle in [15]:\n",
    "        nc.genericExport(ii, fnewt, fnewt, sigma, topfolder, exportMesh=True, folderBase=\"cn\"\n",
    "                         , bathHeight=10, bathWidth=16,  nozzleAngle=angle\n",
    "                         , slurmFolder='/working/lmf1/conical'\n",
    "                        , vink=10, vbath=10)\n",
    "        ii+=1"
   ]
  },
  {
   "cell_type": "markdown",
   "metadata": {},
   "source": [
    "#### Newtonian diameter sweep, relative mesh"
   ]
  },
  {
   "cell_type": "code",
   "execution_count": null,
   "metadata": {
    "tags": []
   },
   "outputs": [],
   "source": [
    "topfolder = os.path.join(cfg.path.c, 'conical') # this is the parent folder that holds everything\n",
    "ii = 239\n",
    "sigma = 0\n",
    "f = nc.Fluid(units=\"Pa\", label='', nu=10)\n",
    "innerdiams = [ 0.413, 0.26]\n",
    "widths = [ 0.152, 0.127]\n",
    "for i,diam in enumerate(innerdiams):\n",
    "    nc.genericExport(ii, f, f, sigma, topfolder, exportMesh=True, folderBase=\"cn\"\n",
    "                         , bathHeight=10, bathWidth=16,  nozzleAngle=0, slurmFolder='/working/lmf1/conical'\n",
    "                        , vink=10, vbath=10, nozzleInnerWidth=diam, nozzleThickness=widths[i])\n",
    "    ii+=1"
   ]
  },
  {
   "cell_type": "markdown",
   "metadata": {},
   "source": [
    "#### Newtonian diameter sweep, relative speed, mixed mesh"
   ]
  },
  {
   "cell_type": "code",
   "execution_count": null,
   "metadata": {
    "tags": []
   },
   "outputs": [],
   "source": [
    "topfolder = os.path.join(cfg.path.c, 'conical') # this is the parent folder that holds everything\n",
    "ii = 241\n",
    "sigma = 0\n",
    "f = nc.Fluid(units=\"Pa\", label='', nu=10)\n",
    "innerdiams = [ 0.413, 0.26]\n",
    "widths = [ 0.152, 0.127]\n",
    "nc.genericExport(ii, f, f, sigma, topfolder, exportMesh=True, folderBase=\"cn\"\n",
    "                         , bathHeight=10, bathWidth=16,  nozzleAngle=0, slurmFolder='/working/lmf1/conical'\n",
    "                        , vink=10*838/0.603, vbath=10*838/0.603, nozzleInnerWidth=0.838, nozzleThickness=0.216)\n",
    "ii+=1\n",
    "for i,diam in enumerate(innerdiams):\n",
    "    nc.genericExport(ii, f, f, sigma, topfolder, exportMesh=True, folderBase=\"cn\"\n",
    "                         , bathHeight=10, bathWidth=16,  nozzleAngle=0, slurmFolder='/working/lmf1/conical'\n",
    "                        , vink=10*diam/0.603, vbath=10*diam/0.603, meshSize=0.2, nozzleInnerWidth=diam, nozzleThickness=widths[i])\n",
    "    ii+=1"
   ]
  },
  {
   "cell_type": "markdown",
   "metadata": {},
   "source": [
    "#### Newtonian diameter sweep, relative mesh, 2000000 maxglobalcells"
   ]
  },
  {
   "cell_type": "code",
   "execution_count": null,
   "metadata": {
    "tags": []
   },
   "outputs": [],
   "source": [
    "topfolder = os.path.join(cfg.path.c, 'conical') # this is the parent folder that holds everything\n",
    "ii = 244\n",
    "sigma = 0\n",
    "f = nc.Fluid(units=\"Pa\", label='', nu=10)\n",
    "innerdiams = [0.838,  0.413, 0.26]\n",
    "widths = [0.216,  0.152, 0.127]\n",
    "for i,diam in enumerate(innerdiams):\n",
    "    nc.genericExport(ii, f, f, sigma, topfolder, exportMesh=True, folderBase=\"cn\"\n",
    "                         , bathHeight=10, bathWidth=16,  nozzleAngle=0, slurmFolder='/working/lmf1/conical'\n",
    "                        , vink=10, vbath=10, nozzleInnerWidth=diam, nozzleThickness=widths[i])\n",
    "    ii+=1"
   ]
  },
  {
   "cell_type": "code",
   "execution_count": null,
   "metadata": {
    "tags": []
   },
   "outputs": [],
   "source": [
    "topfolder = os.path.join(cfg.path.c, 'conical') # this is the parent folder that holds everything\n",
    "ii = 247\n",
    "sigma = 0\n",
    "f = nc.Fluid(units=\"Pa\", label='', nu=10)\n",
    "innerdiams = [ 0.413, 0.26]\n",
    "widths = [0.152, 0.127]\n",
    "for i,diam in enumerate(innerdiams):\n",
    "    nc.genericExport(ii, f, f, sigma, topfolder, exportMesh=True, folderBase=\"cn\"\n",
    "                         , bathHeight=10, bathWidth=16,  nozzleAngle=0, slurmFolder='/working/lmf1/conical'\n",
    "                        , vink=10, vbath=10, nozzleInnerWidth=diam, nozzleThickness=widths[i]\n",
    "                    , meshSize=0.2)\n",
    "    ii+=1"
   ]
  },
  {
   "cell_type": "markdown",
   "metadata": {},
   "source": [
    "#### HB diameter sweep, relative speed, mixed mesh"
   ]
  },
  {
   "cell_type": "code",
   "execution_count": null,
   "metadata": {
    "tags": []
   },
   "outputs": [],
   "source": [
    "topfolder = os.path.join(cfg.path.c, 'conical') # this is the parent folder that holds everything\n",
    "ii = 252\n",
    "sigma = 0\n",
    "f = nc.Fluid(units=\"Pa\", label='', tau0=10, k=3.75, n=0.45, nu0=10**4)\n",
    "innerdiams = [ 0.413, 0.26]\n",
    "widths = [ 0.152, 0.127]\n",
    "nc.genericExport(ii, f, f, sigma, topfolder, exportMesh=True, folderBase=\"cn\"\n",
    "                         , bathHeight=10, bathWidth=16,  nozzleAngle=0, slurmFolder='/working/lmf1/conical'\n",
    "                        , vink=10*0.838/0.603, vbath=10*0.838/0.603, nozzleInnerWidth=0.838, nozzleThickness=0.216)\n",
    "ii+=1\n",
    "for i,diam in enumerate(innerdiams):\n",
    "    nc.genericExport(ii, f, f, sigma, topfolder, exportMesh=True, folderBase=\"cn\"\n",
    "                         , bathHeight=10, bathWidth=16,  nozzleAngle=0, slurmFolder='/working/lmf1/conical'\n",
    "                        , vink=10*diam/0.603, vbath=10*diam/0.603, meshSize=0.2, nozzleInnerWidth=diam, nozzleThickness=widths[i])\n",
    "    ii+=1"
   ]
  },
  {
   "cell_type": "markdown",
   "metadata": {},
   "source": [
    "#### Newtonian diameter sweep, relative speed, mixed mesh"
   ]
  },
  {
   "cell_type": "code",
   "execution_count": null,
   "metadata": {
    "tags": []
   },
   "outputs": [],
   "source": [
    "topfolder = os.path.join(cfg.path.c, 'conical') # this is the parent folder that holds everything\n",
    "ii = 255\n",
    "sigma = 0\n",
    "f = nc.Fluid(units=\"Pa\", label='', nu=10)\n",
    "nc.genericExport(ii, f, f, sigma, topfolder, exportMesh=True, folderBase=\"cn\"\n",
    "                         , bathHeight=10, bathWidth=16,  nozzleAngle=0, slurmFolder='/working/lmf1/conical'\n",
    "                        , vink=10*0.838/0.603, vbath=10*0.838/0.603, nozzleInnerWidth=0.838, nozzleThickness=0.216)"
   ]
  },
  {
   "cell_type": "markdown",
   "metadata": {
    "jp-MarkdownHeadingCollapsed": true,
    "tags": []
   },
   "source": [
    "## Laponite"
   ]
  },
  {
   "cell_type": "code",
   "execution_count": null,
   "metadata": {
    "tags": []
   },
   "outputs": [],
   "source": [
    "topfolder = os.path.join(cfg.path.c, 'LapRDTall') # this is the parent folder that holds everything\n",
    "ii = 1136\n",
    "sigma = 0\n",
    "\n",
    "LapRD225 = nc.Fluid(units=\"Pa\", label='LapRD_2.25', tau0=0.21394, k=3.248436, n=0.14201, nu0=4.05384)\n",
    "LapRD250 = nc.Fluid(units=\"Pa\", label='LapRD_2.50', tau0=0.82365, k=9.692119, n=0.112515, nu0=11.8239)\n",
    "LapRD275 = nc.Fluid(units=\"Pa\", label='LapRD_2.75', tau0=2.07291, k=22.74276, n=0.054603, nu0=22.6813)\n",
    "LapRD300 = nc.Fluid(units=\"Pa\", label='LapRD_3.00', tau0=6.72765, k=75.69318, n=0.022874, nu0=73.66575)\n",
    "LapRD350 = nc.Fluid(units=\"Pa\", label='LapRD_3.50', tau0=26.8672, k=182.7635, n=0, nu0=99.1863)\n",
    "LapRD400 = nc.Fluid(units=\"Pa\", label='LapRD_4.00', tau0=93.9063, k=181.8893, n=0.021436, nu0=219.404)\n",
    "\n",
    "inks = [LapRD225, LapRD250, LapRD275, LapRD300, LapRD350, LapRD400]\n",
    "\n",
    "for link in inks:\n",
    "    for lsup in inks:\n",
    "        nc.genericExport(ii, lsup, link, sigma, topfolder, exportMesh=False)\n",
    "        ii+=1"
   ]
  },
  {
   "cell_type": "markdown",
   "metadata": {
    "jp-MarkdownHeadingCollapsed": true,
    "tags": []
   },
   "source": [
    "## Viscosity sweep"
   ]
  },
  {
   "cell_type": "markdown",
   "metadata": {},
   "source": [
    "#### fine Newtonian resolution sweep"
   ]
  },
  {
   "cell_type": "code",
   "execution_count": null,
   "metadata": {
    "tags": []
   },
   "outputs": [],
   "source": [
    "topfolder = os.path.join(cfg.path.c, 'NewtFine') # this is the parent folder that holds everything\n",
    "if not os.path.exists(topfolder):\n",
    "    os.mkdir(topfolder)\n",
    "ii = 700\n",
    "\n",
    "newtinks = [nc.Fluid(units=\"Pa\", label='10^'+str(i), nu=10**i) for i in np.arange(-0.5, 5.5,1)]\n",
    "newtsups = [nc.Fluid(units=\"Pa\", label='10^'+str(i), nu=10**i) for i in [1,2]]\n",
    "\n",
    "for sigma in [0, 0.04]:\n",
    "    for link in newtinks:\n",
    "        for lsup in newtsups:\n",
    "            nc.genericExport(ii, lsup, link, sigma, topfolder, exportMesh=False, slurmFolder='/working/lmf1/NewtFine')\n",
    "            ii+=1"
   ]
  },
  {
   "cell_type": "markdown",
   "metadata": {},
   "source": [
    "#### find HB resolution sweep"
   ]
  },
  {
   "cell_type": "code",
   "execution_count": null,
   "metadata": {},
   "outputs": [],
   "source": []
  },
  {
   "cell_type": "code",
   "execution_count": null,
   "metadata": {
    "tags": []
   },
   "outputs": [],
   "source": [
    "topfolder = os.path.join(cfg.path.c, 'cromer') # this is the parent folder that holds everything\n",
    "ii = 0\n",
    "sigma = 0\n",
    "fHBlist = [nc.Fluid(units=\"Pa\", label='', tau0=10, k=3.75, n=0.45, nu0=10**4)]\n",
    "for f in fHBlist:\n",
    "    for angle in [0]:\n",
    "        nc.genericExport(ii, f, f, sigma, topfolder, exportMesh=True, folderBase=\"hb\"\n",
    "                         , bathHeight=7, bathWidth=16, bathDepth=7, nozzleAngle=angle, slurmFolder='/working/lmf1/conical'\n",
    "                        , vink=10, vbath=10)\n",
    "        ii+=1"
   ]
  },
  {
   "cell_type": "code",
   "execution_count": null,
   "metadata": {
    "tags": []
   },
   "outputs": [],
   "source": [
    "topfolder = os.path.join(cfg.path.c, 'cromer') # this is the parent folder that holds everything\n",
    "ii = 1\n",
    "sigma = 0\n",
    "fHBlist = [nc.Fluid(units=\"Pa\", label='', tau0=0.85, k=12.77, n=0.028341884, nu0=11.00009611)]\n",
    "for f in fHBlist:\n",
    "    for angle in [0]:\n",
    "        nc.genericExport(ii, f, f, sigma, topfolder, exportMesh=True, folderBase=\"hb\"\n",
    "                         , bathHeight=7, bathWidth=16, bathDepth=7, nozzleAngle=angle, slurmFolder='/working/lmf1/conical'\n",
    "                        , vink=10, vbath=10)\n",
    "        ii+=1"
   ]
  },
  {
   "cell_type": "code",
   "execution_count": null,
   "metadata": {
    "tags": []
   },
   "outputs": [],
   "source": [
    "topfolder = os.path.join(cfg.path.c, 'HBHBFine') # this is the parent folder that holds everything\n",
    "if not os.path.exists(topfolder):\n",
    "    os.mkdir(topfolder)\n",
    "ii = 724\n",
    "\n",
    "HBinks = [nc.Fluid(units=\"Pa\", label='10^'+str(i), nu0=10**i, tau0=10, k=3.75, n=0.45) for i in np.arange(-0.5, 5.5,1)]\n",
    "HBsups = [nc.Fluid(units=\"Pa\", label='10^'+str(i), nu0=10**i, tau0=10, k=3.75, n=0.45) for i in [1,2]]\n",
    "\n",
    "for sigma in [0, 0.04]:\n",
    "    for link in HBinks:\n",
    "        for lsup in HBsups:\n",
    "            nc.genericExport(ii, lsup, link, sigma, topfolder, exportMesh=False, slurmFolder='/working/lmf1/HBHBFine')\n",
    "            ii+=1"
   ]
  }
 ],
 "metadata": {
  "kernelspec": {
   "display_name": "Python 3 (ipykernel)",
   "language": "python",
   "name": "python3"
  },
  "language_info": {
   "codemirror_mode": {
    "name": "ipython",
    "version": 3
   },
   "file_extension": ".py",
   "mimetype": "text/x-python",
   "name": "python",
   "nbconvert_exporter": "python",
   "pygments_lexer": "ipython3",
   "version": "3.8.3"
  }
 },
 "nbformat": 4,
 "nbformat_minor": 4
}
