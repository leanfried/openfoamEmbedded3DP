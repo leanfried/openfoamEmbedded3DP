{
 "cells": [
  {
   "cell_type": "markdown",
   "id": "afacc0da",
   "metadata": {},
   "source": [
    "## Initialization"
   ]
  },
  {
   "cell_type": "code",
   "execution_count": 1,
   "id": "48bf0a8e",
   "metadata": {},
   "outputs": [],
   "source": [
    "%load_ext autoreload\n",
    "%autoreload 2"
   ]
  },
  {
   "cell_type": "code",
   "execution_count": 2,
   "id": "43c3de0f",
   "metadata": {},
   "outputs": [],
   "source": [
    "import os\n",
    "import sys\n",
    "import cv2 as cv\n",
    "from pylab import *\n",
    "import numpy as np\n",
    "import pandas as pd\n",
    "import matplotlib as mpl\n",
    "import matplotlib.pyplot as plt\n",
    "from matplotlib.pyplot import figure\n",
    "import seaborn as sns\n",
    "\n",
    "parentdir = os.path.dirname(os.getcwd())\n",
    "sys.path.append(os.path.join(parentdir, 'py'))\n",
    "sys.path.append(os.path.join(parentdir, 'paraviewscripts'))\n",
    "\n",
    "import folderparser as fp\n",
    "import folderscraper as fs\n",
    "import interfacemetrics as intm\n",
    "from interfacePlots import *\n",
    "from config import cfg"
   ]
  },
  {
   "cell_type": "code",
   "execution_count": 3,
   "id": "a3e66dda",
   "metadata": {},
   "outputs": [],
   "source": [
    "SERVERFOLDER = cfg.path.server\n",
    "EXPORTFOLDER = cfg.path.fig\n",
    "TOPFOLDER = SERVERFOLDER"
   ]
  },
  {
   "cell_type": "markdown",
   "id": "c6fb7642",
   "metadata": {},
   "source": [
    "## Legend Creation"
   ]
  },
  {
   "cell_type": "code",
   "execution_count": 4,
   "id": "843763f5",
   "metadata": {},
   "outputs": [],
   "source": [
    "o = []\n",
    "folders = SERVERFOLDER\n",
    "for topfolder in [folders]:\n",
    "    for f in fp.caseFolders(topfolder):\n",
    "        fs.populate(f) # adds times to legends\n",
    "        l = fp.legendUnique(f)\n",
    "        if len(l)>0:\n",
    "            o.append(l)\n",
    "p = pd.DataFrame(o) # compiles all legends\n",
    "p.to_csv(r'\\\\cfs2e.nist.gov\\642\\NIST_Projects\\Additive Manufacturing and Rheology\\OpenFOAM\\simulations\\viscositysweep\\adjacent\\legend_mesh.csv')"
   ]
  },
  {
   "cell_type": "code",
   "execution_count": 5,
   "id": "60df8841",
   "metadata": {},
   "outputs": [],
   "source": [
    "o = []\n",
    "for topfolder in [SERVERFOLDER]:\n",
    "    for f in fp.caseFolders(topfolder):\n",
    "        l = fp.legendUnique(os.path.join(topfolder, f))\n",
    "        if len(l)>0:\n",
    "            o.append(l)\n",
    "p = pd.DataFrame(o)\n",
    "p.to_csv(os.path.join(SERVERFOLDER, 'legend_general.csv'))"
   ]
  },
  {
   "cell_type": "markdown",
   "id": "aa5ede5e",
   "metadata": {},
   "source": [
    "## Visualizations"
   ]
  },
  {
   "cell_type": "code",
   "execution_count": 6,
   "id": "4717594b",
   "metadata": {},
   "outputs": [],
   "source": [
    "def getSweeps(TOPFOLDER:str, sims:List[List[int]]=[]):\n",
    "    '''breaks all sim folders into sweeps of matching simulations with different offsets if sims is empty\n",
    "    otherwise, uses the sweeps as declared by the lists in sims\n",
    "    returns list of lists of paths to the images folder for each sim'''\n",
    "    if sims:\n",
    "        folders = []\n",
    "        for j in sims:\n",
    "            sweep = []\n",
    "            for i in j:\n",
    "                sweep.append(os.path.join(TOPFOLDER,'aj'+str(i),'images'))\n",
    "            folders.append(sweep)\n",
    "        return folders\n",
    "    folders = [os.path.join(TOPFOLDER,i,'images') for i in fp.caseFolders(TOPFOLDER)]\n",
    "    fnames = [os.path.basename(os.path.dirname(i)) for i in folders]\n",
    "    fnums = [(int(i[2:])-1)//6 for i in fnames]\n",
    "    uniq = np.unique(fnums)\n",
    "    sweeps = [[] for i in range(len(uniq))]\n",
    "    for i,num in enumerate(fnums):\n",
    "        for j,sweep in enumerate(uniq):\n",
    "            if num==sweep:\n",
    "                sweeps[j].append(folders[i])\n",
    "    return sweeps"
   ]
  },
  {
   "cell_type": "code",
   "execution_count": 45,
   "id": "83f94dda",
   "metadata": {},
   "outputs": [],
   "source": [
    "def crossSectionsSweep(fname:str='cross_sections_sweep'):\n",
    "    '''plots crosss sections of ink, one column for each sweep'''\n",
    "    # plt.suptitle('Cross sections')\n",
    "    plt.suptitle('Offset (di)')\n",
    "    for k,sweep in enumerate(sweeps):\n",
    "        fsweep = [os.path.basename(os.path.dirname(i)) for i in sweep]\n",
    "        d = [int(i[2:]) for i in fsweep]\n",
    "        d = [(i-1)%6 for i in d]\n",
    "        d = [i+1 if i==5 else i for i in d]\n",
    "        d = [i*0.125+0.5 for i in d]\n",
    "\n",
    "        for j,folder in enumerate(sweep):\n",
    "            if os.path.exists(os.path.join(folder,'t025_x_alphaSlice_1.4.png')):\n",
    "                im = os.path.join(folder,'t025_x_alphaSlice_2.0.png')\n",
    "            else:\n",
    "                im = os.path.join(folder,'t020_x_alphaSlice_2.0.png')\n",
    "            plt.subplot(len(sweeps),7,k*7+j+1)\n",
    "            img = mpimg.imread(im)\n",
    "            plt.imshow(img[240:500, 480:740])\n",
    "            # plt.title(os.path.basename(os.path.dirname(os.path.dirname(im))))\n",
    "            plt.title(d[j])\n",
    "            plt.xticks([])\n",
    "            plt.yticks([])\n",
    "        # nb = [f for f in os.listdir(sweep[0]) if f.startswith('nb')]\n",
    "        # im = os.path.join(sweep[0],nb[0])\n",
    "            if os.path.exists(os.path.join(folder,'t025_x_alphaSlice_-4.0.png')):\n",
    "                im = os.path.join(folder,'t025_x_alphaSlice_-4.0.png')\n",
    "            else:\n",
    "                im = os.path.join(folder,'t020_x_alphaSlice_-4.0.png')\n",
    "        plt.subplot(len(sweeps),7,k*7+7)\n",
    "        img = mpimg.imread(im)\n",
    "        plt.imshow(img[240:500, 480:740])\n",
    "        # plt.title(nb[0].split('_')[0])\n",
    "        plt.title('Ideal')\n",
    "        plt.xticks([])\n",
    "        plt.yticks([])\n",
    "    plt.savefig(os.path.join(TOPFOLDER,'figures',fname))"
   ]
  },
  {
   "cell_type": "code",
   "execution_count": 8,
   "id": "5dc68697",
   "metadata": {},
   "outputs": [],
   "source": [
    "def crossSectionsNoExt(fname:str='cross_sections_no_extrusion'):\n",
    "    '''plots quality metrics for line disturbed by nozzle'''\n",
    "    plt.suptitle('Cross sections no extrusion')\n",
    "    folders = [os.path.join(TOPFOLDER, f, 'images') for f in ['aj16','aj22','aj16','aj40']]\n",
    "    nb = [f for folder in folders for f in os.listdir(folder) if f.startswith('nb')]\n",
    "    images = []\n",
    "    for i,f in enumerate(folders):\n",
    "        images.append(os.path.join(f, 't025_x_alphaSlice_1.4.png'))\n",
    "        images.append(os.path.join(f, nb[i]))\n",
    "    for i,im in enumerate(images):\n",
    "        plt.subplot(2,4,i+1)\n",
    "        img = mpimg.imread(im)\n",
    "        plt.imshow(img[240:500, 480:740])\n",
    "        if os.path.basename(im).startswith('nb'):\n",
    "            plt.title(os.path.basename(im).split('_')[0])\n",
    "        else:\n",
    "            plt.title(os.path.basename(os.path.dirname(os.path.dirname(im))))\n",
    "        plt.xticks([])\n",
    "        plt.yticks([])\n",
    "        if i==0:\n",
    "            plt.ylabel('0 vs 40 sigma (NN)', rotation=0)\n",
    "        elif i==4:\n",
    "            plt.ylabel('newt vs HB', rotation=0)\n",
    "    plt.savefig(os.path.join(TOPFOLDER,'figures',fname))"
   ]
  },
  {
   "cell_type": "code",
   "execution_count": 41,
   "id": "1995adea",
   "metadata": {},
   "outputs": [],
   "source": [
    "def crossSectionsModelSigma(fname:str='cross_sections_sweep'):\n",
    "    '''plots comparing interfacial tensions for each model'''\n",
    "    plt.suptitle('Cross sections')\n",
    "    ylabels = ['NN','HBHB','HBN','NHB']\n",
    "    xlabels = ['0','40']\n",
    "    \n",
    "    for k,sweep in enumerate(sweeps):\n",
    "        for j,folder in enumerate(sweep):\n",
    "            if os.path.exists(os.path.join(folder,'t025_x_alphaSlice_1.4.png')):\n",
    "                im = os.path.join(folder,'t025_x_alphaSlice_1.4.png')\n",
    "            else:\n",
    "                im = os.path.join(folder,'t020_x_alphaSlice_1.4.png')\n",
    "            plt.subplot(len(sweeps),2,k*2+j+1)\n",
    "            img = mpimg.imread(im)\n",
    "            plt.imshow(img[240:500, 480:740])\n",
    "            # plt.title(os.path.basename(os.path.dirname(os.path.dirname(im))))\n",
    "            plt.xticks([])\n",
    "            plt.yticks([])\n",
    "            if k==0:\n",
    "                # plt.title(xlabels[j]+'\\n'+os.path.basename(os.path.dirname(os.path.dirname(im))))\n",
    "                plt.title(xlabels[j])\n",
    "            if j==0:\n",
    "                plt.ylabel(ylabels[k])\n",
    "    plt.savefig(os.path.join(TOPFOLDER,'figures',fname))"
   ]
  },
  {
   "cell_type": "code",
   "execution_count": 10,
   "id": "d5edd795",
   "metadata": {},
   "outputs": [],
   "source": [
    "def crossSectionsModel(fname:str='cross_sections_sweep'):\n",
    "    '''plots comparing different models of ink and support'''\n",
    "    plt.suptitle('Cross sections')\n",
    "    xlabels = ['NN','HBHB','HBN','NHB']\n",
    "    \n",
    "    for k,sweep in enumerate(sweeps):\n",
    "        for j,folder in enumerate(sweep):\n",
    "            if os.path.exists(os.path.join(folder,'t025_x_alphaSlice_1.4.png')):\n",
    "                im = os.path.join(folder,'t025_x_alphaSlice_1.4.png')\n",
    "            else:\n",
    "                im = os.path.join(folder,'t015_x_alphaSlice_1.4.png')\n",
    "            plt.subplot(1,len(sweep),j+1)\n",
    "            img = mpimg.imread(im)\n",
    "            plt.imshow(img[240:500, 480:740])\n",
    "            # plt.title(os.path.basename(os.path.dirname(os.path.dirname(im))))\n",
    "            plt.xticks([])\n",
    "            plt.yticks([])\n",
    "            if k==0:\n",
    "                # plt.title(xlabels[j]+'\\n'+os.path.basename(os.path.dirname(os.path.dirname(im))))\n",
    "                plt.title(xlabels[j])\n",
    "    plt.savefig(os.path.join(TOPFOLDER,'figures',fname))"
   ]
  },
  {
   "cell_type": "markdown",
   "id": "5287accb",
   "metadata": {},
   "source": [
    "## Driver Code"
   ]
  },
  {
   "cell_type": "code",
   "execution_count": 49,
   "id": "488b5537",
   "metadata": {},
   "outputs": [
    {
     "data": {
      "image/png": "[encoded data removed]",
      "text/plain": [
       "<Figure size 720x144 with 6 Axes>"
      ]
     },
     "metadata": {},
     "output_type": "display_data"
    }
   ],
   "source": [
    "import matplotlib.image as mpimg\n",
    "\n",
    "sweeps = getSweeps(TOPFOLDER, sims=[[13,15,16,17,18]])\n",
    "plt.rcParams[\"figure.figsize\"] = (len(sweeps[0])*2,len(sweeps)*2)\n",
    "\n",
    "fig = plt.figure(facecolor='lightgrey')\n",
    "# plt.tight_layout()\n",
    "\n",
    "crossSectionsSweep(fname='NN0y0_sweep_cross_sections')"
   ]
  },
  {
   "cell_type": "code",
   "execution_count": 51,
   "id": "32dfca98",
   "metadata": {},
   "outputs": [
    {
     "data": {
      "image/png": "[encoded data removed]",
      "text/plain": [
       "<Figure size 172.8x288 with 8 Axes>"
      ]
     },
     "metadata": {},
     "output_type": "display_data"
    }
   ],
   "source": [
    "# sweeps = getSweeps(TOPFOLDER)\n",
    "sweeps = getSweeps(TOPFOLDER, sims=[[4,10],[28,34],[52,58],[76,82]])\n",
    "\n",
    "plt.rcParams[\"figure.figsize\"] = (len(sweeps[0])*1.2,len(sweeps)*1)\n",
    "fig = plt.figure(facecolor='lightgrey')\n",
    "plt.tight_layout()\n",
    "\n",
    "crossSectionsModelSigma(fname='models_sigmas_sweep_cross_sections')"
   ]
  },
  {
   "cell_type": "markdown",
   "id": "cc98dbb9",
   "metadata": {},
   "source": [
    "## Numerical Metrics"
   ]
  },
  {
   "cell_type": "code",
   "execution_count": 37,
   "id": "395b4f8b",
   "metadata": {},
   "outputs": [],
   "source": [
    "def plotMetrics(data:List[List[float]],cordata:List[List[float]],sweep:List[List[str]],nums:List[str],\n",
    "                d:List[float],j:int,k:int,nozline:bool=True):\n",
    "    '''plots fusion quality metrics'''\n",
    "    xvals = linspace(nums[0],nums[-1],len(data[0]))\n",
    "    \n",
    "    for l,metric in enumerate(metrics):\n",
    "        plt.subplot(len(sweeps),len(metrics),k*len(metrics)+l+1)\n",
    "        plt.plot(xvals, data[l], label=str(d[j]), color=colormap[j], linewidth=lw, alpha=alpha)\n",
    "        # plt.plot(xvals, data[l], label=os.path.basename(os.path.dirname(sweep[j])), color=colormap[j], linewidth=lw, alpha=alpha)\n",
    "        if 0<plt.ylim()[0]:\n",
    "            plt.ylim(ymin=0)\n",
    "            plt.ylim(ymax=0.67)\n",
    "        if l==0: # only add to left plots\n",
    "            plt.ylabel('Unitless')\n",
    "            # plt.ylabel(os.path.basename(os.path.dirname(sweep[0]))+'-'+os.path.basename(os.path.dirname(sweep[-1])))\n",
    "        if k==0: # only add to top plots\n",
    "            plt.title(metric)\n",
    "        if k==len(sweeps)-1: # only add to bottom plots\n",
    "            plt.xlabel('x bath pos (mm)')\n",
    "        if j==len(sweep)-1: # only add once per plot\n",
    "            plt.scatter(1.4, cordata[l], s=s, color='b', alpha=alpha)\n",
    "            if nozline==True:\n",
    "                plt.axvline(-3.167, label = 'Nozzle bounds', linestyle = '--', color = 'k')\n",
    "                plt.axvline(-1.657, linestyle = '--', color = 'k')\n",
    "            plt.legend(fontsize=9)\n",
    "        # if l==len(metrics)-1: # only add to right plots\n",
    "            # plt.legend(fontsize=9)\n",
    "        \n",
    "    # plt.legend(bbox_to_anchor=(1.8,1.0))"
   ]
  },
  {
   "cell_type": "code",
   "execution_count": 16,
   "id": "2ff19c87",
   "metadata": {},
   "outputs": [],
   "source": [
    "def metricsFullLine(fname='full_line_metrics'):\n",
    "    '''collects metrics for the full length of the bath'''\n",
    "    for k,sweep in enumerate(sweeps): # get metrics for all simulations\n",
    "        # get offset distances\n",
    "        fsweep = [os.path.basename(os.path.dirname(i)) for i in sweep]\n",
    "        d = [int(i[2:]) for i in fsweep]\n",
    "        d = [(i-1)%6 for i in d]\n",
    "        d = [i+1 if i==5 else i for i in d]\n",
    "        d = [i*0.125+0.5 for i in d]\n",
    "\n",
    "        for j,folder in enumerate(sweep):\n",
    "            images = [i for i in os.listdir(folder) if i.startswith(\"t025_x_alphaSlice_\")]\n",
    "            images2 = [i for i in os.listdir(folder) if i.startswith(\"t020_x_alphaSlice_\")] # for partially finished sims\n",
    "            images = images+images2\n",
    "            nums = [i.split('ice_')[1] for i in images]\n",
    "            nums = [i.split('.p')[0] for i in nums]\n",
    "            nums = np.asarray(nums, dtype=float)\n",
    "            idx = np.argsort(nums)\n",
    "            nums = [nums[i] for i in idx]\n",
    "            images = [images[i] for i in idx]\n",
    "\n",
    "            # metrics at each slice\n",
    "            aa = []; bb = []; cc = []; dd = []; ee = []; ff = []; gg = []\n",
    "            for image in images:\n",
    "                img = os.path.join(folder, image)\n",
    "                im = cv.imread(img)\n",
    "                if int(os.path.basename(os.path.dirname(folder))[2:])%24>11:\n",
    "                    aa.append(sm.getPerimeter(im,1))\n",
    "                else:\n",
    "                    aa.append(sm.getPerimeter(im,2))\n",
    "                bb.append(sm.getRoughness(im))\n",
    "                cc.append(sm.asymmetry(im,True)[0])\n",
    "                dd.append(sm.asymmetry(im,True)[1])\n",
    "                ee.append(sm.asymmetry(im,False)[0])\n",
    "                ff.append(sm.asymmetry(im,False)[1])\n",
    "                gg.append(sm.fused(im))\n",
    "\n",
    "            # comparisons with corresponding simulation\n",
    "            image1 = os.path.join(folder, 't025_x_alphaSlice_1.4.png')\n",
    "            image2 = [i for i in os.listdir(folder) if i.startswith(\"nb\")]\n",
    "            image2 = os.path.join(folder, image2[0])\n",
    "            im1 = cv.imread(image1)\n",
    "            im2 = cv.imread(image2)\n",
    "\n",
    "            # corresponding simulation\n",
    "            aa1 = sm.getPerimeter(im2,1)\n",
    "            bb1 = sm.getRoughness(im2)\n",
    "            cc1 = sm.asymmetry(im2,True)[0]\n",
    "            dd1 = sm.asymmetry(im2,True)[1]\n",
    "            ee1 = sm.asymmetry(im2,False)[0]\n",
    "            ff1 = sm.asymmetry(im2,False)[1]\n",
    "\n",
    "            dataDict = {'Normalized Perimeter':aa, 'Roughness':bb, 'Horizontal Asymmetry':cc, 'Horizontal Deviation':dd,\n",
    "                        'Vertical Asymmetry':ee, 'Vertical Deviation':ff}\n",
    "            cordataDict = {'Normalized Perimeter':aa1, 'Roughness':bb1, 'Horizontal Asymmetry':cc1, 'Horizontal Deviation':dd1,\n",
    "                        'Vertical Asymmetry':ee1, 'Vertical Deviation':ff1}\n",
    "            data = [dataDict[m] for m in metrics]\n",
    "            cordata = [cordataDict[m] for m in metrics]\n",
    "\n",
    "            plotMetrics(data,cordata,sweep,nums,d,j,k,True)\n",
    "    plt.savefig(os.path.join(TOPFOLDER,'figures',fname))"
   ]
  },
  {
   "cell_type": "code",
   "execution_count": 13,
   "id": "f852168c",
   "metadata": {},
   "outputs": [],
   "source": [
    "def metricsAfterNozzle(fname='after_nozzle_metrics'):\n",
    "    '''collects metrics for a line after being passed by the nozzle'''\n",
    "    for k,sweep in enumerate(sweeps): # get metrics for all simulations\n",
    "        # get offset distances\n",
    "        fsweep = [os.path.basename(os.path.dirname(i)) for i in sweep]\n",
    "        d = [int(i[2:]) for i in fsweep]\n",
    "        d = [(i-1)%6 for i in d]\n",
    "        d = [i+1 if i==5 else i for i in d]\n",
    "        d = [i*0.125+0.5 for i in d]\n",
    "\n",
    "        for j,folder in enumerate(sweep):\n",
    "            images = [i for i in os.listdir(folder) if i.startswith(\"t025_x_alphaSlice_\")]\n",
    "            images = [i for i in images if float(i.split('_')[-1].split('.png')[0])>=0]\n",
    "            \n",
    "            nums = [i.split('ice_')[1] for i in images]\n",
    "            nums = [i.split('.png')[0] for i in nums]\n",
    "            nums = np.asarray(nums, dtype=float)\n",
    "            idx = np.argsort(nums)\n",
    "            nums = [nums[i] for i in idx]\n",
    "            images = [images[i] for i in idx]\n",
    "\n",
    "            # metrics at each slice\n",
    "            aa = []; bb = []; cc = []; dd = []; ee = []; ff = []; gg = []\n",
    "            for image in images:\n",
    "                img = os.path.join(folder, image)\n",
    "                im = cv.imread(img)\n",
    "                if int(os.path.basename(os.path.dirname(folder))[2:])%24>11:\n",
    "                    aa.append(sm.getPerimeter(im,1))\n",
    "                else:\n",
    "                    aa.append(sm.getPerimeter(im,2))\n",
    "                bb.append(sm.getRoughness(im))\n",
    "                cc.append(sm.asymmetry(im,True)[0])\n",
    "                dd.append(sm.asymmetry(im,True)[1])\n",
    "                ee.append(sm.asymmetry(im,False)[0])\n",
    "                ff.append(sm.asymmetry(im,False)[1])\n",
    "                gg.append(sm.fused(im))\n",
    "\n",
    "            # comparisons with corresponding simulation\n",
    "            image1 = os.path.join(folder, 't025_x_alphaSlice_1.4.png')\n",
    "            image2 = [i for i in os.listdir(folder) if i.startswith(\"nb\")]\n",
    "            image2 = os.path.join(folder, image2[0])\n",
    "            im1 = cv.imread(image1)\n",
    "            im2 = cv.imread(image2)\n",
    "\n",
    "            # corresponding simulation\n",
    "            aa1 = sm.getPerimeter(im2,1)\n",
    "            bb1 = sm.getRoughness(im2)\n",
    "            cc1 = sm.asymmetry(im2,True)[0]\n",
    "            dd1 = sm.asymmetry(im2,True)[1]\n",
    "            ee1 = sm.asymmetry(im2,False)[0]\n",
    "            ff1 = sm.asymmetry(im2,False)[1]\n",
    "\n",
    "            data = [aa, bb, cc, ee]\n",
    "            cordata = [aa1, bb1, cc1, ee1]\n",
    "            # data = [aa, bb, cc, dd, ee, ff] # with deviations\n",
    "            # cordata = [aa1, bb1, cc1, dd1, ee1, ff1]\n",
    "\n",
    "            plotMetrics(data,cordata,sweep,nums,d,j,k,False)\n",
    "    plt.savefig(os.path.join(TOPFOLDER,'figures',fname))"
   ]
  },
  {
   "cell_type": "code",
   "execution_count": 14,
   "id": "c86f6126",
   "metadata": {},
   "outputs": [],
   "source": [
    "def metricsNoExt(fname='no_extrusion_metrics'):\n",
    "    '''collects metrics for horizontal and vertical displacement\n",
    "    to be used with no extrusion sims'''\n",
    "    for k,sweep in enumerate(sweeps): # get metrics for all simulations\n",
    "        # get offset distances\n",
    "        fsweep = [os.path.basename(os.path.dirname(i)) for i in sweep]\n",
    "        d = [int(i[2:]) for i in fsweep]\n",
    "        d = [(i-1)%6 for i in d]\n",
    "        d = [i+1 if i==5 else i for i in d]\n",
    "        d = [i*0.125+0.5 for i in d]\n",
    "\n",
    "        aa = []\n",
    "        bb = []\n",
    "        for j,folder in enumerate(sweep):\n",
    "            image1 = os.path.join(folder, 't025_x_alphaSlice_1.4.png')\n",
    "            image2 = os.path.join(folder, 't025_x_alphaSlice_-4.0.png')\n",
    "            im1 = cv.imread(image1)\n",
    "            im2 = cv.imread(image2)\n",
    "            aa.append(sm.dispY(im1,im2,1))\n",
    "            bb.append(sm.dispZ(im1,im2,1))\n",
    "\n",
    "        data = [aa, bb]\n",
    "        plotNoExtMetrics(data)\n",
    "    plt.savefig(os.path.join(TOPFOLDER,'figures',fname))"
   ]
  },
  {
   "cell_type": "markdown",
   "id": "ff563bc2",
   "metadata": {},
   "source": [
    "## Driver code"
   ]
  },
  {
   "cell_type": "code",
   "execution_count": 38,
   "id": "bc401eca",
   "metadata": {
    "tags": []
   },
   "outputs": [
    {
     "data": {
      "image/png": "[encoded data removed]",
      "text/plain": [
       "<Figure size 576x259.2 with 2 Axes>"
      ]
     },
     "metadata": {},
     "output_type": "display_data"
    }
   ],
   "source": [
    "import sim_metrics as sm\n",
    "\n",
    "# go through each metric and plot each simulation within the sweep. One plot for each sweep.\n",
    "\n",
    "# metrics = ['Perimeter', 'Roughness', 'Horizontal Asymmetry', 'Vertical Asymmetry']\n",
    "metrics = ['Normalized Perimeter', 'Horizontal Asymmetry']\n",
    "# metrics = ['Perimeter', 'Roughness', 'Horizontal Symmetry', 'Horizontal Deviation', 'Vertical Symmetry', 'Vertical Deviation']\n",
    "\n",
    "# sweeps = getSweeps(TOPFOLDER) # all sims\n",
    "# sweeps = getSweeps(TOPFOLDER, sims=[[13,15,16,17,18]]) # NN0y0\n",
    "sweeps = getSweeps(TOPFOLDER, sims=[[1,3,4,5,6]]) # offsets NN0y, HBHB0y\n",
    "# sweeps = getSweeps(TOPFOLDER, sims=[[4,28,52,76]]) # models\n",
    "# sweeps = getSweeps(TOPFOLDER, sims = [[4,28,52,76],[10,34,58,82]]) # models and tensions\n",
    "\n",
    "sweeps = [s for s in sweeps if len(s)>1] # only offset sweeps\n",
    "\n",
    "# plot setup\n",
    "plt.rcParams[\"figure.figsize\"] = (len(metrics)*4,len(sweeps)*3.6)\n",
    "fig = plt.figure(facecolor='lightgrey')\n",
    "plt.style.use('seaborn-ticks')\n",
    "# plt.suptitle('Fusion Metrics')\n",
    "plt.tight_layout()\n",
    "colormap = sns.color_palette(\"magma\", n_colors=len(sweeps[0]))\n",
    "s = 50; lw = 2; alpha = 0.9\n",
    "s = 0 # remove point\n",
    "\n",
    "metricsFullLine(fname='offsets_NN0y_perimeter_horasym_FullNozzle')\n",
    "# metricsFullLine(fname='NN0y0_perimeter_horasym_FullNozzle')"
   ]
  },
  {
   "cell_type": "code",
   "execution_count": null,
   "id": "cff6cef7",
   "metadata": {},
   "outputs": [],
   "source": []
  }
 ],
 "metadata": {
  "kernelspec": {
   "display_name": "Python 3",
   "language": "python",
   "name": "python3"
  },
  "language_info": {
   "codemirror_mode": {
    "name": "ipython",
    "version": 3
   },
   "file_extension": ".py",
   "mimetype": "text/x-python",
   "name": "python",
   "nbconvert_exporter": "python",
   "pygments_lexer": "ipython3",
   "version": "3.8.3"
  }
 },
 "nbformat": 4,
 "nbformat_minor": 5
}
