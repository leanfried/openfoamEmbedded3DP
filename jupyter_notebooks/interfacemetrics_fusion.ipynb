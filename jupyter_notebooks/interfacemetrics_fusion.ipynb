{
 "cells": [
  {
   "cell_type": "markdown",
   "id": "14582a22",
   "metadata": {},
   "source": [
    "# Interface metrics: fusion between neighboring lines"
   ]
  },
  {
   "cell_type": "code",
   "execution_count": 4,
   "id": "78b593e5",
   "metadata": {
    "tags": []
   },
   "outputs": [
    {
     "name": "stdout",
     "output_type": "stream",
     "text": [
      "The autoreload extension is already loaded. To reload it, use:\n",
      "  %reload_ext autoreload\n"
     ]
    }
   ],
   "source": [
    "%load_ext autoreload\n",
    "%autoreload 2"
   ]
  },
  {
   "cell_type": "code",
   "execution_count": 5,
   "id": "80ca5214",
   "metadata": {
    "tags": []
   },
   "outputs": [],
   "source": [
    "import os\n",
    "import sys\n",
    "import cv2 as cv\n",
    "import numpy as np\n",
    "import pandas as pd\n",
    "import logging\n",
    "\n",
    "parentdir = os.path.dirname(os.getcwd())\n",
    "sys.path.append(os.path.join(parentdir, 'py'))\n",
    "\n",
    "import folder_scraper as fs\n",
    "from tools.config import cfg\n",
    "import file.file_handling as fh\n",
    "from folder_loop import folderLoop\n",
    "from summarize.sum_and_steady import *\n",
    "from plot.plot_adjacent import *\n",
    "from summarize.super_summary import superSummary\n",
    "from summarize.log_reader import logReader\n",
    "from summarize.legend_summary import legendSummary\n",
    "logger = logging.getLogger()\n",
    "logger.setLevel(logging.DEBUG)"
   ]
  },
  {
   "cell_type": "code",
   "execution_count": 6,
   "id": "a7c5b825",
   "metadata": {
    "tags": []
   },
   "outputs": [],
   "source": [
    "SERVERFOLDER = os.path.join(cfg.path.server, 'adjacent')\n",
    "EXPORTFOLDER = cfg.path.fig\n",
    "TOPFOLDER = SERVERFOLDER"
   ]
  },
  {
   "cell_type": "markdown",
   "id": "e768db02",
   "metadata": {},
   "source": [
    "# measure data"
   ]
  },
  {
   "cell_type": "markdown",
   "id": "89ddaefe-5369-43aa-bb83-79c16e3af635",
   "metadata": {},
   "source": [
    "## update legends"
   ]
  },
  {
   "cell_type": "code",
   "execution_count": null,
   "id": "dca0c787-307e-4c99-8455-2d69a78dc890",
   "metadata": {
    "tags": []
   },
   "outputs": [],
   "source": [
    "fs.populate(os.path.join(cfg.path.server, 'adjacent', 'aj355'))"
   ]
  },
  {
   "cell_type": "markdown",
   "id": "0400db89-c5fb-4c11-a0da-878b2ab5e8bf",
   "metadata": {},
   "source": [
    "## compile all data into one legend"
   ]
  },
  {
   "cell_type": "code",
   "execution_count": null,
   "id": "f8d1ba50-c55f-45c3-a7be-3c3482f7de25",
   "metadata": {
    "tags": []
   },
   "outputs": [],
   "source": [
    "legendSummary([os.path.join(cfg.path.server, 'adjacent')], os.path.join(cfg.path.fig, 'adjacent', 'legend_general.csv'))"
   ]
  },
  {
   "cell_type": "markdown",
   "id": "0e484fda-71a5-48d3-b484-7539981f67cd",
   "metadata": {},
   "source": [
    "## measure all cross sections at all times and positions"
   ]
  },
  {
   "cell_type": "code",
   "execution_count": null,
   "id": "fab0a335-61ef-4cdb-a144-f170476a4729",
   "metadata": {
    "tags": []
   },
   "outputs": [],
   "source": [
    "fl = folderLoop(os.path.join(cfg.path.server, 'adjacent'), sumAndSteadyAdjacent, overwrite=False)\n",
    "fl.run()"
   ]
  },
  {
   "cell_type": "markdown",
   "id": "89065b24-21fa-4744-97ab-d53a8d75f275",
   "metadata": {},
   "source": [
    "## read logs"
   ]
  },
  {
   "cell_type": "code",
   "execution_count": null,
   "id": "39484a87-ffd8-4e28-97b6-f8486322f779",
   "metadata": {
    "tags": []
   },
   "outputs": [],
   "source": [
    "fl = folderLoop(os.path.join(cfg.path.server, 'adjacent'), logReader, overwrite=False)\n",
    "fl.run()"
   ]
  },
  {
   "cell_type": "markdown",
   "id": "a3611884-cf7a-48ae-b6e8-d9fae8853e46",
   "metadata": {},
   "source": [
    "## summarize all data for a time and slice"
   ]
  },
  {
   "cell_type": "code",
   "execution_count": null,
   "id": "5186406d-5e7e-4b54-8769-f2c2f65617c9",
   "metadata": {
    "tags": []
   },
   "outputs": [],
   "source": [
    "ss = superSummary(os.path.join(cfg.path.server, 'adjacent')\n",
    "             , os.path.join(cfg.path.fig, 'adjacent')\n",
    "             , 2.5, 8, xunits='niw', overwrite=True)\n",
    "ss.getTable()"
   ]
  },
  {
   "cell_type": "code",
   "execution_count": null,
   "id": "4c5d48c6-c197-4cb3-b1e4-6fdadf189101",
   "metadata": {
    "tags": []
   },
   "outputs": [],
   "source": [
    "# initial cross-section shapes\n",
    "ss2 = superSummary(os.path.join(cfg.path.server, 'adjacent')\n",
    "             , os.path.join(cfg.path.fig, 'adjacent')\n",
    "             , 2.5, -3, xunits='niw', overwrite=True)\n",
    "ss2.getTable()"
   ]
  },
  {
   "cell_type": "markdown",
   "id": "71609139-679d-4861-87b6-34911a090d67",
   "metadata": {},
   "source": [
    "# plots"
   ]
  },
  {
   "cell_type": "markdown",
   "id": "07e903a8",
   "metadata": {},
   "source": [
    "## traces"
   ]
  },
  {
   "cell_type": "code",
   "execution_count": null,
   "id": "5722174d-13c3-47e6-a2aa-8bd97fc34084",
   "metadata": {
    "tags": []
   },
   "outputs": [],
   "source": [
    "sp1 = timeColorPlot(adjTracePlot, 0, 'maxheightn', export=True, overwrite=True)"
   ]
  },
  {
   "cell_type": "code",
   "execution_count": null,
   "id": "0061fd12-0d2c-4a08-8772-df98d3625d64",
   "metadata": {
    "tags": []
   },
   "outputs": [],
   "source": [
    "sp4 = timeColorPlot(adjTracePlot, 40, 'maxheightn', export=True, overwrite=True)"
   ]
  },
  {
   "cell_type": "code",
   "execution_count": null,
   "id": "ac6d2bd5-0c02-4295-918b-5ad0cd1e8635",
   "metadata": {
    "tags": []
   },
   "outputs": [],
   "source": [
    "sp2 = spacingColorPlot(adjTracePlot, 'maxheightn', export=True, overwrite=True, cname='viridis', legendCols=4)"
   ]
  },
  {
   "cell_type": "code",
   "execution_count": null,
   "id": "a20c9e45-6d86-4d80-8aae-84e7b354045c",
   "metadata": {
    "tags": []
   },
   "outputs": [],
   "source": [
    "sp2 = spacingColorPlot(adjTracePlot, 'emptiness', export=True, overwrite=True, cname='viridis', legendCols=4)"
   ]
  },
  {
   "cell_type": "code",
   "execution_count": null,
   "id": "363f52b2-699b-4d97-b563-9d49d48a5863",
   "metadata": {
    "tags": []
   },
   "outputs": [],
   "source": [
    "sp2 = spacingColorPlot(adjTracePlot, 'maxheightn', export=True, overwrite=True, cname='viridis')"
   ]
  },
  {
   "cell_type": "code",
   "execution_count": null,
   "id": "cbeecc3f-7dd2-4348-863d-b5aa50844768",
   "metadata": {
    "tags": []
   },
   "outputs": [],
   "source": [
    "spw = spacingColorPlot(adjTracePlot, 'maxwidthn', export=True, overwrite=True, cname='viridis')"
   ]
  },
  {
   "cell_type": "code",
   "execution_count": null,
   "id": "5a9cb78d-2f0e-4d98-8ee3-f74225d83260",
   "metadata": {
    "tags": []
   },
   "outputs": [],
   "source": [
    "spw = spacingColorPlot(adjTracePlot, 'maxwidthn', export=True, overwrite=True, cname='viridis')"
   ]
  },
  {
   "cell_type": "markdown",
   "id": "c24efbfd-42ba-4fa4-88e3-0522d4fef149",
   "metadata": {},
   "source": [
    "## convergence"
   ]
  },
  {
   "cell_type": "code",
   "execution_count": null,
   "id": "9452f634-9e8c-43b5-ac73-cb2b71606e8a",
   "metadata": {
    "tags": []
   },
   "outputs": [],
   "source": [
    "cp1 = spacingSplitPlots(adjConvergencePlot, export=True, overwrite=True)"
   ]
  },
  {
   "cell_type": "code",
   "execution_count": null,
   "id": "a89cf39b-ae09-4881-af10-1f7211dd456d",
   "metadata": {
    "tags": []
   },
   "outputs": [],
   "source": [
    "cp2 = mismatchModelPlot(adjConvergencePlot, export=True, overwrite=True)"
   ]
  },
  {
   "cell_type": "markdown",
   "id": "413dd82b-9c03-407b-a39b-45957b81d62e",
   "metadata": {},
   "source": [
    "## summary values"
   ]
  },
  {
   "cell_type": "code",
   "execution_count": null,
   "id": "635bbae3-14cd-476a-8b2a-40800b037af7",
   "metadata": {
    "tags": []
   },
   "outputs": [],
   "source": [
    "afuse = adjSSPlot(['roughness','emptiness'], overwrite=True, export=True)"
   ]
  },
  {
   "cell_type": "code",
   "execution_count": null,
   "id": "9332063f-283f-4fbe-a216-1b072b065655",
   "metadata": {
    "tags": []
   },
   "outputs": [],
   "source": [
    "asize = adjSSPlot(['maxwidthn', 'maxheightn', 'aspectration'], overwrite=True, export=True, insideLabels=True)"
   ]
  },
  {
   "cell_type": "code",
   "execution_count": null,
   "id": "3c43c86f-b702-4846-8781-0f42cbf8a9ec",
   "metadata": {
    "tags": []
   },
   "outputs": [],
   "source": [
    "ac = adjSSPlot(['centeryn', 'centerzn', 'emptiness'], overwrite=True, export=True)"
   ]
  },
  {
   "cell_type": "code",
   "execution_count": null,
   "id": "19a43784-9fe7-436b-aead-b39657f64042",
   "metadata": {
    "tags": []
   },
   "outputs": [],
   "source": [
    "ac = adjSSPlot(['asymmetryh', 'asymmetryv'], overwrite=True, export=True)"
   ]
  },
  {
   "cell_type": "markdown",
   "id": "2c7fa90b-e373-4201-b6de-9fa5a416d027",
   "metadata": {},
   "source": [
    "## xs"
   ]
  },
  {
   "cell_type": "code",
   "execution_count": null,
   "id": "44d58514-8a14-4c93-8847-075ca52b7ddd",
   "metadata": {
    "tags": []
   },
   "outputs": [],
   "source": [
    "fpNNxs = NNPlot(adjXSPlot, xr=[-1.3, 0.8], yr=[-1,1], overwrite=True, export=True, x2=8, insideLabels=False)"
   ]
  },
  {
   "cell_type": "code",
   "execution_count": null,
   "id": "a8507b71-6902-4e81-a1de-b2e4af52eb86",
   "metadata": {
    "tags": []
   },
   "outputs": [],
   "source": [
    "fpNNxsNoz = NNPlot(adjXSPlot, xr=[-1.3, 0.8], yr=[-1,1], overwrite=True, export=True, x2=0, plotNoz=True, insideLabels=False)"
   ]
  },
  {
   "cell_type": "code",
   "execution_count": null,
   "id": "70d8c15b-7238-4eb9-8afa-65e77c44bc65",
   "metadata": {
    "tags": []
   },
   "outputs": [],
   "source": [
    "fpHBHBxs = HBHBPlot(adjXSPlot, xr=[-1, 0.8], yr=[-1,0.8], overwrite=True, export=True, x2=8, insideLabels=False, plotArrows=False)"
   ]
  },
  {
   "cell_type": "code",
   "execution_count": null,
   "id": "cd428464-6681-46b6-9824-5dfd4b5c6541",
   "metadata": {
    "tags": []
   },
   "outputs": [],
   "source": [
    "fpHBHBxsNoz = HBHBPlot(adjXSPlot, xr=[-1, 0.8], yr=[-1,0.8], overwrite=True, export=True, x2=0, plotNoz=True, insideLabels=False)"
   ]
  },
  {
   "cell_type": "code",
   "execution_count": null,
   "id": "4ff40b9f-2f88-4be9-9c8a-1516f70735ea",
   "metadata": {
    "tags": []
   },
   "outputs": [],
   "source": [
    "fpRhexs = rhePlotWide(adjXSPlot, xr=[-1.1, 0.9], yr=[-0.9, 1], overwrite=True, export=True, insideLabels=False)"
   ]
  },
  {
   "cell_type": "code",
   "execution_count": null,
   "id": "d84e1ad5-9cca-4b2e-9805-4f151cd20956",
   "metadata": {
    "tags": []
   },
   "outputs": [],
   "source": [
    "fpRhexs = rhePlotWide(adjXSPlot, xr=[-1.1, 0.9], yr=[-0.9, 1], overwrite=True, export=True, x2=0, plotNoz=True, insideLabels=False)"
   ]
  },
  {
   "cell_type": "markdown",
   "id": "206f53c2-3aaa-47ba-9849-f58f74fc526e",
   "metadata": {},
   "source": [
    "## text plots"
   ]
  },
  {
   "cell_type": "code",
   "execution_count": null,
   "id": "340dad3f-40f3-4ec4-97de-32620f30132c",
   "metadata": {
    "tags": []
   },
   "outputs": [],
   "source": [
    "txtplots = triplePlot(adjTxtPlot, overwrite=True, display=True, export=True, legendCols=5, titley=1);"
   ]
  },
  {
   "cell_type": "code",
   "execution_count": null,
   "id": "b0f1b0e5-56b0-47a6-9edc-474c07e7c4dd",
   "metadata": {
    "tags": []
   },
   "outputs": [],
   "source": [
    "timeplots = triplePlot(adjTimePlot, overwrite=True, display=True, export=True, legendCols=5, titley=1);"
   ]
  },
  {
   "cell_type": "code",
   "execution_count": null,
   "id": "c9724b8c-8e8f-4d12-860f-140e73866b57",
   "metadata": {
    "tags": []
   },
   "outputs": [],
   "source": [
    "rateplots = tripleDList(adjRatePlot, overwrite=True, export=True, legendCols=5, titley=1, labelLocs='inside')"
   ]
  },
  {
   "cell_type": "code",
   "execution_count": null,
   "id": "7fb9affc-2660-4297-852c-2d356a0ed2b5",
   "metadata": {
    "tags": []
   },
   "outputs": [],
   "source": [
    "cellplots = tripleDList(adjCellsPlot, overwrite=True, export=True, legendCols=5, titley=1, labelLocs='inside')"
   ]
  },
  {
   "cell_type": "markdown",
   "id": "9e9e4b30-d658-4a28-8166-2e6f228170f9",
   "metadata": {},
   "source": [
    "## value plots"
   ]
  },
  {
   "cell_type": "code",
   "execution_count": null,
   "id": "34153f93-9ac7-4e38-adcd-f3f435c9bfe4",
   "metadata": {
    "tags": []
   },
   "outputs": [],
   "source": [
    "fpasymmetryvn = rhePlotWide(adjMetricPlot, 'asymmetryv', overwrite=True, export=True, imsize=3.25, legendy=-0.3)"
   ]
  },
  {
   "cell_type": "markdown",
   "id": "687e12de-a577-4796-9f7f-68a17d8168ed",
   "metadata": {},
   "source": [
    "## pic plots"
   ]
  },
  {
   "cell_type": "code",
   "execution_count": null,
   "id": "98f2a927-e6c3-43a7-bea6-a3c8a8476811",
   "metadata": {
    "tags": []
   },
   "outputs": [],
   "source": [
    "ppumagy = rhePlotWide(adjPicPlot, 'a_stre', display=True, export=True, overwrite=True)"
   ]
  },
  {
   "cell_type": "code",
   "execution_count": null,
   "id": "84042a38-8264-440a-a781-e9d9849c71e9",
   "metadata": {
    "tags": []
   },
   "outputs": [],
   "source": [
    "for s in ['x_shearStressNozx', 'x_shearStressx', 'y_shearStressy'\n",
    "          , 'x_shearRateNozx'\n",
    "          , 'x_viscx', 'y_viscy', 'x_viscNozx'\n",
    "          , 'pNozx', 'px'\n",
    "          , 'x_uyslicex', 'x_uysliceNozx']:\n",
    "    fivePlots(adjPicPlot, s, overwrite=False, export=True, display=False, time=2.5)"
   ]
  },
  {
   "cell_type": "markdown",
   "id": "e749e542-2ffa-4078-adf5-06327951099c",
   "metadata": {},
   "source": [
    "## export plots for every time step"
   ]
  },
  {
   "cell_type": "code",
   "execution_count": null,
   "id": "246c22df-b9f6-414f-8d3b-994bf82aaab9",
   "metadata": {
    "tags": []
   },
   "outputs": [],
   "source": [
    "for s in ['a_umag', 'y_umag']:\n",
    "    vidSeries(fivePlots, adjPicPlot, s)"
   ]
  },
  {
   "cell_type": "code",
   "execution_count": null,
   "id": "68e0a741-796d-4383-9838-871c34e87164",
   "metadata": {
    "tags": []
   },
   "outputs": [],
   "source": [
    "for s in ['a_umag', 'y_umag']:\n",
    "    vidSeries(fivePlots, adjPicPlot, s)"
   ]
  },
  {
   "cell_type": "code",
   "execution_count": 23,
   "id": "fa3b6a5e-5d8e-4ae5-af13-2ff1cfb2ec81",
   "metadata": {
    "tags": []
   },
   "outputs": [
    {
     "name": "stderr",
     "output_type": "stream",
     "text": [
      "INFO:root:Exported C:/Users/lmf1/OneDriveNIST/NIST/data/openfoam/summaries\\vidframes\\adjacent\\plots\\pic_a_umag_0.0_adjacent_x_iv_y_Ddir_spacing_0.875_ink_tm_N_sup_tm_N_makeXLabels_False_makeYLabels_False_makeTitle_False\n",
      "INFO:root:Exported C:/Users/lmf1/OneDriveNIST/NIST/data/openfoam/summaries\\vidframes\\adjacent\\plots\\pic_a_umag_0.1_adjacent_x_iv_y_Ddir_spacing_0.875_ink_tm_N_sup_tm_N_makeXLabels_False_makeYLabels_False_makeTitle_False\n",
      "INFO:root:Exported C:/Users/lmf1/OneDriveNIST/NIST/data/openfoam/summaries\\vidframes\\adjacent\\plots\\pic_a_umag_0.2_adjacent_x_iv_y_Ddir_spacing_0.875_ink_tm_N_sup_tm_N_makeXLabels_False_makeYLabels_False_makeTitle_False\n",
      "INFO:root:Exported C:/Users/lmf1/OneDriveNIST/NIST/data/openfoam/summaries\\vidframes\\adjacent\\plots\\pic_a_umag_0.3_adjacent_x_iv_y_Ddir_spacing_0.875_ink_tm_N_sup_tm_N_makeXLabels_False_makeYLabels_False_makeTitle_False\n",
      "INFO:root:Exported C:/Users/lmf1/OneDriveNIST/NIST/data/openfoam/summaries\\vidframes\\adjacent\\plots\\pic_a_umag_0.4_adjacent_x_iv_y_Ddir_spacing_0.875_ink_tm_N_sup_tm_N_makeXLabels_False_makeYLabels_False_makeTitle_False\n",
      "INFO:root:Exported C:/Users/lmf1/OneDriveNIST/NIST/data/openfoam/summaries\\vidframes\\adjacent\\plots\\pic_a_umag_0.5_adjacent_x_iv_y_Ddir_spacing_0.875_ink_tm_N_sup_tm_N_makeXLabels_False_makeYLabels_False_makeTitle_False\n",
      "INFO:root:Exported C:/Users/lmf1/OneDriveNIST/NIST/data/openfoam/summaries\\vidframes\\adjacent\\plots\\pic_a_umag_0.6_adjacent_x_iv_y_Ddir_spacing_0.875_ink_tm_N_sup_tm_N_makeXLabels_False_makeYLabels_False_makeTitle_False\n",
      "INFO:root:Exported C:/Users/lmf1/OneDriveNIST/NIST/data/openfoam/summaries\\vidframes\\adjacent\\plots\\pic_a_umag_0.7_adjacent_x_iv_y_Ddir_spacing_0.875_ink_tm_N_sup_tm_N_makeXLabels_False_makeYLabels_False_makeTitle_False\n",
      "INFO:root:Exported C:/Users/lmf1/OneDriveNIST/NIST/data/openfoam/summaries\\vidframes\\adjacent\\plots\\pic_a_umag_0.8_adjacent_x_iv_y_Ddir_spacing_0.875_ink_tm_N_sup_tm_N_makeXLabels_False_makeYLabels_False_makeTitle_False\n",
      "INFO:root:Exported C:/Users/lmf1/OneDriveNIST/NIST/data/openfoam/summaries\\vidframes\\adjacent\\plots\\pic_a_umag_0.9_adjacent_x_iv_y_Ddir_spacing_0.875_ink_tm_N_sup_tm_N_makeXLabels_False_makeYLabels_False_makeTitle_False\n",
      "INFO:root:Exported C:/Users/lmf1/OneDriveNIST/NIST/data/openfoam/summaries\\vidframes\\adjacent\\plots\\pic_a_umag_1.0_adjacent_x_iv_y_Ddir_spacing_0.875_ink_tm_N_sup_tm_N_makeXLabels_False_makeYLabels_False_makeTitle_False\n",
      "INFO:root:Exported C:/Users/lmf1/OneDriveNIST/NIST/data/openfoam/summaries\\vidframes\\adjacent\\plots\\pic_a_umag_1.1_adjacent_x_iv_y_Ddir_spacing_0.875_ink_tm_N_sup_tm_N_makeXLabels_False_makeYLabels_False_makeTitle_False\n",
      "INFO:root:Exported C:/Users/lmf1/OneDriveNIST/NIST/data/openfoam/summaries\\vidframes\\adjacent\\plots\\pic_a_umag_1.2_adjacent_x_iv_y_Ddir_spacing_0.875_ink_tm_N_sup_tm_N_makeXLabels_False_makeYLabels_False_makeTitle_False\n",
      "INFO:root:Exported C:/Users/lmf1/OneDriveNIST/NIST/data/openfoam/summaries\\vidframes\\adjacent\\plots\\pic_a_umag_1.3_adjacent_x_iv_y_Ddir_spacing_0.875_ink_tm_N_sup_tm_N_makeXLabels_False_makeYLabels_False_makeTitle_False\n",
      "INFO:root:Exported C:/Users/lmf1/OneDriveNIST/NIST/data/openfoam/summaries\\vidframes\\adjacent\\plots\\pic_a_umag_1.4_adjacent_x_iv_y_Ddir_spacing_0.875_ink_tm_N_sup_tm_N_makeXLabels_False_makeYLabels_False_makeTitle_False\n",
      "INFO:root:Exported C:/Users/lmf1/OneDriveNIST/NIST/data/openfoam/summaries\\vidframes\\adjacent\\plots\\pic_a_umag_1.5_adjacent_x_iv_y_Ddir_spacing_0.875_ink_tm_N_sup_tm_N_makeXLabels_False_makeYLabels_False_makeTitle_False\n",
      "INFO:root:Exported C:/Users/lmf1/OneDriveNIST/NIST/data/openfoam/summaries\\vidframes\\adjacent\\plots\\pic_a_umag_1.6_adjacent_x_iv_y_Ddir_spacing_0.875_ink_tm_N_sup_tm_N_makeXLabels_False_makeYLabels_False_makeTitle_False\n",
      "INFO:root:Exported C:/Users/lmf1/OneDriveNIST/NIST/data/openfoam/summaries\\vidframes\\adjacent\\plots\\pic_a_umag_1.7_adjacent_x_iv_y_Ddir_spacing_0.875_ink_tm_N_sup_tm_N_makeXLabels_False_makeYLabels_False_makeTitle_False\n",
      "INFO:root:Exported C:/Users/lmf1/OneDriveNIST/NIST/data/openfoam/summaries\\vidframes\\adjacent\\plots\\pic_a_umag_1.8_adjacent_x_iv_y_Ddir_spacing_0.875_ink_tm_N_sup_tm_N_makeXLabels_False_makeYLabels_False_makeTitle_False\n",
      "INFO:root:Exported C:/Users/lmf1/OneDriveNIST/NIST/data/openfoam/summaries\\vidframes\\adjacent\\plots\\pic_a_umag_1.9_adjacent_x_iv_y_Ddir_spacing_0.875_ink_tm_N_sup_tm_N_makeXLabels_False_makeYLabels_False_makeTitle_False\n",
      "INFO:root:Exported C:/Users/lmf1/OneDriveNIST/NIST/data/openfoam/summaries\\vidframes\\adjacent\\plots\\pic_a_umag_2.0_adjacent_x_iv_y_Ddir_spacing_0.875_ink_tm_N_sup_tm_N_makeXLabels_False_makeYLabels_False_makeTitle_False\n",
      "INFO:root:Exported C:/Users/lmf1/OneDriveNIST/NIST/data/openfoam/summaries\\vidframes\\adjacent\\plots\\pic_a_umag_2.1_adjacent_x_iv_y_Ddir_spacing_0.875_ink_tm_N_sup_tm_N_makeXLabels_False_makeYLabels_False_makeTitle_False\n",
      "INFO:root:Exported C:/Users/lmf1/OneDriveNIST/NIST/data/openfoam/summaries\\vidframes\\adjacent\\plots\\pic_a_umag_2.2_adjacent_x_iv_y_Ddir_spacing_0.875_ink_tm_N_sup_tm_N_makeXLabels_False_makeYLabels_False_makeTitle_False\n",
      "INFO:root:Exported C:/Users/lmf1/OneDriveNIST/NIST/data/openfoam/summaries\\vidframes\\adjacent\\plots\\pic_a_umag_2.3_adjacent_x_iv_y_Ddir_spacing_0.875_ink_tm_N_sup_tm_N_makeXLabels_False_makeYLabels_False_makeTitle_False\n",
      "INFO:root:Exported C:/Users/lmf1/OneDriveNIST/NIST/data/openfoam/summaries\\vidframes\\adjacent\\plots\\pic_a_umag_2.4_adjacent_x_iv_y_Ddir_spacing_0.875_ink_tm_N_sup_tm_N_makeXLabels_False_makeYLabels_False_makeTitle_False\n",
      "INFO:root:Exported C:/Users/lmf1/OneDriveNIST/NIST/data/openfoam/summaries\\vidframes\\adjacent\\plots\\pic_a_umag_2.5_adjacent_x_iv_y_Ddir_spacing_0.875_ink_tm_N_sup_tm_N_makeXLabels_False_makeYLabels_False_makeTitle_False\n"
     ]
    }
   ],
   "source": [
    "vidSeries(orientationPlot, adjPicPlot, 'a_umag', makeLegend=False, makeXLabels=False, makeYLabels=False, makeTitle=False)"
   ]
  },
  {
   "cell_type": "code",
   "execution_count": null,
   "id": "f48b3a72-be7d-4994-b2f0-6642ac378ac5",
   "metadata": {},
   "outputs": [],
   "source": []
  }
 ],
 "metadata": {
  "kernelspec": {
   "display_name": "Python 3 (ipykernel)",
   "language": "python",
   "name": "python3"
  },
  "language_info": {
   "codemirror_mode": {
    "name": "ipython",
    "version": 3
   },
   "file_extension": ".py",
   "mimetype": "text/x-python",
   "name": "python",
   "nbconvert_exporter": "python",
   "pygments_lexer": "ipython3",
   "version": "3.8.3"
  }
 },
 "nbformat": 4,
 "nbformat_minor": 5
}
