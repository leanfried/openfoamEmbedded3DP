{
 "cells": [
  {
   "cell_type": "code",
   "execution_count": 1,
   "metadata": {},
   "outputs": [],
   "source": [
    "%load_ext autoreload\n",
    "%autoreload 2\n",
    "LOGGERDEFINED=False"
   ]
  },
  {
   "cell_type": "code",
   "execution_count": 2,
   "metadata": {},
   "outputs": [],
   "source": [
    "import os\n",
    "import sys\n",
    "sys.path.append(\"../\")\n",
    "sys.path.append(\"../py\")\n",
    "import folderparser as fp\n",
    "import folderscraper as fs\n",
    "import interfacemetrics as intm\n",
    "from interfacePlots import *\n",
    "from config import cfg\n",
    "LOGGERDEFINED = fp.openLog('interfacemetrics_viscsweep.ipynb', LOGGERDEFINED, level='DEBUG', exportLog=True)"
   ]
  },
  {
   "cell_type": "code",
   "execution_count": 3,
   "metadata": {},
   "outputs": [],
   "source": [
    "# source folder where all sim data is stored\n",
    "EFOLDERS = [os.path.join(cfg.path.server, 'viscositysweep', s) for s in ['HBnewtsweep', 'newtHBsweep', 'newtnewtsweep', 'HBHBsweep', 'NewtFine']]\n",
    "\n",
    "# folder to export summary tables, figures \n",
    "EXPORTFOLDER = os.path.join(cfg.path.fig, 'viscositysweep', 'plots')"
   ]
  },
  {
   "cell_type": "markdown",
   "metadata": {},
   "source": [
    "# Generating files"
   ]
  },
  {
   "cell_type": "markdown",
   "metadata": {},
   "source": [
    "### make a legend of all of the mesh refinement sims"
   ]
  },
  {
   "cell_type": "code",
   "execution_count": null,
   "metadata": {},
   "outputs": [],
   "source": [
    "import pandas as pd\n",
    "o = []\n",
    "for topfolder in [os.path.join(cfg.path.server, r'viscositysweep\\archive\\mesh refinement')]:\n",
    "    for f in fp.caseFolders(topfolder):\n",
    "        fs.populate(f)\n",
    "        l = fp.legendUnique(f)\n",
    "        if len(l)>0:\n",
    "            o.append(l)\n",
    "p = pd.DataFrame(o)\n",
    "p.to_csv(os.path.join(cfg.path.server, r'viscositysweep\\archive\\mesh refinement\\legend_mesh.csv'))"
   ]
  },
  {
   "cell_type": "markdown",
   "metadata": {},
   "source": [
    "### make a legend table of the newtFine folder"
   ]
  },
  {
   "cell_type": "code",
   "execution_count": null,
   "metadata": {},
   "outputs": [],
   "source": [
    "import pandas as pd\n",
    "o = []\n",
    "for topfolder in [os.path.join(cfg.path.server, 'viscositysweep', 'NewtFine')]:\n",
    "    for f in os.listdir(topfolder):\n",
    "        l = fp.legendUnique(os.path.join(topfolder, f))\n",
    "        if len(l)>0:\n",
    "            o.append(l)\n",
    "p = pd.DataFrame(o)\n",
    "p.to_csv(os.path.join(cfg.path.fig, 'viscositysweep', 'legend_newtfine.csv'))"
   ]
  },
  {
   "cell_type": "markdown",
   "metadata": {},
   "source": [
    "### make a legend of all simulations"
   ]
  },
  {
   "cell_type": "code",
   "execution_count": null,
   "metadata": {},
   "outputs": [],
   "source": [
    "import pandas as pd\n",
    "o = []\n",
    "for topfolder in EFOLDERS:\n",
    "    for f in os.listdir(topfolder):\n",
    "        l = fp.legendUnique(os.path.join(topfolder, f))\n",
    "        if len(l)>0:\n",
    "            o.append(l)\n",
    "p = pd.DataFrame(o)\n",
    "p.to_csv(os.path.join(cfg.fig, 'viscositysweep', 'legend_general.csv'))"
   ]
  },
  {
   "cell_type": "markdown",
   "metadata": {},
   "source": [
    "### summarize data in each folder"
   ]
  },
  {
   "cell_type": "code",
   "execution_count": null,
   "metadata": {
    "tags": []
   },
   "outputs": [],
   "source": [
    "for topfolder in [os.path.join(cfg.path.server, 'viscositysweep', 'NewtFine')]:\n",
    "    for folder in fp.caseFolders(topfolder):\n",
    "        intm.sumAndSteady(folder, False)"
   ]
  },
  {
   "cell_type": "markdown",
   "metadata": {},
   "source": [
    "### summarize the pressure differentials for all simulations into a table"
   ]
  },
  {
   "cell_type": "code",
   "execution_count": 7,
   "metadata": {},
   "outputs": [
    {
     "name": "stdout",
     "output_type": "stream",
     "text": [
      "Help on function linePressures in module plot_line:\n",
      "\n",
      "linePressures(topfolder: str, exportFolder: str, filename: str) -> dict\n",
      "    find pressure differential between upstream and downstream surface of nozzle along the line traces for all sims in folder and export\n",
      "\n"
     ]
    }
   ],
   "source": [
    "help(linePressures)"
   ]
  },
  {
   "cell_type": "code",
   "execution_count": null,
   "metadata": {},
   "outputs": [],
   "source": [
    "tt,u = linePressures(os.path.join(cfg.path.server, 'viscositysweep', 'newtnewtsweep'), os.path.join(cfg.path.fig, 'viscositysweep'), 'pressures.csv')"
   ]
  },
  {
   "cell_type": "markdown",
   "metadata": {},
   "source": [
    "### summarize the data for all sims and put it into a single table"
   ]
  },
  {
   "cell_type": "code",
   "execution_count": 8,
   "metadata": {},
   "outputs": [
    {
     "name": "stdout",
     "output_type": "stream",
     "text": [
      "Help on function summaryTable in module plot_metrics:\n",
      "\n",
      "summaryTable(topfolders: str, time: float, xbehind: float, exportFolder: str, filename: str = 'summaryTable') -> Tuple[pandas.core.frame.DataFrame, dict]\n",
      "    collect summary data for each topfolder and put it all into a table\n",
      "\n"
     ]
    }
   ],
   "source": [
    "help(summaryTable)"
   ]
  },
  {
   "cell_type": "code",
   "execution_count": null,
   "metadata": {},
   "outputs": [],
   "source": [
    "tt0,u0 = summaryTable(EFOLDERS, 2.5, 5, os.path.join(cfg.path.fig, 'viscositysweep'))"
   ]
  },
  {
   "cell_type": "markdown",
   "metadata": {},
   "source": [
    "# Plots"
   ]
  },
  {
   "cell_type": "code",
   "execution_count": 9,
   "metadata": {},
   "outputs": [
    {
     "name": "stdout",
     "output_type": "stream",
     "text": [
      "Help on function metricPlots in module plot_metrics:\n",
      "\n",
      "metricPlots(topFolder: str, exportFolder: str, time: float, xbehind: float, label: str, overwrite: bool = False, **kwargs) -> None\n",
      "    # metricPlots plots slice summaries as color density plots\n",
      "    topFolder is a full path name to the folder containing all the simulations\n",
      "    exportFolder is the folder to export plots to\n",
      "    time is the time since extrusion started in s\n",
      "    xbehind is the distance behind the center of the nozzle in mm\n",
      "    label is the column label, e.g. 'maxz'\n",
      "\n"
     ]
    }
   ],
   "source": [
    "help(metricPlots)"
   ]
  },
  {
   "cell_type": "code",
   "execution_count": null,
   "metadata": {},
   "outputs": [],
   "source": [
    "fullv = [10**i for i in range(-2, 6)]\n",
    "for TOPFOLDER in EFOLDERS:\n",
    "        xposition = 5\n",
    "        for t in [2.5]:\n",
    "            for s in [['arean', 1.0, 1.8]]:\n",
    "                metricPlots(TOPFOLDER, EXPORTFOLDER, t, xposition, s[0], xvar='nuink', yvar='nusup', split=True, sigmalist=[0,40], overwrite=True, nuinklist=fullv, nusuplist=fullv, adjustBounds=False, tmin=s[1], tmax=s[2])"
   ]
  },
  {
   "cell_type": "code",
   "execution_count": 10,
   "metadata": {},
   "outputs": [
    {
     "name": "stdout",
     "output_type": "stream",
     "text": [
      "Help on function steadyPlots in module plot_steady:\n",
      "\n",
      "steadyPlots(topFolder: str, imsize: int, exportFolder: str, sigmalist: List[float], overwrite: bool = False, **kwargs) -> None\n",
      "    steadyPlots plots all of the folders on one grid of plots, where color depends on surface tension\n",
      "    topFolder is the full path name to the folder that holds all of the folders\n",
      "    imsize is the size of each plot\n",
      "    exportFolder is the folder to export the plot to\n",
      "    sigmalist is a list of sigma values to include. This is most legible with only one sigma value.\n",
      "\n"
     ]
    }
   ],
   "source": [
    "help(steadyPlots)"
   ]
  },
  {
   "cell_type": "code",
   "execution_count": null,
   "metadata": {},
   "outputs": [],
   "source": [
    "fullv = [10**i for i in range(-2, 6)]\n",
    "for TOPFOLDER in EFOLDERS:\n",
    "        for sigma in [0, 40]:\n",
    "            imsize=1\n",
    "            steadyPlots(TOPFOLDER, imsize, EXPORTFOLDER, [sigma], xvar='nuink', yvar='nusup', overwrite=True, nuinklist=fullv, nusuplist=fullv, adjustBounds=False)"
   ]
  },
  {
   "cell_type": "code",
   "execution_count": 11,
   "metadata": {},
   "outputs": [
    {
     "name": "stdout",
     "output_type": "stream",
     "text": [
      "Help on function picPlots0 in module plot_pic:\n",
      "\n",
      "picPlots0(topFolder: str, exportFolder: str, time: float, sigma: float, tag: str = 'y_umag', overwrite: bool = False, imsize: float = 6.5, **kwargs) -> None\n",
      "    plot all pictures for simulations in a folder, but use automatic settings for cropping and spacing and export the result\n",
      "    topFolder is the folder that holds the simulations\n",
      "    exportFolder is the folder to export the images to\n",
      "    time is the time in s since flow started\n",
      "    sigma is the surface tension\n",
      "    tag is the name of the image type, e.g. 'y_umag'. Used to find images.\n",
      "    other kwargs can be used to style the plot\n",
      "\n"
     ]
    }
   ],
   "source": [
    "help(picPlots0)"
   ]
  },
  {
   "cell_type": "code",
   "execution_count": null,
   "metadata": {},
   "outputs": [],
   "source": [
    "for s in ['newtnewtsweep', 'controls']:\n",
    "    TOPFOLDER = os.path.join(cfg.path.server, 'viscositysweep', s)\n",
    "    xvar = 'nuink'\n",
    "    yvar = 'nusup'\n",
    "    fullv = [10**i for i in range(1, 6)]\n",
    "    t = 2.5\n",
    "    sigma = 0\n",
    "    suplist = [10**3]\n",
    "    for ta in ['y_py', 'x_uslicex', 'y_umag', 'y_uzslicey']:\n",
    "        picPlots0(TOPFOLDER, EXPORTFOLDER, t, sigma, tag=ta, xvar=xvar, yvar=yvar, overwrite=False, nuinklist=fullv, nusuplist=suplist, adjustBounds=False)"
   ]
  },
  {
   "cell_type": "code",
   "execution_count": 12,
   "metadata": {},
   "outputs": [
    {
     "name": "stdout",
     "output_type": "stream",
     "text": [
      "INFO: Exported C:/Users/lmf1/OneDriveNIST/NIST/data/openfoam/summaries\\viscositysweep\\plots\\newtnewtsweep\\pics_y_umag_t2.5_sigma_0_newtnewtsweep_xvar_nuink_yvar_nusup\n"
     ]
    }
   ],
   "source": [
    "for s in ['newtnewtsweep']:\n",
    "    TOPFOLDER = os.path.join(cfg.path.server, 'viscositysweep', s)\n",
    "    xvar = 'nuink'\n",
    "    yvar = 'nusup'\n",
    "    t = 2.5\n",
    "    cropx = 300/1216\n",
    "    cropy = 300/1216\n",
    "    crops = {'cropxl':150/1216, 'cropxr':1-450/1216, 'cropyb':1-cropy, 'cropyt':cropy}\n",
    "    picPlots0(TOPFOLDER, EXPORTFOLDER, t, 0, tag='y_umag', xvar=xvar, yvar=yvar, crops=crops, overwrite=True)"
   ]
  },
  {
   "cell_type": "code",
   "execution_count": 6,
   "metadata": {},
   "outputs": [
    {
     "name": "stdout",
     "output_type": "stream",
     "text": [
      "INFO: Exported C:/Users/lmf1/OneDriveNIST/NIST/data/openfoam/summaries\\viscositysweep\\plots\\newtnewtsweep\\pics_y_umag_t1_sigma_40_newtnewtsweep_xvar_nuink_yvar_nusup\n"
     ]
    }
   ],
   "source": [
    "for s in ['newtnewtsweep']:\n",
    "    TOPFOLDER = os.path.join(cfg.path.server, 'viscositysweep', s)\n",
    "    xvar = 'nuink'\n",
    "    yvar = 'nusup'\n",
    "    t = 1\n",
    "    cropx = 100/1216\n",
    "    cropy = 400/1216\n",
    "    crops = {'cropxl':cropx, 'cropxr':1-cropx, 'cropyb':1-cropy, 'cropyt':cropy}\n",
    "    picPlots0(TOPFOLDER, EXPORTFOLDER, t, 40, tag='y_umag', xvar=xvar, yvar=yvar, crops=crops, overwrite=True, imsize=12)"
   ]
  },
  {
   "cell_type": "code",
   "execution_count": null,
   "metadata": {},
   "outputs": [],
   "source": [
    "for s in ['newtnewtsweep']:\n",
    "    TOPFOLDER = os.path.join(cfg.path.server, 'viscositysweep', s)\n",
    "    xvar = 'nuink/nusup'\n",
    "    yvar = '1/nusup'\n",
    "    t = 1\n",
    "    sigma = 0\n",
    "    for ta in ['y_umag']:\n",
    "        picPlots0(TOPFOLDER, EXPORTFOLDER, t, sigma, tag=ta, xvar=xvar, yvar=yvar, overwrite=True, adjustBounds=True)"
   ]
  },
  {
   "cell_type": "code",
   "execution_count": null,
   "metadata": {},
   "outputs": [],
   "source": []
  },
  {
   "cell_type": "code",
   "execution_count": null,
   "metadata": {},
   "outputs": [],
   "source": [
    "fullv = [10**i for i in range(-2, 6)]\n",
    "TOPFOLDER = EFOLDERS[2]\n",
    "fig = XSPlots0(TOPFOLDER, EXPORTFOLDER, 2.5, 8\n",
    "         , xunits='nozzle_inner_width', \n",
    "         cvar='sigma', xvar='nuink', yvar='nusup', sigma_list=[0,40], color_list=['#3b4cc0', '#ee8468'])"
   ]
  },
  {
   "cell_type": "code",
   "execution_count": null,
   "metadata": {
    "scrolled": true
   },
   "outputs": [],
   "source": [
    "fullv = [10**i for i in range(-2, 6)]\n",
    "\n",
    "xvar = 'nuink'\n",
    "yvar = 'nusup'\n",
    "\n",
    "for TOPFOLDER in [EFOLDERS[0]]:\n",
    "    txtPlots0(TOPFOLDER, EXPORTFOLDER, xvar=xvar, yvar=yvar, overwrite=False)\n",
    "    timePlots(TOPFOLDER, EXPORTFOLDER, xvar=xvar, yvar=yvar, overwrite=False)\n",
    "    runtimePlots0(TOPFOLDER, EXPORTFOLDER, xvar=xvar, yvar=yvar, overwrite=False)\n",
    "    \n",
    "    xposition = 5\n",
    "    for t in [2.5]:\n",
    "        for s in [['arean', 0.7, 1.8], ['vertdispn', 0, 1], ['aspectratio', 0.6, 1.7], ['speeddecay', 0.5, 1.0]]:\n",
    "            metricPlots(TOPFOLDER, EXPORTFOLDER, t, xposition, s[0], xvar=xvar, yvar=yvar, split=True,\\\n",
    "                        sigmalist=[0,40], overwrite=False, nuinklist=fullv, nusuplist=fullv, \\\n",
    "                        adjustBounds=False, tmin=s[1], tmax=s[2])\n",
    "    for t in [0.5, 1, 2.5]:\n",
    "        for sigma in [0, 40]:\n",
    "            for ta in ['y_umag', 'y_viscy', 'y_uslicey', 'x_uslicex', 'x_viscx']:\n",
    "                picPlots0(TOPFOLDER, EXPORTFOLDER, t, sigma, tag=ta, xvar=xvar, yvar=yvar, overwrite=False,\\\n",
    "                          nuinklist=fullv, nusuplist=fullv, adjustBounds=False)\n",
    "    for t in [2.5]:\n",
    "        XSPlots0(TOPFOLDER, EXPORTFOLDER, t, xposition, [0, 40], xvar=xvar, yvar=yvar, overwrite=False,\\\n",
    "                 nuinklist=fullv, nusuplist=fullv, adjustBounds=False)\n",
    "    for sigma in [0, 40]:\n",
    "        imsize=1.3\n",
    "        steadyPlots(TOPFOLDER, imsize, EXPORTFOLDER, [sigma], xvar=xvar, yvar=yvar, overwrite=False, \\\n",
    "                    nuinklist=fullv, nusuplist=fullv, adjustBounds=False)"
   ]
  },
  {
   "cell_type": "code",
   "execution_count": null,
   "metadata": {
    "scrolled": true
   },
   "outputs": [],
   "source": [
    "fullv = [10**i for i in range(-2, 6)]\n",
    "\n",
    "xvar = 'nuink'\n",
    "yvar = 'nusup'\n",
    "\n",
    "for TOPFOLDER in EFOLDERS:\n",
    "    for t in range(0,26):\n",
    "        t = round(t/10, 1)\n",
    "        for sigma in [0, 40]:\n",
    "            for ta in ['y_umag']:\n",
    "                picPlots0(TOPFOLDER, EXPORTFOLDER, t, sigma, tag=ta, xvar=xvar, yvar=yvar, overwrite=False, nuinklist=fullv, nusuplist=fullv, adjustBounds=False, svg=False)"
   ]
  },
  {
   "cell_type": "markdown",
   "metadata": {},
   "source": [
    "### line trace plots"
   ]
  },
  {
   "cell_type": "code",
   "execution_count": null,
   "metadata": {},
   "outputs": [],
   "source": [
    "for mode in [0,1]:\n",
    "    flist = []\n",
    "    for f in [533, 37, 45, 53]:\n",
    "        flist.append(os.path.join(EFOLDERS[2], 'nb'+str(f)))\n",
    "    fig = linePlots(flist, intmp.divfunc, 1, 2.25, mode)\n",
    "        fig.savefig(os.path.join(EXPORTFOLDER, f'newtnewt_velz_t_1_x_1.5_div_sup100_sig_0_{mode}.svg'))"
   ]
  },
  {
   "cell_type": "code",
   "execution_count": null,
   "metadata": {},
   "outputs": [],
   "source": [
    "for mode in [0,1]:\n",
    "    flist = []\n",
    "    for f in [247, 241, 253]:\n",
    "        flist.append(os.path.join(EFOLDERS[0], 'nb'+str(f)))\n",
    "    fig = linePlots(flist, intmp.inkfunc, 1, 2.25, mode)\n",
    "    fig.savefig(os.path.join(EXPORTFOLDER, f'HBnewt_velz_t_1_x_1.5_inkv_sup100_sig_0_{mode}.svg'))"
   ]
  },
  {
   "cell_type": "code",
   "execution_count": null,
   "metadata": {},
   "outputs": [],
   "source": [
    "for mode in [0,1]:\n",
    "    flist = []\n",
    "    for f in [221, 227, 709]:\n",
    "        flist.append(os.path.join(EFOLDERS[1], 'nb'+str(f)))\n",
    "    fig = linePlots(flist, intmp.supfunc, 1, 2.25, mode)\n",
    "    fig.savefig(os.path.join(EXPORTFOLDER, f'newtHB_velz_t_1_x_1.5_supv_ink10_sig_0_{mode}.svg'))"
   ]
  },
  {
   "cell_type": "code",
   "execution_count": null,
   "metadata": {},
   "outputs": [],
   "source": [
    "flist = []\n",
    "#for f in [32, 42, 52, 62]:\n",
    "for f in [40,50,60]:\n",
    "    flist.append(os.path.join(TOPFOLDER, 'nb'+str(f)))\n",
    "fig = lineplots(flist, intmp.supfunc, 5, 2.25)\n",
    "fig.savefig(os.path.join(EXPORTFOLDER, 'velz_t_5_sup_div0.1_sig_40.svg'))\n"
   ]
  },
  {
   "cell_type": "code",
   "execution_count": null,
   "metadata": {},
   "outputs": [],
   "source": [
    "flist = []\n",
    "for f in [22, 40, 41]:\n",
    "    flist.append(os.path.join(TOPFOLDER, 'nb'+str(f)))\n",
    "fig = linePlots(flist, intmp.sigfunc, 5, 2.25)\n",
    "fig.saveFig(os.path.join(EXPORTFOLDER, 'velz_t_5_sig_div0.1_sup_1.svg'))"
   ]
  },
  {
   "cell_type": "markdown",
   "metadata": {},
   "source": [
    "### stability/steady state plots"
   ]
  },
  {
   "cell_type": "code",
   "execution_count": null,
   "metadata": {},
   "outputs": [],
   "source": [
    "# flist = []\n",
    "# for f in [50, 42, 62]:\n",
    "#     flist.append(os.path.join(TOPFOLDER, 'nb'+str(f)))\n",
    "flist = [os.path.join(EFOLDERS[2], 'nb37'), os.path.join(EFOLDERS[0], 'nb247')]\n",
    "for f in flist:\n",
    "    stabilityPlot(f, EXPORTFOLDER, 2.5, 3, export=True)"
   ]
  },
  {
   "cell_type": "code",
   "execution_count": null,
   "metadata": {},
   "outputs": [],
   "source": [
    "stabilityPlot(os.path.join(EFOLDERS[2], 'nb37'), EXPORTFOLDER, 2.5, 3, export=True)"
   ]
  },
  {
   "cell_type": "markdown",
   "metadata": {},
   "source": [
    "### plot correlations between dependent variables"
   ]
  },
  {
   "cell_type": "code",
   "execution_count": null,
   "metadata": {},
   "outputs": [],
   "source": [
    "fig, axs = plt.subplots(nrows=3, ncols=3,sharex='col', sharey='row',figsize=(6.5,6.5))\n",
    "cmap = plt.get_cmap('tab20c')\n",
    "\n",
    "for t in range(len(EFOLDERS)):\n",
    "    TOPFOLDER = EFOLDERS[t]\n",
    "    metrics = []\n",
    "    for f in os.listdir(TOPFOLDER):\n",
    "        try:\n",
    "            m = metricVals(os.path.join(TOPFOLDER, f), 2.5, 5, ['arean', 'vertdispn', 'aspectratio', 'speeddecay'])\n",
    "        except:\n",
    "            pass\n",
    "        else:\n",
    "            metrics.append(m)\n",
    "    df = pd.DataFrame(metrics)\n",
    "\n",
    "    df2 = df[df['arean']<3]\n",
    "    df2 = df2[df2['vertdispn']>-0.1]\n",
    "    df2 = df2[df2['vertdispn']<1.2]\n",
    "    df2 = df2[df2['speeddecay']<1.1]\n",
    "\n",
    "    slist = df.keys()\n",
    "    for i in range(4):\n",
    "        for j in range(i):\n",
    "            color = cmap(t/3)\n",
    "            if j==0 and i==1:\n",
    "                axs[j,i-1].scatter(df2[slist[i]], df2[slist[j]], s=5, color=color, label=os.path.basename(TOPFOLDER))\n",
    "            else:\n",
    "                axs[j,i-1].scatter(df2[slist[i]], df2[slist[j]], s=5, color=color)\n",
    "            axs[j,i-1].set_xlabel(slist[i])\n",
    "            axs[j,i-1].set_ylabel(slist[j])\n",
    "axs[0,0].legend()\n"
   ]
  },
  {
   "cell_type": "code",
   "execution_count": null,
   "metadata": {},
   "outputs": [],
   "source": [
    "intm.exportIm(os.path.join(EXPORTFOLDER, 'correlations'), fig)"
   ]
  },
  {
   "cell_type": "markdown",
   "metadata": {},
   "source": [
    "### plot pressure differential as a function of reynolds number"
   ]
  },
  {
   "cell_type": "code",
   "execution_count": null,
   "metadata": {},
   "outputs": [],
   "source": [
    "d = pd.read_csv(os.path.join(cfg.path.fig, 'viscositysweep', 'pressures.csv'),index_col=0, skiprows=[1])\n",
    "u = pd.read_csv(os.path.join(cfg.path.fig, 'viscositysweep', 'pressures.csv'), nrows=1)"
   ]
  },
  {
   "cell_type": "code",
   "execution_count": null,
   "metadata": {},
   "outputs": [],
   "source": [
    "d.sort_values(by='nusup', inplace=True)\n",
    "d['sup_Re'] = (1000*0.01*0.000907)/d['nusup']\n",
    "fig,ax = plt.subplots(1,1)\n",
    "d3 = d[d.dP>0]\n",
    "supre = d3.sup_Re.unique()\n",
    "p = [d3[d3.sup_Re==s].dP.mean() for s in supre]\n",
    "err = [d3[d3.sup_Re==s].dP.sem() for s in supre]\n",
    "coeffs = np.polyfit([np.log10(x) for x in supre], [np.log10(x) for x in p], 1)\n",
    "x = [10**i for i in range(-7,1)]\n",
    "ax.plot(x, [10**coeffs[1]*xi**coeffs[0] for xi in x], color='black')\n",
    "ax.errorbar(supre, p, yerr=err, color='black', linestyle='None', fmt='o')\n",
    "# ax.scatter(supre, p, color='black', linestyle='None')\n",
    "ax.set_xscale('log')\n",
    "ax.set_yscale('log')\n",
    "ax.set_ylim(10**-1, 10**7)\n",
    "ax.set_xlabel('Support Reynolds number')\n",
    "ax.set_ylabel('Pressure differential (Pa)')\n",
    "ax.set_aspect('equal', adjustable='box')\n",
    "ax.set_title('dP = {:0.2f}Re^{:0.2f} (Pa)'.format(10**coeffs[1], coeffs[0]))\n",
    "intm.exportIm(os.path.join(cfg.path.fig, 'viscositysweep', 'plots', 'newtnewtsweep', 'pressure'), fig)"
   ]
  },
  {
   "cell_type": "code",
   "execution_count": null,
   "metadata": {},
   "outputs": [],
   "source": [
    "d['sup_Re'] = (0.01*0.000907)/d['nusup']\n",
    "fig,ax = plt.subplots(1,1)\n",
    "d2 = d[d.dP<0]\n",
    "supre = d2.sup_Re.unique()\n",
    "p = [-d2[d2.sup_Re==s].dP.mean() for s in supre]\n",
    "err = [d2[d2.sup_Re==s].dP.sem() for s in supre]\n",
    "ax.errorbar(supre, p, yerr=err, color='black', linestyle='None', fmt='o')\n",
    "# ax.scatter(supre, p, color='black', linestyle='None')\n",
    "ax.set_xscale('log')\n",
    "ax.set_yscale('log')\n",
    "ax.set_ylim(10**-1, 10**7)\n",
    "ax.set_xlabel('Support Reynolds number')\n",
    "ax.set_ylabel('Pressure differential (Pa)')\n",
    "ax.set_aspect(1.0/ax.get_data_ratio(), adjustable='box')"
   ]
  }
 ],
 "metadata": {
  "kernelspec": {
   "display_name": "Python 3 (ipykernel)",
   "language": "python",
   "name": "python3"
  },
  "language_info": {
   "codemirror_mode": {
    "name": "ipython",
    "version": 3
   },
   "file_extension": ".py",
   "mimetype": "text/x-python",
   "name": "python",
   "nbconvert_exporter": "python",
   "pygments_lexer": "ipython3",
   "version": "3.8.3"
  }
 },
 "nbformat": 4,
 "nbformat_minor": 4
}
