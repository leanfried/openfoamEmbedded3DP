{
 "cells": [
  {
   "cell_type": "code",
   "execution_count": 1,
   "metadata": {},
   "outputs": [],
   "source": [
    "%load_ext autoreload\n",
    "%autoreload 2"
   ]
  },
  {
   "cell_type": "code",
   "execution_count": 2,
   "metadata": {},
   "outputs": [],
   "source": [
    "import os\n",
    "import sys\n",
    "parentdir = os.path.dirname(os.getcwd())\n",
    "sys.path.append(parentdir)\n",
    "sys.path.append(os.path.join(parentdir, 'py'))\n",
    "import ncreate3d as nc\n",
    "from config import cfg\n",
    "import plot_general as pg"
   ]
  },
  {
   "cell_type": "markdown",
   "metadata": {},
   "source": [
    "### Create nozzle geometry. This will export mesh variables"
   ]
  },
  {
   "cell_type": "code",
   "execution_count": 5,
   "metadata": {},
   "outputs": [
    {
     "name": "stdout",
     "output_type": "stream",
     "text": [
      "Help on function __init__ in module ncreate3d:\n",
      "\n",
      "__init__(self, bathWidth: float = 16, bathHeight: float = 7, bathDepth: float = 7, frontWidth: float = 4, vink: float = 10, vbath: float = 10, npts: int = 50, nozzleInnerWidth: float = 0.603, nozzleThickness: float = 0.152, nozzleAngle: float = 0, horizontal: bool = False, **kwargs)\n",
      "    Allowed input variables:\n",
      "    bathWidth: (default=16) bath width in nozzle inner diameters (x)\n",
      "    bathHeight: (default=7) bath height in nozzle inner diameters (y)\n",
      "    bathDepth: (default=7) bath depth in nozzle inner diameters (z)\n",
      "    frontWidth: (default=4) front of nozzle bath width in nozzle inner diameters\n",
      "    vink: (default=10) ink extrusion speed in mm/s\n",
      "    vbath: (default=10) bath translation speed in mm/s\n",
      "    npts: (default=50) number of points in the circle used to define the nozzle\n",
      "    nozzleInnerWidth: (default=0.603) inner diameter of the nozzle in mm\n",
      "    nozzleThickness: (default=0.152) nozzle wall thickness in mm\n",
      "    nozzleAngle: (default=0) nozzle angle in degrees\n",
      "    horizontal: (default=False) whether to have the nozzle horizontal\n",
      "\n"
     ]
    }
   ],
   "source": [
    "help(nc.NozVars.__init__)"
   ]
  },
  {
   "cell_type": "code",
   "execution_count": 6,
   "metadata": {},
   "outputs": [
    {
     "name": "stdout",
     "output_type": "stream",
     "text": [
      "Help on function genericMesh in module ncreate3d:\n",
      "\n",
      "genericMesh(parentFolder: str, **kwargs) -> ncreate3d.FileGroup\n",
      "    This generates a folder with mesh and geometry files, but nothing else important. If you want to customize the nozzle, input keyword variables. e.g. genericMesh(myFolder, bathWidth=16)\n",
      "\n"
     ]
    }
   ],
   "source": [
    "help(nc.genericMesh)"
   ]
  },
  {
   "cell_type": "code",
   "execution_count": null,
   "metadata": {
    "tags": []
   },
   "outputs": [],
   "source": [
    "fg = nc.genericMesh(os.path.join(cfg.path.c, 'LapRDTall'), npts=50, bathHeight=10, bathWidth=16) # generate mesh files\n",
    "fg.plot.savefig(os.path.join(cfg.path.fig, 'yieldingsweep','plots', 'LapRDTall', 'nozzleDiagramTall.png')) # export the diagram of the nozzle"
   ]
  },
  {
   "cell_type": "code",
   "execution_count": null,
   "metadata": {
    "tags": []
   },
   "outputs": [],
   "source": [
    "fg = nc.genericMesh(os.path.join(cfg.path.c, 'conical'), npts=50, bathDepth=16, bathHeight=10, nozzleAngle=10) # generate mesh files\n",
    "fg.plot.savefig(os.path.join(cfg.path.fig, 'conicalNozzle', 'plots', 'nozzleDiagram.svg')) # export the diagram of the nozzle"
   ]
  },
  {
   "cell_type": "code",
   "execution_count": null,
   "metadata": {
    "tags": []
   },
   "outputs": [],
   "source": [
    "fg = nc.genericMesh(os.path.join(cfg.path.c, 'nonozzle')) # generate mesh files"
   ]
  },
  {
   "cell_type": "markdown",
   "metadata": {},
   "source": [
    "## Generate simulation files"
   ]
  },
  {
   "cell_type": "markdown",
   "metadata": {},
   "source": [
    "Usage:\n",
    "<br>e.g. To create a Newtonian fluid of viscosity 1000 Pa s and density 1100 kg/m^3:\n",
    "<br>&nbsp;&nbsp;&nbsp;&nbsp;`myFluid = nc.Fluid(nu=1000, rho=1100, units='Pas')`\n",
    "<br>or to create a Newtonian fluid of viscosity 1000 Pa s and density 1000 kg/m^3:\n",
    "<br>&nbsp;&nbsp;&nbsp;&nbsp;`myFluid = nc.Fluid(nu=1000, units='Pa')`\n",
    "<br>e.g. To create a Herschel-Bulkley fluid of plateau viscosity 4 Pas, yield stress 1 Pa, consistency index 10, power law index 0.5:\n",
    "<br>&nbsp;&nbsp;&nbsp;&nbsp;`myFluid = nc.Fluid(nu0=4, tau0=1, k=10, n=0.5, units=\"Pa\")`\n",
    "<br>You can also give the fluid a label, but the label won't be used during file generation. You need to use it separately.\n",
    "<br>&nbsp;&nbsp;&nbsp;&nbsp;`myFluid = nc.Fluid(label='myLabel', nu0=4, tau0=1, k=10, n=0.5, units=\"Pa\")`\n",
    "<br><br>\n",
    "<br>Sigma must be in J/m^2 (e.g. 0.04 J/m^2)\n",
    "<br>To create a simulation folder, use genericExport.\n",
    "<br>&nbsp;&nbsp;&nbsp;&nbsp;`nc.genericExport(folderNumber, fluid1, fluid2, surfaceTension, parentFolder, exportMesh=False)`\n",
    "<br>To create a simulation folder with its own mesh files, use exportMesh=True.\n",
    "<br>&nbsp;&nbsp;&nbsp;&nbsp;`nc.genericExport(folderNumber, fluid1, fluid2, surfaceTension, parentFolder, exportMesh=True)`"
   ]
  },
  {
   "cell_type": "markdown",
   "metadata": {},
   "source": [
    "## adjacent"
   ]
  },
  {
   "cell_type": "code",
   "execution_count": 4,
   "metadata": {},
   "outputs": [
    {
     "name": "stdout",
     "output_type": "stream",
     "text": [
      "nb32\n"
     ]
    },
    {
     "name": "stderr",
     "output_type": "stream",
     "text": [
      "INFO:root:Created directory C:/Users/rtg2/Documents\\adjacent\\aj7\n",
      "INFO:root:Created directory C:/Users/rtg2/Documents\\adjacent\\aj7\\case\n",
      "INFO:root:Created directory C:/Users/rtg2/Documents\\adjacent\\aj7\\case\\0\n",
      "INFO:root:Created directory C:/Users/rtg2/Documents\\adjacent\\aj7\\case\\constant\n",
      "INFO:root:Created directory C:/Users/rtg2/Documents\\adjacent\\aj7\\case\\system\n",
      "INFO:root:Created directory C:/Users/rtg2/Documents\\adjacent\\aj7\\geometry\n",
      "INFO:root:Created directory C:/Users/rtg2/Documents\\adjacent\\aj7\\mesh\n",
      "INFO:root:Created directory C:/Users/rtg2/Documents\\adjacent\\aj7\\mesh\\constant\n",
      "INFO:root:Created directory C:/Users/rtg2/Documents\\adjacent\\aj7\\mesh\\constant\\triSurface\n",
      "INFO:root:Created directory C:/Users/rtg2/Documents\\adjacent\\aj7\\mesh\\system\n",
      "INFO:root:Created directory C:/Users/rtg2/Documents\\adjacent\\aj7\\mesh\\0\n",
      "INFO:root:Exported file C:/Users/rtg2/Documents\\adjacent\\aj7\\legend.csv\n",
      "INFO:root:Created directory C:/Users/rtg2/Documents\\adjacent\\aj8\n",
      "INFO:root:Created directory C:/Users/rtg2/Documents\\adjacent\\aj8\\case\n",
      "INFO:root:Created directory C:/Users/rtg2/Documents\\adjacent\\aj8\\case\\0\n",
      "INFO:root:Created directory C:/Users/rtg2/Documents\\adjacent\\aj8\\case\\constant\n",
      "INFO:root:Created directory C:/Users/rtg2/Documents\\adjacent\\aj8\\case\\system\n",
      "INFO:root:Created directory C:/Users/rtg2/Documents\\adjacent\\aj8\\geometry\n",
      "INFO:root:Created directory C:/Users/rtg2/Documents\\adjacent\\aj8\\mesh\n",
      "INFO:root:Created directory C:/Users/rtg2/Documents\\adjacent\\aj8\\mesh\\constant\n",
      "INFO:root:Created directory C:/Users/rtg2/Documents\\adjacent\\aj8\\mesh\\constant\\triSurface\n",
      "INFO:root:Created directory C:/Users/rtg2/Documents\\adjacent\\aj8\\mesh\\system\n",
      "INFO:root:Created directory C:/Users/rtg2/Documents\\adjacent\\aj8\\mesh\\0\n",
      "INFO:root:Exported file C:/Users/rtg2/Documents\\adjacent\\aj8\\legend.csv\n",
      "INFO:root:Created directory C:/Users/rtg2/Documents\\adjacent\\aj9\n",
      "INFO:root:Created directory C:/Users/rtg2/Documents\\adjacent\\aj9\\case\n",
      "INFO:root:Created directory C:/Users/rtg2/Documents\\adjacent\\aj9\\case\\0\n",
      "INFO:root:Created directory C:/Users/rtg2/Documents\\adjacent\\aj9\\case\\constant\n",
      "INFO:root:Created directory C:/Users/rtg2/Documents\\adjacent\\aj9\\case\\system\n",
      "INFO:root:Created directory C:/Users/rtg2/Documents\\adjacent\\aj9\\geometry\n",
      "INFO:root:Created directory C:/Users/rtg2/Documents\\adjacent\\aj9\\mesh\n",
      "INFO:root:Created directory C:/Users/rtg2/Documents\\adjacent\\aj9\\mesh\\constant\n",
      "INFO:root:Created directory C:/Users/rtg2/Documents\\adjacent\\aj9\\mesh\\constant\\triSurface\n",
      "INFO:root:Created directory C:/Users/rtg2/Documents\\adjacent\\aj9\\mesh\\system\n",
      "INFO:root:Created directory C:/Users/rtg2/Documents\\adjacent\\aj9\\mesh\\0\n",
      "INFO:root:Exported file C:/Users/rtg2/Documents\\adjacent\\aj9\\legend.csv\n",
      "INFO:root:Created directory C:/Users/rtg2/Documents\\adjacent\\aj11\n",
      "INFO:root:Created directory C:/Users/rtg2/Documents\\adjacent\\aj11\\case\n",
      "INFO:root:Created directory C:/Users/rtg2/Documents\\adjacent\\aj11\\case\\0\n",
      "INFO:root:Created directory C:/Users/rtg2/Documents\\adjacent\\aj11\\case\\constant\n",
      "INFO:root:Created directory C:/Users/rtg2/Documents\\adjacent\\aj11\\case\\system\n",
      "INFO:root:Created directory C:/Users/rtg2/Documents\\adjacent\\aj11\\geometry\n",
      "INFO:root:Created directory C:/Users/rtg2/Documents\\adjacent\\aj11\\mesh\n",
      "INFO:root:Created directory C:/Users/rtg2/Documents\\adjacent\\aj11\\mesh\\constant\n",
      "INFO:root:Created directory C:/Users/rtg2/Documents\\adjacent\\aj11\\mesh\\constant\\triSurface\n",
      "INFO:root:Created directory C:/Users/rtg2/Documents\\adjacent\\aj11\\mesh\\system\n",
      "INFO:root:Created directory C:/Users/rtg2/Documents\\adjacent\\aj11\\mesh\\0\n",
      "INFO:root:Exported file C:/Users/rtg2/Documents\\adjacent\\aj11\\legend.csv\n",
      "INFO:root:Created directory C:/Users/rtg2/Documents\\adjacent\\aj12\n",
      "INFO:root:Created directory C:/Users/rtg2/Documents\\adjacent\\aj12\\case\n",
      "INFO:root:Created directory C:/Users/rtg2/Documents\\adjacent\\aj12\\case\\0\n",
      "INFO:root:Created directory C:/Users/rtg2/Documents\\adjacent\\aj12\\case\\constant\n",
      "INFO:root:Created directory C:/Users/rtg2/Documents\\adjacent\\aj12\\case\\system\n",
      "INFO:root:Created directory C:/Users/rtg2/Documents\\adjacent\\aj12\\geometry\n",
      "INFO:root:Created directory C:/Users/rtg2/Documents\\adjacent\\aj12\\mesh\n",
      "INFO:root:Created directory C:/Users/rtg2/Documents\\adjacent\\aj12\\mesh\\constant\n",
      "INFO:root:Created directory C:/Users/rtg2/Documents\\adjacent\\aj12\\mesh\\constant\\triSurface\n",
      "INFO:root:Created directory C:/Users/rtg2/Documents\\adjacent\\aj12\\mesh\\system\n",
      "INFO:root:Created directory C:/Users/rtg2/Documents\\adjacent\\aj12\\mesh\\0\n",
      "INFO:root:Exported file C:/Users/rtg2/Documents\\adjacent\\aj12\\legend.csv\n"
     ]
    }
   ],
   "source": [
    "# file://cfs2e.nist.gov/642/NIST_Projects/Additive%20Manufacturing%20and%20Rheology/OpenFOAM/simulations/viscositysweep/\n",
    "# newtnewt\n",
    "aj = True\n",
    "rhoi = '1000'; rhos = '1000'; sigma = '0.04' # sigma 0 or '0.04'\n",
    "mi = 'Newtonian'; ms = 'Newtonian'\n",
    "nui = '0.001'; nus = '0.001' # Newt\n",
    "\n",
    "if aj:\n",
    "    ref = pg.extractSim(mi,ms,rhoi,rhos,sigma,nui=nui,nus=nus)\n",
    "    dist = [0.5, 0.625, 0.75, 1, 1.25]\n",
    "    print(ref)\n",
    "\n",
    "# dist = [0.875]\n",
    "topfolder = os.path.join(cfg.path.c, 'adjacent') # this is the parent folder that holds everything\n",
    "rf = os.path.join(r'\\\\cfs2e.nist.gov\\642\\NIST_Projects\\Additive Manufacturing and Rheology\\OpenFOAM\\simulations\\viscositysweep\\newtnewtsweep',ref)\n",
    "\n",
    "sigma = float(sigma); rho = float(rhoi)\n",
    "nu = float(nui)*10**3\n",
    "fluid = nc.Fluid(units = \"Pa\", label = '', nu = nu , rho = rho)\n",
    "\n",
    "iiList = [7,8,9,11,12]\n",
    "# iiList = [1000]\n",
    "for i,d in enumerate(dist):\n",
    "    ii = 'aj'+str(iiList[i])\n",
    "    nc.genericExport(ii, fluid, fluid, sigma, topfolder, reffolder=rf, adjacent='y', distance=d, exportMesh=True)\n",
    "    # nc.genericExport(ii, fluid, fluid, sigma, topfolder, exportMesh=True)"
   ]
  },
  {
   "cell_type": "code",
   "execution_count": 5,
   "metadata": {},
   "outputs": [
    {
     "name": "stdout",
     "output_type": "stream",
     "text": [
      "nb455\n",
      "0.3014999999999999\n"
     ]
    },
    {
     "name": "stderr",
     "output_type": "stream",
     "text": [
      "INFO:root:Created directory C:/Users/rtg2/Documents\\adjacent\\aj37\n",
      "INFO:root:Created directory C:/Users/rtg2/Documents\\adjacent\\aj37\\case\n",
      "INFO:root:Created directory C:/Users/rtg2/Documents\\adjacent\\aj37\\case\\0\n",
      "INFO:root:Created directory C:/Users/rtg2/Documents\\adjacent\\aj37\\case\\constant\n",
      "INFO:root:Created directory C:/Users/rtg2/Documents\\adjacent\\aj37\\case\\system\n",
      "INFO:root:Created directory C:/Users/rtg2/Documents\\adjacent\\aj37\\geometry\n",
      "INFO:root:Created directory C:/Users/rtg2/Documents\\adjacent\\aj37\\mesh\n",
      "INFO:root:Created directory C:/Users/rtg2/Documents\\adjacent\\aj37\\mesh\\constant\n",
      "INFO:root:Created directory C:/Users/rtg2/Documents\\adjacent\\aj37\\mesh\\constant\\triSurface\n",
      "INFO:root:Created directory C:/Users/rtg2/Documents\\adjacent\\aj37\\mesh\\system\n",
      "INFO:root:Created directory C:/Users/rtg2/Documents\\adjacent\\aj37\\mesh\\0\n",
      "INFO:root:Exported file C:/Users/rtg2/Documents\\adjacent\\aj37\\legend.csv\n"
     ]
    },
    {
     "name": "stdout",
     "output_type": "stream",
     "text": [
      "0.3014999999999999\n"
     ]
    },
    {
     "name": "stderr",
     "output_type": "stream",
     "text": [
      "INFO:root:Created directory C:/Users/rtg2/Documents\\adjacent\\aj38\n",
      "INFO:root:Created directory C:/Users/rtg2/Documents\\adjacent\\aj38\\case\n",
      "INFO:root:Created directory C:/Users/rtg2/Documents\\adjacent\\aj38\\case\\0\n",
      "INFO:root:Created directory C:/Users/rtg2/Documents\\adjacent\\aj38\\case\\constant\n",
      "INFO:root:Created directory C:/Users/rtg2/Documents\\adjacent\\aj38\\case\\system\n",
      "INFO:root:Created directory C:/Users/rtg2/Documents\\adjacent\\aj38\\geometry\n",
      "INFO:root:Created directory C:/Users/rtg2/Documents\\adjacent\\aj38\\mesh\n",
      "INFO:root:Created directory C:/Users/rtg2/Documents\\adjacent\\aj38\\mesh\\constant\n",
      "INFO:root:Created directory C:/Users/rtg2/Documents\\adjacent\\aj38\\mesh\\constant\\triSurface\n",
      "INFO:root:Created directory C:/Users/rtg2/Documents\\adjacent\\aj38\\mesh\\system\n",
      "INFO:root:Created directory C:/Users/rtg2/Documents\\adjacent\\aj38\\mesh\\0\n",
      "INFO:root:Exported file C:/Users/rtg2/Documents\\adjacent\\aj38\\legend.csv\n"
     ]
    },
    {
     "name": "stdout",
     "output_type": "stream",
     "text": [
      "0.3014999999999999\n"
     ]
    },
    {
     "name": "stderr",
     "output_type": "stream",
     "text": [
      "INFO:root:Created directory C:/Users/rtg2/Documents\\adjacent\\aj39\n",
      "INFO:root:Created directory C:/Users/rtg2/Documents\\adjacent\\aj39\\case\n",
      "INFO:root:Created directory C:/Users/rtg2/Documents\\adjacent\\aj39\\case\\0\n",
      "INFO:root:Created directory C:/Users/rtg2/Documents\\adjacent\\aj39\\case\\constant\n",
      "INFO:root:Created directory C:/Users/rtg2/Documents\\adjacent\\aj39\\case\\system\n",
      "INFO:root:Created directory C:/Users/rtg2/Documents\\adjacent\\aj39\\geometry\n",
      "INFO:root:Created directory C:/Users/rtg2/Documents\\adjacent\\aj39\\mesh\n",
      "INFO:root:Created directory C:/Users/rtg2/Documents\\adjacent\\aj39\\mesh\\constant\n",
      "INFO:root:Created directory C:/Users/rtg2/Documents\\adjacent\\aj39\\mesh\\constant\\triSurface\n",
      "INFO:root:Created directory C:/Users/rtg2/Documents\\adjacent\\aj39\\mesh\\system\n",
      "INFO:root:Created directory C:/Users/rtg2/Documents\\adjacent\\aj39\\mesh\\0\n",
      "INFO:root:Exported file C:/Users/rtg2/Documents\\adjacent\\aj39\\legend.csv\n"
     ]
    },
    {
     "name": "stdout",
     "output_type": "stream",
     "text": [
      "0.3014999999999999\n"
     ]
    },
    {
     "name": "stderr",
     "output_type": "stream",
     "text": [
      "INFO:root:Created directory C:/Users/rtg2/Documents\\adjacent\\aj41\n",
      "INFO:root:Created directory C:/Users/rtg2/Documents\\adjacent\\aj41\\case\n",
      "INFO:root:Created directory C:/Users/rtg2/Documents\\adjacent\\aj41\\case\\0\n",
      "INFO:root:Created directory C:/Users/rtg2/Documents\\adjacent\\aj41\\case\\constant\n",
      "INFO:root:Created directory C:/Users/rtg2/Documents\\adjacent\\aj41\\case\\system\n",
      "INFO:root:Created directory C:/Users/rtg2/Documents\\adjacent\\aj41\\geometry\n",
      "INFO:root:Created directory C:/Users/rtg2/Documents\\adjacent\\aj41\\mesh\n",
      "INFO:root:Created directory C:/Users/rtg2/Documents\\adjacent\\aj41\\mesh\\constant\n",
      "INFO:root:Created directory C:/Users/rtg2/Documents\\adjacent\\aj41\\mesh\\constant\\triSurface\n",
      "INFO:root:Created directory C:/Users/rtg2/Documents\\adjacent\\aj41\\mesh\\system\n",
      "INFO:root:Created directory C:/Users/rtg2/Documents\\adjacent\\aj41\\mesh\\0\n",
      "INFO:root:Exported file C:/Users/rtg2/Documents\\adjacent\\aj41\\legend.csv\n"
     ]
    },
    {
     "name": "stdout",
     "output_type": "stream",
     "text": [
      "0.3014999999999999\n"
     ]
    },
    {
     "name": "stderr",
     "output_type": "stream",
     "text": [
      "INFO:root:Created directory C:/Users/rtg2/Documents\\adjacent\\aj42\n",
      "INFO:root:Created directory C:/Users/rtg2/Documents\\adjacent\\aj42\\case\n",
      "INFO:root:Created directory C:/Users/rtg2/Documents\\adjacent\\aj42\\case\\0\n",
      "INFO:root:Created directory C:/Users/rtg2/Documents\\adjacent\\aj42\\case\\constant\n",
      "INFO:root:Created directory C:/Users/rtg2/Documents\\adjacent\\aj42\\case\\system\n",
      "INFO:root:Created directory C:/Users/rtg2/Documents\\adjacent\\aj42\\geometry\n",
      "INFO:root:Created directory C:/Users/rtg2/Documents\\adjacent\\aj42\\mesh\n",
      "INFO:root:Created directory C:/Users/rtg2/Documents\\adjacent\\aj42\\mesh\\constant\n",
      "INFO:root:Created directory C:/Users/rtg2/Documents\\adjacent\\aj42\\mesh\\constant\\triSurface\n",
      "INFO:root:Created directory C:/Users/rtg2/Documents\\adjacent\\aj42\\mesh\\system\n",
      "INFO:root:Created directory C:/Users/rtg2/Documents\\adjacent\\aj42\\mesh\\0\n",
      "INFO:root:Exported file C:/Users/rtg2/Documents\\adjacent\\aj42\\legend.csv\n"
     ]
    }
   ],
   "source": [
    "# HBHB\n",
    "aj = True\n",
    "rhoi = '1000'; rhos = '1000'; sigma = '0' # sigma '0' or '0.04'\n",
    "mi = 'HerschelBulkley'; ms = 'HerschelBulkley'\n",
    "nu0i = '10'; nu0s = '10'; tau0i = '0.01'; tau0s = '0.01'; ki = '0.00375'; ks = '0.00375'; ni = 0.45; ns = 0.45 # HB\n",
    "\n",
    "if aj:\n",
    "    ref = pg.extractSim(mi,ms,rhoi,rhos,sigma,nu0i=nu0i,nu0s=nu0s,tau0i=tau0i,tau0s=tau0s,ki=ki,ks=ks,ni=ni,ns=ns)\n",
    "    # dist = [0.5, 0.625, 0.75, 0.875, 1, 1.25]\n",
    "    print(ref)\n",
    "\n",
    "dist = [0.875]\n",
    "dist = [0.5, 0.625, 0.75, 1, 1.25]\n",
    "topfolder = os.path.join(cfg.path.c, 'adjacent') # this is the parent folder that holds everything\n",
    "rf = os.path.join(r'\\\\cfs2e.nist.gov\\642\\NIST_Projects\\Additive Manufacturing and Rheology\\OpenFOAM\\simulations\\viscositysweep\\HBHBsweep',ref)\n",
    "\n",
    "sigma = float(sigma); rho = float(rhoi)\n",
    "tau0 = float(tau0i)*10**3; k = float(ki)*10**3; n = float(ni); nu0 = float(nu0i)*10**3\n",
    "fluid = nc.Fluid(units = \"Pa\", tau0=tau0, k=k, n=n, nu0=nu0, rho=rho)\n",
    "\n",
    "# iiList = [31,32,33,34,35,36]\n",
    "iiList = [130]\n",
    "iiList = [37,38,39,41,42]\n",
    "for i,d in enumerate(dist):\n",
    "    ii = 'aj'+str(iiList[i])\n",
    "    nc.genericExport(ii, fluid, fluid, sigma, topfolder, reffolder=rf, adjacent='y', distance=d, vink=0, exportMesh=True)"
   ]
  },
  {
   "cell_type": "code",
   "execution_count": 8,
   "metadata": {},
   "outputs": [
    {
     "name": "stdout",
     "output_type": "stream",
     "text": [
      "nb187\n"
     ]
    },
    {
     "name": "stderr",
     "output_type": "stream",
     "text": [
      "INFO:root:Created directory C:/Users/rtg2/Documents\\adjacent\\aj88\n",
      "INFO:root:Created directory C:/Users/rtg2/Documents\\adjacent\\aj88\\case\n",
      "INFO:root:Created directory C:/Users/rtg2/Documents\\adjacent\\aj88\\case\\0\n",
      "INFO:root:Created directory C:/Users/rtg2/Documents\\adjacent\\aj88\\case\\constant\n",
      "INFO:root:Created directory C:/Users/rtg2/Documents\\adjacent\\aj88\\case\\system\n",
      "INFO:root:Created directory C:/Users/rtg2/Documents\\adjacent\\aj88\\geometry\n",
      "INFO:root:Created directory C:/Users/rtg2/Documents\\adjacent\\aj88\\mesh\n",
      "INFO:root:Created directory C:/Users/rtg2/Documents\\adjacent\\aj88\\mesh\\constant\n",
      "INFO:root:Created directory C:/Users/rtg2/Documents\\adjacent\\aj88\\mesh\\constant\\triSurface\n",
      "INFO:root:Created directory C:/Users/rtg2/Documents\\adjacent\\aj88\\mesh\\system\n",
      "INFO:root:Created directory C:/Users/rtg2/Documents\\adjacent\\aj88\\mesh\\0\n",
      "INFO:root:Exported file C:/Users/rtg2/Documents\\adjacent\\aj88\\legend.csv\n"
     ]
    }
   ],
   "source": [
    "# newtHB\n",
    "aj = True\n",
    "rhoi = '1000'; rhos = '1000'; sigma = '0' # sigma 0 or '0.04'\n",
    "mi = 'HerschelBulkley'; ms = 'Newtonian'\n",
    "nu0i = '10'; tau0i = '0.01'; ki = '0.00375'; ni = 0.45\n",
    "nus = '0.001'\n",
    "\n",
    "if aj:\n",
    "    ref = pg.extractSim(mi,ms,rhoi,rhos,sigma,nu0i=nu0i,tau0i=tau0i,ki=ki,ni=ni,nus=nus)\n",
    "    # dist = [0.5, 0.625, 0.75, 0.875, 1, 1.25]\n",
    "    print(ref)\n",
    "\n",
    "dist = [0.875]\n",
    "topfolder = os.path.join(cfg.path.c, 'adjacent') # this is the parent folder that holds everything\n",
    "rf = os.path.join(r'\\\\cfs2e.nist.gov\\642\\NIST_Projects\\Additive Manufacturing and Rheology\\OpenFOAM\\simulations\\viscositysweep\\newtHBsweep',ref)\n",
    "\n",
    "sigma = float(sigma); rho = float(rhoi)\n",
    "tau0 = float(tau0i)*10**3; k = float(ki)*10**3; n = float(ni); nu0 = float(nu0i)*10**3\n",
    "nu = float(nus)*10**3\n",
    "inkfluid = nc.Fluid(units = \"Pa\", tau0=tau0, k=k, n=n, nu0=nu0, rho=rho)\n",
    "supfluid = nc.Fluid(units = \"Pa\", label = '', nu = nu , rho = rho)\n",
    "\n",
    "# iiList = [13,14,15,16,17,18]\n",
    "iiList = [88]\n",
    "for i,d in enumerate(dist):\n",
    "    ii = 'aj'+str(iiList[i])\n",
    "    nc.genericExport(ii, supfluid, inkfluid, sigma, topfolder, reffolder=rf, adjacent='y', distance=d, vink=0, exportMesh=True)\n",
    "    # nc.genericExport(ii, fluid, fluid, sigma, topfolder, exportMesh=True) # make sure this still works periodically"
   ]
  },
  {
   "cell_type": "code",
   "execution_count": 15,
   "metadata": {},
   "outputs": [
    {
     "name": "stdout",
     "output_type": "stream",
     "text": [
      "nb127\n"
     ]
    },
    {
     "name": "stderr",
     "output_type": "stream",
     "text": [
      "INFO:root:Created directory C:/Users/rtg2/Documents\\adjacent\\aj52\n",
      "INFO:root:Created directory C:/Users/rtg2/Documents\\adjacent\\aj52\\case\n",
      "INFO:root:Created directory C:/Users/rtg2/Documents\\adjacent\\aj52\\case\\0\n",
      "INFO:root:Created directory C:/Users/rtg2/Documents\\adjacent\\aj52\\case\\constant\n",
      "INFO:root:Created directory C:/Users/rtg2/Documents\\adjacent\\aj52\\case\\system\n",
      "INFO:root:Created directory C:/Users/rtg2/Documents\\adjacent\\aj52\\geometry\n",
      "INFO:root:Created directory C:/Users/rtg2/Documents\\adjacent\\aj52\\mesh\n",
      "INFO:root:Created directory C:/Users/rtg2/Documents\\adjacent\\aj52\\mesh\\constant\n",
      "INFO:root:Created directory C:/Users/rtg2/Documents\\adjacent\\aj52\\mesh\\constant\\triSurface\n",
      "INFO:root:Created directory C:/Users/rtg2/Documents\\adjacent\\aj52\\mesh\\system\n",
      "INFO:root:Created directory C:/Users/rtg2/Documents\\adjacent\\aj52\\mesh\\0\n",
      "INFO:root:Exported file C:/Users/rtg2/Documents\\adjacent\\aj52\\legend.csv\n"
     ]
    }
   ],
   "source": [
    "# HBnewt\n",
    "aj = True\n",
    "rhoi = '1000'; rhos = '1000'; sigma = '0' # sigma 0 or '0.04'\n",
    "mi = 'Newtonian'; ms = 'HerschelBulkley'\n",
    "nui = '0.001'\n",
    "nu0s = '10'; tau0s = '0.01'; ks = '0.00375'; ns = 0.45\n",
    "\n",
    "if aj:\n",
    "    ref = pg.extractSim(mi,ms,rhoi,rhos,sigma,nui=nui,nu0s=nu0s,tau0s=tau0s,ks=ks,ns=ns)\n",
    "    # dist = [0.5, 0.625, 0.75, 0.875, 1, 1.25]\n",
    "    print(ref)\n",
    "\n",
    "dist = [0.875]\n",
    "topfolder = os.path.join(cfg.path.c, 'adjacent') # this is the parent folder that holds everything\n",
    "rf = os.path.join(r'\\\\cfs2e.nist.gov\\642\\NIST_Projects\\Additive Manufacturing and Rheology\\OpenFOAM\\simulations\\viscositysweep\\HBnewtsweep',ref)\n",
    "\n",
    "sigma = float(sigma); rho = float(rhoi)\n",
    "nu = float(nui)*10**3\n",
    "tau0 = float(tau0s)*10**3; k = float(ks)*10**3; n = float(ns); nu0 = float(nu0s)*10**3\n",
    "inkfluid = nc.Fluid(units = \"Pa\", label = '', nu = nu , rho = rho)\n",
    "supfluid = nc.Fluid(units = \"Pa\", tau0=tau0, k=k, n=n, nu0=nu0, rho=rho)\n",
    "\n",
    "# iiList = [13,14,15,16,17,18]\n",
    "iiList = [52]\n",
    "for i,d in enumerate(dist):\n",
    "    ii = 'aj'+str(iiList[i])\n",
    "    nc.genericExport(ii, supfluid, inkfluid, sigma, topfolder, reffolder=rf, adjacent='y', distance=d, exportMesh=True)\n",
    "    # nc.genericExport(ii, fluid, fluid, sigma, topfolder, exportMesh=True) # make sure this still works periodically"
   ]
  },
  {
   "cell_type": "markdown",
   "metadata": {},
   "source": [
    "## conicals"
   ]
  },
  {
   "cell_type": "markdown",
   "metadata": {
    "jupyter": {
     "source_hidden": true
    },
    "tags": []
   },
   "source": [
    "### determine bath size"
   ]
  },
  {
   "cell_type": "code",
   "execution_count": null,
   "metadata": {},
   "outputs": [],
   "source": [
    "nv0 = nc.NozVars(nozzleAngle=0, bathHeight=10, bathWidth=16)\n",
    "nv30 = nc.NozVars(nozzleAngle=30, bathHeight=10, bathWidth=16)\n",
    "for n in [nv0, nv30]:\n",
    "    print([getattr(n, s) for s in ['bw', 'bh', 'bd']])"
   ]
  },
  {
   "cell_type": "code",
   "execution_count": null,
   "metadata": {},
   "outputs": [],
   "source": [
    "nv0 = nc.NozVars(nozzleAngle=0, bathHeight=7, bathWidth=16)\n",
    "nv30 = nc.NozVars(nozzleAngle=30, bathHeight=7, bathWidth=16)\n",
    "for n in [nv0, nv30]:\n",
    "    print([getattr(n, s) for s in ['bw', 'bh', 'bd']])"
   ]
  },
  {
   "cell_type": "markdown",
   "metadata": {},
   "source": [
    "### generate starting files"
   ]
  },
  {
   "cell_type": "markdown",
   "metadata": {},
   "source": [
    "#### speed/visc sweep"
   ]
  },
  {
   "cell_type": "code",
   "execution_count": null,
   "metadata": {
    "jupyter": {
     "source_hidden": true
    },
    "tags": []
   },
   "outputs": [],
   "source": [
    "topfolder = os.path.join(cfg.path.c, 'conical') # this is the parent folder that holds everything\n",
    "ii = 144\n",
    "sigma = 0\n",
    "fHB = nc.Fluid(units=\"Pa\", label='', tau0=10, k=3.75, n=0.45, nu0=10**4)\n",
    "fnewt = nc.Fluid(units=\"Pa\", label='', nu=10)\n",
    "for speed in [2.5, 5, 7.5, 10]:\n",
    "    for f in [fHB]:\n",
    "        for angle in [0, 5, 10, 15, 20, 25, 30]:\n",
    "            nc.genericExport(ii, f, f, sigma, topfolder, exportMesh=True, folderBase=\"cn\"\n",
    "                             , bathHeight=10, bathWidth=22,  nozzleAngle=angle, slurmFolder='/working/lmf1/conical'\n",
    "                            , vink=speed, vbath=speed)\n",
    "            ii+=1\n",
    "        for angle in [0, 5, 10, 15, 20, 25, 30]:\n",
    "            ii+=1"
   ]
  },
  {
   "cell_type": "markdown",
   "metadata": {},
   "source": [
    "#### Newtonian angle sweep, 10 Pa.s"
   ]
  },
  {
   "cell_type": "code",
   "execution_count": null,
   "metadata": {
    "jupyter": {
     "source_hidden": true
    },
    "tags": []
   },
   "outputs": [],
   "source": [
    "topfolder = os.path.join(cfg.path.c, 'conical') # this is the parent folder that holds everything\n",
    "ii = 200\n",
    "sigma = 0\n",
    "fnewt = nc.Fluid(units=\"Pa\", label='', nu=10)\n",
    "for f in [fnewt]:\n",
    "    for angle in [0, 5, 10, 15, 20, 25, 30]:\n",
    "        nc.genericExport(ii, f, f, sigma, topfolder, exportMesh=True, folderBase=\"cn\"\n",
    "                         , bathHeight=10, bathWidth=16,  nozzleAngle=angle, slurmFolder='/working/lmf1/conical'\n",
    "                        , vink=10, vbath=10)\n",
    "        ii+=1"
   ]
  },
  {
   "cell_type": "markdown",
   "metadata": {},
   "source": [
    "#### HB diameter sweep, absolute mesh "
   ]
  },
  {
   "cell_type": "code",
   "execution_count": null,
   "metadata": {
    "jupyter": {
     "source_hidden": true
    },
    "tags": []
   },
   "outputs": [],
   "source": [
    "gdot = 10/0.903\n",
    "[10/gdot+k*gdot**(0.45-1) for k in [0.375, 3.75, 37.5, 375]]"
   ]
  },
  {
   "cell_type": "code",
   "execution_count": null,
   "metadata": {
    "jupyter": {
     "source_hidden": true
    },
    "tags": []
   },
   "outputs": [],
   "source": [
    "topfolder = os.path.join(cfg.path.c, 'conical') # this is the parent folder that holds everything\n",
    "ii = 207\n",
    "sigma = 0\n",
    "fHB = nc.Fluid(units=\"Pa\", label='', tau0=10, k=3.75, n=0.45, nu0=10**4)\n",
    "innerdiams = [0.838,  0.413, 0.26]\n",
    "widths = [0.216,  0.152, 0.127]\n",
    "for f in [fHB]:\n",
    "    for angle in [0, 15]:\n",
    "        for i,diam in enumerate(innerdiams):\n",
    "            nc.genericExport(ii, f, f, sigma, topfolder, exportMesh=True, folderBase=\"cn\"\n",
    "                         , bathHeight=10, bathWidth=16,  nozzleAngle=angle, slurmFolder='/working/lmf1/conical'\n",
    "                        , vink=10, vbath=10, nozzleInnerWidth=diam, nozzleThickness=widths[i])\n",
    "            ii+=1"
   ]
  },
  {
   "cell_type": "markdown",
   "metadata": {},
   "source": [
    "#### HB k sweep"
   ]
  },
  {
   "cell_type": "code",
   "execution_count": null,
   "metadata": {
    "tags": []
   },
   "outputs": [],
   "source": [
    "topfolder = os.path.join(cfg.path.c, 'conical') # this is the parent folder that holds everything\n",
    "ii = 213\n",
    "sigma = 0\n",
    "fHBlist = [nc.Fluid(units=\"Pa\", label='', tau0=10, k=ki, n=0.45, nu0=10**4) for ki in [0.375, 37.5, 375]]\n",
    "for f in fHBlist:\n",
    "    for angle in [0, 15]:\n",
    "        nc.genericExport(ii, f, f, sigma, topfolder, exportMesh=True, folderBase=\"cn\"\n",
    "                         , bathHeight=10, bathWidth=16,  nozzleAngle=angle, slurmFolder='/working/lmf1/conical'\n",
    "                        , vink=10, vbath=10)\n",
    "        ii+=1"
   ]
  },
  {
   "cell_type": "markdown",
   "metadata": {
    "jp-MarkdownHeadingCollapsed": true,
    "tags": []
   },
   "source": [
    "#### Newtonian angle sweep, 1 Pa.s"
   ]
  },
  {
   "cell_type": "code",
   "execution_count": null,
   "metadata": {
    "tags": []
   },
   "outputs": [],
   "source": [
    "topfolder = os.path.join(cfg.path.c, 'conical') # this is the parent folder that holds everything\n",
    "ii = 219\n",
    "sigma = 0\n",
    "fnewt = nc.Fluid(units=\"Pa\", label='', nu=1)\n",
    "for f in [fnewt]:\n",
    "    for angle in [0, 5, 10, 15, 20, 25, 30]:\n",
    "        nc.genericExport(ii, f, f, sigma, topfolder, exportMesh=True, folderBase=\"cn\"\n",
    "                         , bathHeight=10, bathWidth=16,  nozzleAngle=angle, slurmFolder='/working/lmf1/conical'\n",
    "                        , vink=10, vbath=10)\n",
    "        ii+=1"
   ]
  },
  {
   "cell_type": "markdown",
   "metadata": {},
   "source": [
    "#### HB diameter sweep, relative mesh"
   ]
  },
  {
   "cell_type": "code",
   "execution_count": null,
   "metadata": {
    "jupyter": {
     "source_hidden": true
    },
    "tags": []
   },
   "outputs": [],
   "source": [
    "# diameter, mesh size relative to nozzle diameter\n",
    "topfolder = os.path.join(cfg.path.c, 'conical') # this is the parent folder that holds everything\n",
    "ii = 226\n",
    "sigma = 0\n",
    "fHB = nc.Fluid(units=\"Pa\", label='', tau0=10, k=3.75, n=0.45, nu0=10**4)\n",
    "innerdiams = [0.838,  0.413, 0.26]\n",
    "widths = [0.216,  0.152, 0.127]\n",
    "for f in [fHB]:\n",
    "    for angle in [0, 15]:\n",
    "        for i,diam in enumerate(innerdiams):\n",
    "            nc.genericExport(ii, f, f, sigma, topfolder, exportMesh=True, folderBase=\"cn\"\n",
    "                         , bathHeight=10, bathWidth=16,  nozzleAngle=angle, slurmFolder='/working/lmf1/conical'\n",
    "                        , vink=10, vbath=10, nozzleInnerWidth=diam, nozzleThickness=widths[i])\n",
    "            ii+=1"
   ]
  },
  {
   "cell_type": "markdown",
   "metadata": {},
   "source": [
    "#### HB speed sweep, 15 degree nozzle"
   ]
  },
  {
   "cell_type": "code",
   "execution_count": null,
   "metadata": {
    "jupyter": {
     "source_hidden": true
    },
    "tags": []
   },
   "outputs": [],
   "source": [
    "topfolder = os.path.join(cfg.path.c, 'conical') # this is the parent folder that holds everything\n",
    "ii = 232\n",
    "sigma = 0\n",
    "f = nc.Fluid(units=\"Pa\", label='', tau0=10, k=3.75, n=0.45, nu0=10**4)\n",
    "for speed in [5, 15]:\n",
    "    for angle in [15]:\n",
    "        nc.genericExport(ii, f, f, sigma, topfolder, exportMesh=True, folderBase=\"cn\"\n",
    "                         , bathHeight=10, bathWidth=16,  nozzleAngle=angle, slurmFolder='/working/lmf1/conical'\n",
    "                        , vink=speed, vbath=speed)\n",
    "        ii+=1"
   ]
  },
  {
   "cell_type": "markdown",
   "metadata": {},
   "source": [
    "#### Newtonian diameter sweep, mixed mesh"
   ]
  },
  {
   "cell_type": "code",
   "execution_count": null,
   "metadata": {
    "jupyter": {
     "source_hidden": true
    },
    "tags": []
   },
   "outputs": [],
   "source": [
    "topfolder = os.path.join(cfg.path.c, 'conical') # this is the parent folder that holds everything\n",
    "ii = 234\n",
    "sigma = 0\n",
    "f = nc.Fluid(units=\"Pa\", label='', nu=10)\n",
    "innerdiams = [ 0.413, 0.26]\n",
    "widths = [ 0.152, 0.127]\n",
    "nc.genericExport(ii, f, f, sigma, topfolder, exportMesh=True, folderBase=\"cn\"\n",
    "                         , bathHeight=10, bathWidth=16,  nozzleAngle=0, slurmFolder='/working/lmf1/conical'\n",
    "                        , vink=10, vbath=10, nozzleInnerWidth=0.838, nozzleThickness=0.216)\n",
    "ii+=1\n",
    "for i,diam in enumerate(innerdiams):\n",
    "    nc.genericExport(ii, f, f, sigma, topfolder, exportMesh=True, folderBase=\"cn\"\n",
    "                         , bathHeight=10, bathWidth=16,  nozzleAngle=0, slurmFolder='/working/lmf1/conical'\n",
    "                        , vink=10, vbath=10, meshSize=0.2, nozzleInnerWidth=diam, nozzleThickness=widths[i])\n",
    "    ii+=1"
   ]
  },
  {
   "cell_type": "markdown",
   "metadata": {},
   "source": [
    "#### Newtonian viscosity sweep, 15 degree nozzle"
   ]
  },
  {
   "cell_type": "code",
   "execution_count": null,
   "metadata": {
    "jupyter": {
     "source_hidden": true
    },
    "tags": []
   },
   "outputs": [],
   "source": [
    "topfolder = os.path.join(cfg.path.c, 'conical') # this is the parent folder that holds everything\n",
    "ii = 237\n",
    "sigma = 0\n",
    "\n",
    "for visc in [0.1, 100]:\n",
    "    fnewt = nc.Fluid(units=\"Pa\", label='', nu=visc)\n",
    "    for angle in [15]:\n",
    "        nc.genericExport(ii, fnewt, fnewt, sigma, topfolder, exportMesh=True, folderBase=\"cn\"\n",
    "                         , bathHeight=10, bathWidth=16,  nozzleAngle=angle\n",
    "                         , slurmFolder='/working/lmf1/conical'\n",
    "                        , vink=10, vbath=10)\n",
    "        ii+=1"
   ]
  },
  {
   "cell_type": "markdown",
   "metadata": {},
   "source": [
    "#### Newtonian diameter sweep, relative mesh"
   ]
  },
  {
   "cell_type": "code",
   "execution_count": null,
   "metadata": {
    "jupyter": {
     "source_hidden": true
    },
    "tags": []
   },
   "outputs": [],
   "source": [
    "topfolder = os.path.join(cfg.path.c, 'conical') # this is the parent folder that holds everything\n",
    "ii = 239\n",
    "sigma = 0\n",
    "f = nc.Fluid(units=\"Pa\", label='', nu=10)\n",
    "innerdiams = [ 0.413, 0.26]\n",
    "widths = [ 0.152, 0.127]\n",
    "for i,diam in enumerate(innerdiams):\n",
    "    nc.genericExport(ii, f, f, sigma, topfolder, exportMesh=True, folderBase=\"cn\"\n",
    "                         , bathHeight=10, bathWidth=16,  nozzleAngle=0, slurmFolder='/working/lmf1/conical'\n",
    "                        , vink=10, vbath=10, nozzleInnerWidth=diam, nozzleThickness=widths[i])\n",
    "    ii+=1"
   ]
  },
  {
   "cell_type": "markdown",
   "metadata": {},
   "source": [
    "#### Newtonian diameter sweep, relative speed, mixed mesh"
   ]
  },
  {
   "cell_type": "code",
   "execution_count": null,
   "metadata": {
    "jupyter": {
     "source_hidden": true
    },
    "tags": []
   },
   "outputs": [],
   "source": [
    "topfolder = os.path.join(cfg.path.c, 'conical') # this is the parent folder that holds everything\n",
    "ii = 241\n",
    "sigma = 0\n",
    "f = nc.Fluid(units=\"Pa\", label='', nu=10)\n",
    "innerdiams = [ 0.413, 0.26]\n",
    "widths = [ 0.152, 0.127]\n",
    "nc.genericExport(ii, f, f, sigma, topfolder, exportMesh=True, folderBase=\"cn\"\n",
    "                         , bathHeight=10, bathWidth=16,  nozzleAngle=0, slurmFolder='/working/lmf1/conical'\n",
    "                        , vink=10*838/0.603, vbath=10*838/0.603, nozzleInnerWidth=0.838, nozzleThickness=0.216)\n",
    "ii+=1\n",
    "for i,diam in enumerate(innerdiams):\n",
    "    nc.genericExport(ii, f, f, sigma, topfolder, exportMesh=True, folderBase=\"cn\"\n",
    "                         , bathHeight=10, bathWidth=16,  nozzleAngle=0, slurmFolder='/working/lmf1/conical'\n",
    "                        , vink=10*diam/0.603, vbath=10*diam/0.603, meshSize=0.2, nozzleInnerWidth=diam, nozzleThickness=widths[i])\n",
    "    ii+=1"
   ]
  },
  {
   "cell_type": "markdown",
   "metadata": {},
   "source": [
    "#### Newtonian diameter sweep, relative mesh, 2000000 maxglobalcells"
   ]
  },
  {
   "cell_type": "code",
   "execution_count": null,
   "metadata": {
    "jupyter": {
     "source_hidden": true
    },
    "tags": []
   },
   "outputs": [],
   "source": [
    "topfolder = os.path.join(cfg.path.c, 'conical') # this is the parent folder that holds everything\n",
    "ii = 244\n",
    "sigma = 0\n",
    "f = nc.Fluid(units=\"Pa\", label='', nu=10)\n",
    "innerdiams = [0.838,  0.413, 0.26]\n",
    "widths = [0.216,  0.152, 0.127]\n",
    "for i,diam in enumerate(innerdiams):\n",
    "    nc.genericExport(ii, f, f, sigma, topfolder, exportMesh=True, folderBase=\"cn\"\n",
    "                         , bathHeight=10, bathWidth=16,  nozzleAngle=0, slurmFolder='/working/lmf1/conical'\n",
    "                        , vink=10, vbath=10, nozzleInnerWidth=diam, nozzleThickness=widths[i])\n",
    "    ii+=1"
   ]
  },
  {
   "cell_type": "code",
   "execution_count": null,
   "metadata": {
    "jupyter": {
     "source_hidden": true
    },
    "tags": []
   },
   "outputs": [],
   "source": [
    "topfolder = os.path.join(cfg.path.c, 'conical') # this is the parent folder that holds everything\n",
    "ii = 247\n",
    "sigma = 0\n",
    "f = nc.Fluid(units=\"Pa\", label='', nu=10)\n",
    "innerdiams = [ 0.413, 0.26]\n",
    "widths = [0.152, 0.127]\n",
    "for i,diam in enumerate(innerdiams):\n",
    "    nc.genericExport(ii, f, f, sigma, topfolder, exportMesh=True, folderBase=\"cn\"\n",
    "                         , bathHeight=10, bathWidth=16,  nozzleAngle=0, slurmFolder='/working/lmf1/conical'\n",
    "                        , vink=10, vbath=10, nozzleInnerWidth=diam, nozzleThickness=widths[i]\n",
    "                    , meshSize=0.2)\n",
    "    ii+=1"
   ]
  },
  {
   "cell_type": "markdown",
   "metadata": {},
   "source": [
    "#### HB diameter sweep, relative speed, mixed mesh"
   ]
  },
  {
   "cell_type": "code",
   "execution_count": null,
   "metadata": {
    "jupyter": {
     "source_hidden": true
    },
    "tags": []
   },
   "outputs": [],
   "source": [
    "topfolder = os.path.join(cfg.path.c, 'conical') # this is the parent folder that holds everything\n",
    "ii = 252\n",
    "sigma = 0\n",
    "f = nc.Fluid(units=\"Pa\", label='', tau0=10, k=3.75, n=0.45, nu0=10**4)\n",
    "innerdiams = [ 0.413, 0.26]\n",
    "widths = [ 0.152, 0.127]\n",
    "nc.genericExport(ii, f, f, sigma, topfolder, exportMesh=True, folderBase=\"cn\"\n",
    "                         , bathHeight=10, bathWidth=16,  nozzleAngle=0, slurmFolder='/working/lmf1/conical'\n",
    "                        , vink=10*0.838/0.603, vbath=10*0.838/0.603, nozzleInnerWidth=0.838, nozzleThickness=0.216)\n",
    "ii+=1\n",
    "for i,diam in enumerate(innerdiams):\n",
    "    nc.genericExport(ii, f, f, sigma, topfolder, exportMesh=True, folderBase=\"cn\"\n",
    "                         , bathHeight=10, bathWidth=16,  nozzleAngle=0, slurmFolder='/working/lmf1/conical'\n",
    "                        , vink=10*diam/0.603, vbath=10*diam/0.603, meshSize=0.2, nozzleInnerWidth=diam, nozzleThickness=widths[i])\n",
    "    ii+=1"
   ]
  },
  {
   "cell_type": "markdown",
   "metadata": {},
   "source": [
    "#### Newtonian diameter sweep, relative speed, mixed mesh"
   ]
  },
  {
   "cell_type": "code",
   "execution_count": null,
   "metadata": {
    "jupyter": {
     "source_hidden": true
    },
    "tags": []
   },
   "outputs": [],
   "source": [
    "topfolder = os.path.join(cfg.path.c, 'conical') # this is the parent folder that holds everything\n",
    "ii = 255\n",
    "sigma = 0\n",
    "f = nc.Fluid(units=\"Pa\", label='', nu=10)\n",
    "nc.genericExport(ii, f, f, sigma, topfolder, exportMesh=True, folderBase=\"cn\"\n",
    "                         , bathHeight=10, bathWidth=16,  nozzleAngle=0, slurmFolder='/working/lmf1/conical'\n",
    "                        , vink=10*0.838/0.603, vbath=10*0.838/0.603, nozzleInnerWidth=0.838, nozzleThickness=0.216)"
   ]
  },
  {
   "cell_type": "markdown",
   "metadata": {},
   "source": [
    "## Laponite"
   ]
  },
  {
   "cell_type": "code",
   "execution_count": null,
   "metadata": {
    "jupyter": {
     "source_hidden": true
    },
    "tags": []
   },
   "outputs": [],
   "source": [
    "topfolder = os.path.join(cfg.path.c, 'LapRDTall') # this is the parent folder that holds everything\n",
    "ii = 1136\n",
    "sigma = 0\n",
    "\n",
    "LapRD225 = nc.Fluid(units=\"Pa\", label='LapRD_2.25', tau0=0.21394, k=3.248436, n=0.14201, nu0=4.05384)\n",
    "LapRD250 = nc.Fluid(units=\"Pa\", label='LapRD_2.50', tau0=0.82365, k=9.692119, n=0.112515, nu0=11.8239)\n",
    "LapRD275 = nc.Fluid(units=\"Pa\", label='LapRD_2.75', tau0=2.07291, k=22.74276, n=0.054603, nu0=22.6813)\n",
    "LapRD300 = nc.Fluid(units=\"Pa\", label='LapRD_3.00', tau0=6.72765, k=75.69318, n=0.022874, nu0=73.66575)\n",
    "LapRD350 = nc.Fluid(units=\"Pa\", label='LapRD_3.50', tau0=26.8672, k=182.7635, n=0, nu0=99.1863)\n",
    "LapRD400 = nc.Fluid(units=\"Pa\", label='LapRD_4.00', tau0=93.9063, k=181.8893, n=0.021436, nu0=219.404)\n",
    "\n",
    "inks = [LapRD225, LapRD250, LapRD275, LapRD300, LapRD350, LapRD400]\n",
    "\n",
    "for link in inks:\n",
    "    for lsup in inks:\n",
    "        nc.genericExport(ii, lsup, link, sigma, topfolder, exportMesh=False)\n",
    "        ii+=1"
   ]
  },
  {
   "cell_type": "markdown",
   "metadata": {},
   "source": [
    "## Viscosity sweep"
   ]
  },
  {
   "cell_type": "markdown",
   "metadata": {},
   "source": [
    "#### fine Newtonian resolution sweep"
   ]
  },
  {
   "cell_type": "code",
   "execution_count": null,
   "metadata": {
    "jupyter": {
     "source_hidden": true
    },
    "tags": []
   },
   "outputs": [],
   "source": [
    "topfolder = os.path.join(cfg.path.c, 'NewtFine') # this is the parent folder that holds everything\n",
    "if not os.path.exists(topfolder):\n",
    "    os.mkdir(topfolder)\n",
    "ii = 700\n",
    "\n",
    "newtinks = [nc.Fluid(units=\"Pa\", label='10^'+str(i), nu=10**i) for i in np.arange(-0.5, 5.5,1)]\n",
    "newtsups = [nc.Fluid(units=\"Pa\", label='10^'+str(i), nu=10**i) for i in [1,2]]\n",
    "\n",
    "for sigma in [0, 0.04]:\n",
    "    for link in newtinks:\n",
    "        for lsup in newtsups:\n",
    "            nc.genericExport(ii, lsup, link, sigma, topfolder, exportMesh=False, slurmFolder='/working/lmf1/NewtFine')\n",
    "            ii+=1"
   ]
  },
  {
   "cell_type": "markdown",
   "metadata": {},
   "source": [
    "#### find HB resolution sweep"
   ]
  },
  {
   "cell_type": "code",
   "execution_count": null,
   "metadata": {},
   "outputs": [],
   "source": []
  },
  {
   "cell_type": "code",
   "execution_count": 3,
   "metadata": {
    "tags": []
   },
   "outputs": [
    {
     "name": "stderr",
     "output_type": "stream",
     "text": [
      "INFO:root:Created directory C:/Users/lmf1/Documents/OpenFOAM\\cromer\\hb0\n",
      "INFO:root:Created directory C:/Users/lmf1/Documents/OpenFOAM\\cromer\\hb0\\case\n",
      "INFO:root:Created directory C:/Users/lmf1/Documents/OpenFOAM\\cromer\\hb0\\case\\0\n",
      "INFO:root:Created directory C:/Users/lmf1/Documents/OpenFOAM\\cromer\\hb0\\case\\constant\n",
      "INFO:root:Created directory C:/Users/lmf1/Documents/OpenFOAM\\cromer\\hb0\\case\\system\n",
      "INFO:root:Created directory C:/Users/lmf1/Documents/OpenFOAM\\cromer\\hb0\\geometry\n",
      "INFO:root:Created directory C:/Users/lmf1/Documents/OpenFOAM\\cromer\\hb0\\mesh\n",
      "INFO:root:Created directory C:/Users/lmf1/Documents/OpenFOAM\\cromer\\hb0\\mesh\\constant\n",
      "INFO:root:Created directory C:/Users/lmf1/Documents/OpenFOAM\\cromer\\hb0\\mesh\\constant\\triSurface\n",
      "INFO:root:Created directory C:/Users/lmf1/Documents/OpenFOAM\\cromer\\hb0\\mesh\\system\n",
      "INFO:root:Created directory C:/Users/lmf1/Documents/OpenFOAM\\cromer\\hb0\\mesh\\0\n",
      "INFO:root:Exported file C:/Users/lmf1/Documents/OpenFOAM\\cromer\\hb0\\legend.csv\n"
     ]
    }
   ],
   "source": [
    "topfolder = os.path.join(cfg.path.c, 'cromer') # this is the parent folder that holds everything\n",
    "ii = 0\n",
    "sigma = 0\n",
    "fHBlist = [nc.Fluid(units=\"Pa\", label='', tau0=10, k=3.75, n=0.45, nu0=10**4)]\n",
    "for f in fHBlist:\n",
    "    for angle in [0]:\n",
    "        nc.genericExport(ii, f, f, sigma, topfolder, exportMesh=True, folderBase=\"hb\"\n",
    "                         , bathHeight=7, bathWidth=16, bathDepth=7, nozzleAngle=angle, slurmFolder='/working/lmf1/conical'\n",
    "                        , vink=10, vbath=10)\n",
    "        ii+=1"
   ]
  },
  {
   "cell_type": "code",
   "execution_count": 5,
   "metadata": {
    "tags": []
   },
   "outputs": [
    {
     "name": "stderr",
     "output_type": "stream",
     "text": [
      "INFO:root:Created directory C:/Users/lmf1/Documents/OpenFOAM\\cromer\\hb1\n",
      "INFO:root:Created directory C:/Users/lmf1/Documents/OpenFOAM\\cromer\\hb1\\case\n",
      "INFO:root:Created directory C:/Users/lmf1/Documents/OpenFOAM\\cromer\\hb1\\case\\0\n",
      "INFO:root:Created directory C:/Users/lmf1/Documents/OpenFOAM\\cromer\\hb1\\case\\constant\n",
      "INFO:root:Created directory C:/Users/lmf1/Documents/OpenFOAM\\cromer\\hb1\\case\\system\n",
      "INFO:root:Created directory C:/Users/lmf1/Documents/OpenFOAM\\cromer\\hb1\\geometry\n",
      "INFO:root:Created directory C:/Users/lmf1/Documents/OpenFOAM\\cromer\\hb1\\mesh\n",
      "INFO:root:Created directory C:/Users/lmf1/Documents/OpenFOAM\\cromer\\hb1\\mesh\\constant\n",
      "INFO:root:Created directory C:/Users/lmf1/Documents/OpenFOAM\\cromer\\hb1\\mesh\\constant\\triSurface\n",
      "INFO:root:Created directory C:/Users/lmf1/Documents/OpenFOAM\\cromer\\hb1\\mesh\\system\n",
      "INFO:root:Created directory C:/Users/lmf1/Documents/OpenFOAM\\cromer\\hb1\\mesh\\0\n",
      "INFO:root:Exported file C:/Users/lmf1/Documents/OpenFOAM\\cromer\\hb1\\legend.csv\n"
     ]
    }
   ],
   "source": [
    "topfolder = os.path.join(cfg.path.c, 'cromer') # this is the parent folder that holds everything\n",
    "ii = 1\n",
    "sigma = 0\n",
    "fHBlist = [nc.Fluid(units=\"Pa\", label='', tau0=0.85, k=12.77, n=0.028341884, nu0=11.00009611)]\n",
    "for f in fHBlist:\n",
    "    for angle in [0]:\n",
    "        nc.genericExport(ii, f, f, sigma, topfolder, exportMesh=True, folderBase=\"hb\"\n",
    "                         , bathHeight=7, bathWidth=16, bathDepth=7, nozzleAngle=angle, slurmFolder='/working/lmf1/conical'\n",
    "                        , vink=10, vbath=10)\n",
    "        ii+=1"
   ]
  },
  {
   "cell_type": "code",
   "execution_count": null,
   "metadata": {
    "jupyter": {
     "source_hidden": true
    },
    "tags": []
   },
   "outputs": [],
   "source": [
    "topfolder = os.path.join(cfg.path.c, 'HBHBFine') # this is the parent folder that holds everything\n",
    "if not os.path.exists(topfolder):\n",
    "    os.mkdir(topfolder)\n",
    "ii = 724\n",
    "\n",
    "HBinks = [nc.Fluid(units=\"Pa\", label='10^'+str(i), nu0=10**i, tau0=10, k=3.75, n=0.45) for i in np.arange(-0.5, 5.5,1)]\n",
    "HBsups = [nc.Fluid(units=\"Pa\", label='10^'+str(i), nu0=10**i, tau0=10, k=3.75, n=0.45) for i in [1,2]]\n",
    "\n",
    "for sigma in [0, 0.04]:\n",
    "    for link in HBinks:\n",
    "        for lsup in HBsups:\n",
    "            nc.genericExport(ii, lsup, link, sigma, topfolder, exportMesh=False, slurmFolder='/working/lmf1/HBHBFine')\n",
    "            ii+=1"
   ]
  }
 ],
 "metadata": {
  "kernelspec": {
   "display_name": "Python 3 (ipykernel)",
   "language": "python",
   "name": "python3"
  },
  "language_info": {
   "codemirror_mode": {
    "name": "ipython",
    "version": 3
   },
   "file_extension": ".py",
   "mimetype": "text/x-python",
   "name": "python",
   "nbconvert_exporter": "python",
   "pygments_lexer": "ipython3",
   "version": "3.9.12"
  }
 },
 "nbformat": 4,
 "nbformat_minor": 4
}
