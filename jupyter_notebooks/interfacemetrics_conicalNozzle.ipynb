{
 "cells": [
  {
   "cell_type": "code",
   "execution_count": 2,
   "id": "73a4bb66",
   "metadata": {},
   "outputs": [],
   "source": [
    "%load_ext autoreload\n",
    "%autoreload 2"
   ]
  },
  {
   "cell_type": "code",
   "execution_count": 3,
   "id": "efa40ceb",
   "metadata": {},
   "outputs": [],
   "source": [
    "import os\n",
    "import sys\n",
    "sys.path.append(\"../\")\n",
    "sys.path.append(\"../py\")\n",
    "import folderparser as fp\n",
    "import folderscraper as fs\n",
    "import interfacemetrics as intm\n",
    "from interfacePlots import *\n",
    "from config import cfg\n",
    "import logging"
   ]
  },
  {
   "cell_type": "code",
   "execution_count": 4,
   "id": "5b155886",
   "metadata": {},
   "outputs": [],
   "source": [
    "logger = logging.getLogger()\n",
    "logger.setLevel(logging.DEBUG)"
   ]
  },
  {
   "cell_type": "code",
   "execution_count": 18,
   "id": "5cb426c4",
   "metadata": {},
   "outputs": [],
   "source": [
    "# top folder where all sims are stored\n",
    "SERVERFOLDER = os.path.join(cfg.path.server, r'conicalNozzle')\n",
    "\n",
    "# folder where summary tables, figures should be exported\n",
    "EXPORTFOLDER = os.path.join(cfg.path.fig, 'conicalNozzle', 'plots')\n",
    "\n",
    "# folders where sims are stored\n",
    "TOPFOLDERS = [os.path.join(SERVERFOLDER, s) for s in ['HB_angle', 'HB_diameter', 'HB_k', 'HB_speed', 'newt_angle', 'newt_diameter', 'newt_visc']]"
   ]
  },
  {
   "cell_type": "markdown",
   "id": "85a9d304",
   "metadata": {},
   "source": [
    "# Generating Files"
   ]
  },
  {
   "cell_type": "markdown",
   "id": "37dc699b",
   "metadata": {},
   "source": [
    "#### generate table of metadata for all folders"
   ]
  },
  {
   "cell_type": "code",
   "execution_count": null,
   "id": "6378ae1b",
   "metadata": {
    "tags": []
   },
   "outputs": [],
   "source": [
    "import pandas as pd\n",
    "o = []\n",
    "for topfolder in TOPFOLDERS:\n",
    "    for f in fp.caseFolders(topfolder):\n",
    "        try:\n",
    "            fs.populate(f)\n",
    "        except Exception as e:\n",
    "            print(f)\n",
    "            raise e\n",
    "        l = fp.legendUnique(f)\n",
    "        if len(l)>0:\n",
    "            o.append(l)\n",
    "p = pd.DataFrame(o)\n",
    "fn = os.path.join(cfg.path.fig, 'conicalNozzle', 'legend_general.csv')\n",
    "p.to_csv(fn)\n",
    "logging.info(f'Exported {fn}')"
   ]
  },
  {
   "cell_type": "markdown",
   "id": "94c3a43e",
   "metadata": {},
   "source": [
    "#### summarize data for each folder"
   ]
  },
  {
   "cell_type": "code",
   "execution_count": null,
   "id": "0c7321d5",
   "metadata": {
    "tags": []
   },
   "outputs": [],
   "source": [
    "for topfolder in TOPFOLDERS:\n",
    "    for folder in fp.caseFolders(topfolder):\n",
    "        df, u = intm.importSS(folder)\n",
    "        if len(df)>0:\n",
    "            dftimes = df.time.unique()\n",
    "            files = os.listdir(os.path.join(folder, 'interfacePoints'))\n",
    "            if len(dftimes)<len(files):\n",
    "                intm.sumAndSteady(folder, True)"
   ]
  },
  {
   "cell_type": "code",
   "execution_count": 21,
   "id": "626e124e",
   "metadata": {},
   "outputs": [
    {
     "data": {
      "text/plain": [
       "(6.03e-08, 0.06071171344213446, 9.07e-08, 0.09069999999999999)"
      ]
     },
     "execution_count": 21,
     "metadata": {},
     "output_type": "execute_result"
    }
   ],
   "source": [
    "import pandas as pd\n",
    "t = []\n",
    "for folder in TOPFOLDERS:\n",
    "    for f in fp.caseFolders(folder):\n",
    "        t.append(intm.viscRatio(f))\n",
    "df = pd.DataFrame(t)\n",
    "df.ink_Re.min(), df.ink_Re.max(), df.sup_Re.min(), df.sup_Re.max()"
   ]
  },
  {
   "cell_type": "code",
   "execution_count": 22,
   "id": "aa47c2b8",
   "metadata": {},
   "outputs": [
    {
     "data": {
      "text/html": [
       "<div>\n",
       "<style scoped>\n",
       "    .dataframe tbody tr th:only-of-type {\n",
       "        vertical-align: middle;\n",
       "    }\n",
       "\n",
       "    .dataframe tbody tr th {\n",
       "        vertical-align: top;\n",
       "    }\n",
       "\n",
       "    .dataframe thead th {\n",
       "        text-align: right;\n",
       "    }\n",
       "</style>\n",
       "<table border=\"1\" class=\"dataframe\">\n",
       "  <thead>\n",
       "    <tr style=\"text-align: right;\">\n",
       "      <th></th>\n",
       "      <th>ink_rho</th>\n",
       "      <th>ink_gdot</th>\n",
       "      <th>ink_visc</th>\n",
       "      <th>ink_Re</th>\n",
       "      <th>sup_rho</th>\n",
       "      <th>sup_gdot</th>\n",
       "      <th>sup_visc</th>\n",
       "      <th>sup_Re</th>\n",
       "      <th>folder</th>\n",
       "      <th>viscRatio</th>\n",
       "      <th>ReRatio</th>\n",
       "    </tr>\n",
       "  </thead>\n",
       "  <tbody>\n",
       "    <tr>\n",
       "      <th>0</th>\n",
       "      <td>1000.0</td>\n",
       "      <td>16.583748</td>\n",
       "      <td>1.403213</td>\n",
       "      <td>4.297280e-03</td>\n",
       "      <td>1000.0</td>\n",
       "      <td>11.025358</td>\n",
       "      <td>1.908648</td>\n",
       "      <td>4.752054e-03</td>\n",
       "      <td>//cfs2e.nist.gov/642/NIST_Projects/Additive Ma...</td>\n",
       "      <td>0.735187</td>\n",
       "      <td>0.904299</td>\n",
       "    </tr>\n",
       "    <tr>\n",
       "      <th>1</th>\n",
       "      <td>1000.0</td>\n",
       "      <td>16.678137</td>\n",
       "      <td>1.397307</td>\n",
       "      <td>4.340007e-03</td>\n",
       "      <td>1000.0</td>\n",
       "      <td>11.025358</td>\n",
       "      <td>1.908648</td>\n",
       "      <td>4.752054e-03</td>\n",
       "      <td>//cfs2e.nist.gov/642/NIST_Projects/Additive Ma...</td>\n",
       "      <td>0.732092</td>\n",
       "      <td>0.913291</td>\n",
       "    </tr>\n",
       "    <tr>\n",
       "      <th>2</th>\n",
       "      <td>1000.0</td>\n",
       "      <td>16.583748</td>\n",
       "      <td>1.403213</td>\n",
       "      <td>4.297280e-03</td>\n",
       "      <td>1000.0</td>\n",
       "      <td>11.025358</td>\n",
       "      <td>1.908648</td>\n",
       "      <td>4.752054e-03</td>\n",
       "      <td>//cfs2e.nist.gov/642/NIST_Projects/Additive Ma...</td>\n",
       "      <td>0.735187</td>\n",
       "      <td>0.904299</td>\n",
       "    </tr>\n",
       "    <tr>\n",
       "      <th>3</th>\n",
       "      <td>1000.0</td>\n",
       "      <td>16.646922</td>\n",
       "      <td>1.399253</td>\n",
       "      <td>4.325858e-03</td>\n",
       "      <td>1000.0</td>\n",
       "      <td>11.025358</td>\n",
       "      <td>1.908648</td>\n",
       "      <td>4.752054e-03</td>\n",
       "      <td>//cfs2e.nist.gov/642/NIST_Projects/Additive Ma...</td>\n",
       "      <td>0.733112</td>\n",
       "      <td>0.910313</td>\n",
       "    </tr>\n",
       "    <tr>\n",
       "      <th>4</th>\n",
       "      <td>1000.0</td>\n",
       "      <td>16.678137</td>\n",
       "      <td>1.397307</td>\n",
       "      <td>4.340007e-03</td>\n",
       "      <td>1000.0</td>\n",
       "      <td>11.025358</td>\n",
       "      <td>1.908648</td>\n",
       "      <td>4.752054e-03</td>\n",
       "      <td>//cfs2e.nist.gov/642/NIST_Projects/Additive Ma...</td>\n",
       "      <td>0.732092</td>\n",
       "      <td>0.913291</td>\n",
       "    </tr>\n",
       "    <tr>\n",
       "      <th>...</th>\n",
       "      <td>...</td>\n",
       "      <td>...</td>\n",
       "      <td>...</td>\n",
       "      <td>...</td>\n",
       "      <td>...</td>\n",
       "      <td>...</td>\n",
       "      <td>...</td>\n",
       "      <td>...</td>\n",
       "      <td>...</td>\n",
       "      <td>...</td>\n",
       "      <td>...</td>\n",
       "    </tr>\n",
       "    <tr>\n",
       "      <th>66</th>\n",
       "      <td>1000.0</td>\n",
       "      <td>NaN</td>\n",
       "      <td>10.000000</td>\n",
       "      <td>6.030000e-04</td>\n",
       "      <td>1000.0</td>\n",
       "      <td>NaN</td>\n",
       "      <td>10.000000</td>\n",
       "      <td>9.070000e-04</td>\n",
       "      <td>//cfs2e.nist.gov/642/NIST_Projects/Additive Ma...</td>\n",
       "      <td>1.000000</td>\n",
       "      <td>0.664829</td>\n",
       "    </tr>\n",
       "    <tr>\n",
       "      <th>67</th>\n",
       "      <td>1000.0</td>\n",
       "      <td>NaN</td>\n",
       "      <td>10000.000000</td>\n",
       "      <td>6.030000e-07</td>\n",
       "      <td>1000.0</td>\n",
       "      <td>NaN</td>\n",
       "      <td>10000.000000</td>\n",
       "      <td>9.070000e-07</td>\n",
       "      <td>//cfs2e.nist.gov/642/NIST_Projects/Additive Ma...</td>\n",
       "      <td>1.000000</td>\n",
       "      <td>0.664829</td>\n",
       "    </tr>\n",
       "    <tr>\n",
       "      <th>68</th>\n",
       "      <td>1000.0</td>\n",
       "      <td>NaN</td>\n",
       "      <td>100000.000000</td>\n",
       "      <td>6.030000e-08</td>\n",
       "      <td>1000.0</td>\n",
       "      <td>NaN</td>\n",
       "      <td>100000.000000</td>\n",
       "      <td>9.070000e-08</td>\n",
       "      <td>//cfs2e.nist.gov/642/NIST_Projects/Additive Ma...</td>\n",
       "      <td>1.000000</td>\n",
       "      <td>0.664829</td>\n",
       "    </tr>\n",
       "    <tr>\n",
       "      <th>69</th>\n",
       "      <td>1000.0</td>\n",
       "      <td>NaN</td>\n",
       "      <td>100.000000</td>\n",
       "      <td>6.030000e-05</td>\n",
       "      <td>1000.0</td>\n",
       "      <td>NaN</td>\n",
       "      <td>100.000000</td>\n",
       "      <td>9.070000e-05</td>\n",
       "      <td>//cfs2e.nist.gov/642/NIST_Projects/Additive Ma...</td>\n",
       "      <td>1.000000</td>\n",
       "      <td>0.664829</td>\n",
       "    </tr>\n",
       "    <tr>\n",
       "      <th>70</th>\n",
       "      <td>1000.0</td>\n",
       "      <td>NaN</td>\n",
       "      <td>1000.000000</td>\n",
       "      <td>6.030000e-06</td>\n",
       "      <td>1000.0</td>\n",
       "      <td>NaN</td>\n",
       "      <td>1000.000000</td>\n",
       "      <td>9.070000e-06</td>\n",
       "      <td>//cfs2e.nist.gov/642/NIST_Projects/Additive Ma...</td>\n",
       "      <td>1.000000</td>\n",
       "      <td>0.664829</td>\n",
       "    </tr>\n",
       "  </tbody>\n",
       "</table>\n",
       "<p>71 rows × 11 columns</p>\n",
       "</div>"
      ],
      "text/plain": [
       "    ink_rho   ink_gdot       ink_visc        ink_Re  sup_rho   sup_gdot  \\\n",
       "0    1000.0  16.583748       1.403213  4.297280e-03   1000.0  11.025358   \n",
       "1    1000.0  16.678137       1.397307  4.340007e-03   1000.0  11.025358   \n",
       "2    1000.0  16.583748       1.403213  4.297280e-03   1000.0  11.025358   \n",
       "3    1000.0  16.646922       1.399253  4.325858e-03   1000.0  11.025358   \n",
       "4    1000.0  16.678137       1.397307  4.340007e-03   1000.0  11.025358   \n",
       "..      ...        ...            ...           ...      ...        ...   \n",
       "66   1000.0        NaN      10.000000  6.030000e-04   1000.0        NaN   \n",
       "67   1000.0        NaN   10000.000000  6.030000e-07   1000.0        NaN   \n",
       "68   1000.0        NaN  100000.000000  6.030000e-08   1000.0        NaN   \n",
       "69   1000.0        NaN     100.000000  6.030000e-05   1000.0        NaN   \n",
       "70   1000.0        NaN    1000.000000  6.030000e-06   1000.0        NaN   \n",
       "\n",
       "         sup_visc        sup_Re  \\\n",
       "0        1.908648  4.752054e-03   \n",
       "1        1.908648  4.752054e-03   \n",
       "2        1.908648  4.752054e-03   \n",
       "3        1.908648  4.752054e-03   \n",
       "4        1.908648  4.752054e-03   \n",
       "..            ...           ...   \n",
       "66      10.000000  9.070000e-04   \n",
       "67   10000.000000  9.070000e-07   \n",
       "68  100000.000000  9.070000e-08   \n",
       "69     100.000000  9.070000e-05   \n",
       "70    1000.000000  9.070000e-06   \n",
       "\n",
       "                                               folder  viscRatio   ReRatio  \n",
       "0   //cfs2e.nist.gov/642/NIST_Projects/Additive Ma...   0.735187  0.904299  \n",
       "1   //cfs2e.nist.gov/642/NIST_Projects/Additive Ma...   0.732092  0.913291  \n",
       "2   //cfs2e.nist.gov/642/NIST_Projects/Additive Ma...   0.735187  0.904299  \n",
       "3   //cfs2e.nist.gov/642/NIST_Projects/Additive Ma...   0.733112  0.910313  \n",
       "4   //cfs2e.nist.gov/642/NIST_Projects/Additive Ma...   0.732092  0.913291  \n",
       "..                                                ...        ...       ...  \n",
       "66  //cfs2e.nist.gov/642/NIST_Projects/Additive Ma...   1.000000  0.664829  \n",
       "67  //cfs2e.nist.gov/642/NIST_Projects/Additive Ma...   1.000000  0.664829  \n",
       "68  //cfs2e.nist.gov/642/NIST_Projects/Additive Ma...   1.000000  0.664829  \n",
       "69  //cfs2e.nist.gov/642/NIST_Projects/Additive Ma...   1.000000  0.664829  \n",
       "70  //cfs2e.nist.gov/642/NIST_Projects/Additive Ma...   1.000000  0.664829  \n",
       "\n",
       "[71 rows x 11 columns]"
      ]
     },
     "execution_count": 22,
     "metadata": {},
     "output_type": "execute_result"
    }
   ],
   "source": [
    "df"
   ]
  },
  {
   "cell_type": "markdown",
   "id": "52f9c6f2",
   "metadata": {},
   "source": [
    "# Plots"
   ]
  },
  {
   "cell_type": "markdown",
   "id": "dacae7ba",
   "metadata": {},
   "source": [
    "## survival model"
   ]
  },
  {
   "cell_type": "code",
   "execution_count": 5,
   "id": "921ac18a",
   "metadata": {},
   "outputs": [
    {
     "data": {
      "text/plain": [
       "[{'a': 1, 'b': 0, 'c': 1},\n",
       " {'a': 0.01, 'b': 0.5, 'c': 0.5},\n",
       " {'a': 0.001, 'b': 1, 'c': 0}]"
      ]
     },
     "execution_count": 5,
     "metadata": {},
     "output_type": "execute_result"
    }
   ],
   "source": [
    "weights()"
   ]
  },
  {
   "cell_type": "code",
   "execution_count": 60,
   "id": "d632526f",
   "metadata": {},
   "outputs": [
    {
     "data": {
      "text/plain": [
       "[<Axes3DSubplot:title={'center':'$S=exp(-t)$'}, xlabel='Stress (Pa)', ylabel='Time step (s)'>,\n",
       " <Axes3DSubplot:title={'center':'$S=exp({-0.01}\\\\tau^{0.5}t^{0.5})$'}, xlabel='Stress (Pa)', ylabel='Time step (s)'>,\n",
       " <Axes3DSubplot:title={'center':'$S=exp({-0.001}\\\\tau)$'}, xlabel='Stress (Pa)', ylabel='Time step (s)'>,\n",
       " <Axes3DSubplot:title={'center':'RSC96: $S=exp({-0.00039}\\\\tau^{0.48}t^{0.71})$'}, xlabel='Stress (Pa)', ylabel='Time step (s)'>]"
      ]
     },
     "execution_count": 60,
     "metadata": {},
     "output_type": "execute_result"
    }
   ],
   "source": [
    "fig.axes"
   ]
  },
  {
   "cell_type": "code",
   "execution_count": null,
   "id": "7df10c27",
   "metadata": {},
   "outputs": [],
   "source": [
    "import matplotlib.pyplot as plt\n",
    "from matplotlib import cm\n",
    "import numpy as np\n",
    "fig = plt.figure(figsize=(6,6.5))\n",
    "plt.rc('font', size=8)\n",
    "axs = []\n",
    "for i,w in enumerate(weights()+[{'a':3.9*10**-4, 'b':0.48, 'c':0.71}]):\n",
    "    ax = fig.add_subplot(2,2, i+1, projection='3d')\n",
    "    tau = list(np.arange(1,100))\n",
    "    t = list(np.arange(0,0.603*3/10,0.005))\n",
    "    Tau, T = np.meshgrid(tau, t)\n",
    "    survival = np.exp(-w['a']*Tau**w['b']*T**w['c'])\n",
    "    surf = ax.plot_surface(Tau, T, survival, rstride=1, cstride=1, cmap=cm.coolwarm,\n",
    "                       linewidth=0, antialiased=False)\n",
    "    ax.set_zlim([0,1])\n",
    "    ax.set_xlabel('Stress (Pa)')\n",
    "    ax.set_ylabel('Time step (s)')\n",
    "    ax.set_zlabel('Survival fraction')\n",
    "    ax.view_init(30, 45)\n",
    "    if i==3:\n",
    "        ax.set_title('RSC96: '+survivalEqLabel(w['a'], w['b'], w['c']), fontsize=8)\n",
    "    else:\n",
    "        ax.set_title(survivalEqLabel(w['a'], w['b'], w['c']), fontsize=8)\n",
    "intm.exportIm(os.path.join(EXPORTFOLDER, 'model'), fig)\n",
    "# fig.tight_layout()"
   ]
  },
  {
   "cell_type": "code",
   "execution_count": null,
   "id": "28b51b8e",
   "metadata": {},
   "outputs": [],
   "source": [
    "import matplotlib.pyplot as plt\n",
    "from matplotlib import cm\n",
    "import numpy as np\n",
    "fig = plt.figure(figsize=(6,6.5))\n",
    "plt.rc('font', size=8)\n",
    "axs = []\n",
    "for i,w in enumerate(weights()+[{'a':3.9*10**-4, 'b':0.48, 'c':0.71}]):\n",
    "    ax = fig.add_subplot(2,2, i+1, projection='3d')\n",
    "    tau = list(np.arange(1,5000, 100))\n",
    "    t = list(np.arange(0,5,0.1))\n",
    "    Tau, T = np.meshgrid(tau, t)\n",
    "    survival = np.exp(-w['a']*Tau**w['b']*T**w['c'])\n",
    "    surf = ax.plot_surface(Tau, T, survival, rstride=1, cstride=1, cmap=cm.coolwarm,\n",
    "                       linewidth=0, antialiased=False)\n",
    "    ax.set_zlim([0,1])\n",
    "    ax.set_xlabel('Stress (Pa)')\n",
    "    ax.set_ylabel('Time step (s)')\n",
    "    ax.set_zlabel('Survival fraction')\n",
    "    ax.view_init(30, 45)\n",
    "    if i==3:\n",
    "        ax.set_title('RSC96: '+survivalEqLabel(w['a'], w['b'], w['c']), fontsize=8)\n",
    "    else:\n",
    "        ax.set_title(survivalEqLabel(w['a'], w['b'], w['c']), fontsize=8)\n",
    "intm.exportIm(os.path.join(EXPORTFOLDER, 'big_model'), fig)\n",
    "# fig.tight_layout()"
   ]
  },
  {
   "cell_type": "markdown",
   "id": "4fe545e2",
   "metadata": {},
   "source": [
    "### nozzle angle, bath size"
   ]
  },
  {
   "cell_type": "code",
   "execution_count": 9,
   "id": "f5eb3dc7",
   "metadata": {},
   "outputs": [
    {
     "name": "stdout",
     "output_type": "stream",
     "text": [
      "Help on function withinNozzle0 in module plot_survival:\n",
      "\n",
      "withinNozzle0(topFolder: str, exportFolder: str, time: float, zabove, zunits: str = 'mm', cvar: str = 'nozzle_angle', overwrite: bool = False, export: bool = True, fontsize: int = 8, **kwargs)\n",
      "    plots line traces within the nozzle at a given z position and time. \n",
      "    topfolder is the folder holding the simulations. you can filter the folder using **kwargs, as described in plot_general.listTPvalues\n",
      "    exportFolder is the folder to export figures to\n",
      "    time is the time at which to collect the stress\n",
      "    zabove is the z position relative to the bottom of the nozzle, in units of zunits\n",
      "    zunits is 'mm' or any parameter in legend, e.g. 'nozzle_inner_width'\n",
      "    cvar is the variable to color by\n",
      "    overwrite True to overwrite existing files\n",
      "    export True to export figures\n",
      "\n"
     ]
    }
   ],
   "source": [
    "help(withinNozzle0)"
   ]
  },
  {
   "cell_type": "code",
   "execution_count": null,
   "id": "55e9e2ba",
   "metadata": {
    "tags": []
   },
   "outputs": [],
   "source": [
    "withinNozzle0(TOPFOLDERS[0], EXPORTFOLDER, 2.5, -2\n",
    "              , zunits='nozzle_inner_width'\n",
    "              , bath_depth_list=[6.05], overwrite=True\n",
    "              , volume=False, xvar='rbar')"
   ]
  },
  {
   "cell_type": "code",
   "execution_count": 11,
   "id": "8973f418",
   "metadata": {},
   "outputs": [
    {
     "name": "stdout",
     "output_type": "stream",
     "text": [
      "Help on function XSPlots0 in module plot_slices:\n",
      "\n",
      "XSPlots0(topFolder: str, exportFolder: str, time: float, xbehind: float, xunits: str = 'mm', overwrite: bool = False, dx: float = 0.5, **kwargs) -> None\n",
      "    plot all cross-sections together\n",
      "    topFolder is the folder that holds all the files\n",
      "    time is the time at which to take the cross-section\n",
      "    xbehind is the distance behind the center of the nozzle to take the cross-section\n",
      "    xunits is 'mm' or 'nozzle_inner_width'\n",
      "    overwrite True to overwrite values\n",
      "    dx is the spacing between cross-sections, in mm\n",
      "\n"
     ]
    }
   ],
   "source": [
    "help(XSPlots0)"
   ]
  },
  {
   "cell_type": "code",
   "execution_count": null,
   "id": "7be8a62f",
   "metadata": {
    "tags": []
   },
   "outputs": [],
   "source": [
    "XSPlots0(TOPFOLDERS[0], EXPORTFOLDER, 2.5, 8, xunits='nozzle_inner_width', \n",
    "         bath_depth_list=[6.05], cvar='nozzle_angle', \n",
    "         xvar='nozzle_angle', yvar='bath_depth', overwrite=True)"
   ]
  },
  {
   "cell_type": "code",
   "execution_count": 12,
   "id": "be7c6c40",
   "metadata": {},
   "outputs": [
    {
     "name": "stdout",
     "output_type": "stream",
     "text": [
      "Help on function survivalRMultiRow in module plot_survival:\n",
      "\n",
      "survivalRMultiRow(topFolder: str, exportFolder: str, fontsize: int = 8, export: bool = True, overwrite: bool = False, **kwargs)\n",
      "    plot cell survival as a function of radius, at three weights of the equation\n",
      "\n"
     ]
    }
   ],
   "source": [
    "help(survivalRMultiRow)"
   ]
  },
  {
   "cell_type": "code",
   "execution_count": null,
   "id": "963e74f2",
   "metadata": {
    "tags": []
   },
   "outputs": [],
   "source": [
    "survivalRMultiRow(TOPFOLDERS[0], EXPORTFOLDER, \n",
    "                  cvar='nozzle_angle', bath_depth_list=[6.05]\n",
    "                  , overwrite=True, volume=False)"
   ]
  },
  {
   "cell_type": "code",
   "execution_count": 13,
   "id": "f20d26a2",
   "metadata": {},
   "outputs": [
    {
     "name": "stdout",
     "output_type": "stream",
     "text": [
      "Help on function survivalPlot in module plot_survival:\n",
      "\n",
      "survivalPlot(folder: str, exportFolder: str, xvar: str, time: float = 2.5, a: float = 0.001, b: float = 0.5, c: float = 0.5, zunits: str = 'nozzle_inner_width', fontsize: int = 8, dr: float = 0.05, export: bool = True, overwrite: bool = False, **kwargs)\n",
      "    plot survival as a function of z position, relative radius, or get a single value.\n",
      "    folder is the simulation folder\n",
      "    exportFolder is the folder to export results to\n",
      "    xvar is the variable on the x axis. value of xvar should be 'z', 't', 'rbar', or 'scalar' \n",
      "    time is the time at which we evaluate survival\n",
      "    a,b, and c are model parameters for the cell survival\n",
      "    zunits = mm or nozzle_inner_width\n",
      "    dr is the spacing between relative r values, as a fraction\n",
      "    export True to export images\n",
      "    overwrite True to export images even if the file already exists\n",
      "\n"
     ]
    }
   ],
   "source": [
    "help(survivalPlot)"
   ]
  },
  {
   "cell_type": "code",
   "execution_count": null,
   "id": "55186083",
   "metadata": {
    "tags": []
   },
   "outputs": [],
   "source": [
    "for xhalf in [True, False]:\n",
    "    for v in [True, False]:\n",
    "        for s in [137]:\n",
    "            folder = os.path.join(SERVERFOLDER, 'HB_angle', f'cn{s}')\n",
    "            for d in [{'a':10**-2, 'b':0.5, 'c':0.5}]:\n",
    "                survivalPlot(folder, EXPORTFOLDER, 'z',  a=d['a'], b=d['b'], c=d['c']\n",
    "                             , dr=0.1, volume=v, xhalf=xhalf, export=True, overwrite=True, ylims=[[],[0,80], []])"
   ]
  },
  {
   "cell_type": "code",
   "execution_count": null,
   "id": "0bc7d746",
   "metadata": {
    "tags": []
   },
   "outputs": [],
   "source": [
    "topfolder = os.path.join(SERVERFOLDER, 'HB_angle')\n",
    "linePlots0(topfolder, EXPORTFOLDER, 'nozzle_angle', 2.5, imsize=6.5, yvar=['vz', 'vx', 'nu'], \n",
    "           x=1.4, bath_depth_list=[6.05], nozzle_angle_list=[0,10,20,30], export=True, overwrite=True\n",
    "          , zunits='nozzle_inner_width')"
   ]
  },
  {
   "cell_type": "code",
   "execution_count": 1,
   "id": "0ef59711",
   "metadata": {
    "tags": []
   },
   "outputs": [
    {
     "ename": "NameError",
     "evalue": "name 'os' is not defined",
     "output_type": "error",
     "traceback": [
      "\u001b[1;31m---------------------------------------------------------------------------\u001b[0m",
      "\u001b[1;31mNameError\u001b[0m                                 Traceback (most recent call last)",
      "\u001b[1;32m<ipython-input-1-12501b1748db>\u001b[0m in \u001b[0;36m<module>\u001b[1;34m\u001b[0m\n\u001b[1;32m----> 1\u001b[1;33m \u001b[0mtopfolder\u001b[0m \u001b[1;33m=\u001b[0m \u001b[0mos\u001b[0m\u001b[1;33m.\u001b[0m\u001b[0mpath\u001b[0m\u001b[1;33m.\u001b[0m\u001b[0mjoin\u001b[0m\u001b[1;33m(\u001b[0m\u001b[0mSERVERFOLDER\u001b[0m\u001b[1;33m,\u001b[0m \u001b[1;34m'HB_angle'\u001b[0m\u001b[1;33m)\u001b[0m\u001b[1;33m\u001b[0m\u001b[1;33m\u001b[0m\u001b[0m\n\u001b[0m\u001b[0;32m      2\u001b[0m \u001b[1;31m# for s in ['a_stre', 'x_viscx', 'y_viscy', 'y_umag']:\u001b[0m\u001b[1;33m\u001b[0m\u001b[1;33m\u001b[0m\u001b[1;33m\u001b[0m\u001b[0m\n\u001b[0;32m      3\u001b[0m \u001b[1;32mfor\u001b[0m \u001b[0ms\u001b[0m \u001b[1;32min\u001b[0m \u001b[1;33m[\u001b[0m\u001b[1;34m'y_shearStressy'\u001b[0m\u001b[1;33m]\u001b[0m\u001b[1;33m:\u001b[0m\u001b[1;33m\u001b[0m\u001b[1;33m\u001b[0m\u001b[0m\n\u001b[0;32m      4\u001b[0m     picPlots0(topfolder, EXPORTFOLDER, 2.5, 0, tag=s\n\u001b[0;32m      5\u001b[0m               \u001b[1;33m,\u001b[0m \u001b[0moverwrite\u001b[0m\u001b[1;33m=\u001b[0m\u001b[1;32mTrue\u001b[0m\u001b[1;33m,\u001b[0m \u001b[0mxvar\u001b[0m\u001b[1;33m=\u001b[0m\u001b[1;34m'nozzle_angle'\u001b[0m\u001b[1;33m,\u001b[0m \u001b[0myvar\u001b[0m\u001b[1;33m=\u001b[0m\u001b[1;34m'bath_depth'\u001b[0m\u001b[1;33m\u001b[0m\u001b[1;33m\u001b[0m\u001b[0m\n",
      "\u001b[1;31mNameError\u001b[0m: name 'os' is not defined"
     ]
    }
   ],
   "source": [
    "topfolder = os.path.join(SERVERFOLDER, 'HB_angle')\n",
    "# for s in ['a_stre', 'x_viscx', 'y_viscy', 'y_umag']:\n",
    "for s in ['y_shearStressy']:\n",
    "    picPlots0(topfolder, EXPORTFOLDER, 2.5, 0, tag=s\n",
    "              , overwrite=True, xvar='nozzle_angle', yvar='bath_depth'\n",
    "          , bath_depth_list=[6.05], nozzle_angle_list=[0,10,20,30], imsize=8)"
   ]
  },
  {
   "cell_type": "code",
   "execution_count": null,
   "id": "a6a57680",
   "metadata": {
    "tags": []
   },
   "outputs": [],
   "source": [
    "topfolder = os.path.join(SERVERFOLDER, 'HB_angle')\n",
    "# for s in ['a_stre', 'x_viscx', 'y_viscy', 'y_umag']:\n",
    "for s in ['y_shearStressy']:\n",
    "    cropx = 60/1216 # RG\n",
    "    cropy = 240/1216\n",
    "    crops = {'cropxl':cropx, 'cropxr':1-cropx, 'cropyb':1-cropy, 'cropyt':cropy}\n",
    "    picPlots0(topfolder, EXPORTFOLDER, 2.5, 0, tag=s\n",
    "              , overwrite=True, xvar='nozzle_angle', yvar='bath_depth'\n",
    "          , bath_depth_list=[6.05], nozzle_angle_list=[0,10,20,30], crops=crops, imsize=8)"
   ]
  },
  {
   "cell_type": "code",
   "execution_count": null,
   "id": "f2561df0",
   "metadata": {
    "tags": []
   },
   "outputs": [],
   "source": [
    "topfolder = os.path.join(SERVERFOLDER, 'HB_angle')\n",
    "# for s in ['a_stre', 'x_viscx', 'y_viscy', 'y_umag']:\n",
    "for s in ['y_shearStressy', 'y_viscy', 'x_shearStressx', 'x_viscx']:\n",
    "    picPlots0(topfolder, EXPORTFOLDER, 2.5, 0, tag=s\n",
    "              , overwrite=True, xvar='nozzle_angle', yvar='bath_depth'\n",
    "          , bath_depth_list=[6.05], nozzle_angle_list=[0,10,20,30], imsize=8)"
   ]
  },
  {
   "cell_type": "code",
   "execution_count": null,
   "id": "76bd5cbc",
   "metadata": {
    "tags": []
   },
   "outputs": [],
   "source": [
    "fig,axs = plt.subplots(1,3, figsize=(6.5, 3.25))\n",
    "f = os.path.join(SERVERFOLDER, 'HB_angle', 'cn137')\n",
    "twlist = [0.1, 0.2, 0.3, 0.4, 0.5]\n",
    "cm = sns.color_palette('viridis', n_colors=len(twlist))\n",
    "for i,tw in enumerate(twlist):\n",
    "    dlist = []\n",
    "    for di in np.arange(0.1, 1, 0.05):\n",
    "        do = di+2*tw\n",
    "        d = intm.viscRatio(f, di=di, do=do)   # get the viscosity ratio\n",
    "        d['di'] = di  # get the color\n",
    "        d['do'] = do\n",
    "        dlist.append(d)   # save these values to list\n",
    "    df = pd.DataFrame(dlist)\n",
    "    axs[0].plot(df['di'], df['ink_visc'], label=tw, color=cm[i])\n",
    "    axs[1].plot(df['di'], df['sup_visc'], label=tw, color=cm[i])\n",
    "    axs[2].plot(df['di'], df['viscRatio'], label=tw, color=cm[i])\n",
    "\n",
    "    \n",
    "axs[0].legend(title='$t_w$ (mm)')\n",
    "axs[0].set_ylabel('Ink viscosity (Pa$\\cdot$s)')\n",
    "axs[1].set_ylabel('Support viscosity (Pa$\\cdot$s)')\n",
    "for ax in [axs[0], axs[1]]:\n",
    "    ax.set_ylim([0.4, 3.5])\n",
    "axs[2].set_ylabel('Ink viscosity/support viscosity')\n",
    "for ax in axs:\n",
    "    ax.set_xlabel('$d_i$ (mm)')\n",
    "    setSquare(ax)\n",
    "fig.tight_layout()\n",
    "intm.exportIm(os.path.join(EXPORTFOLDER, 'viscRatio_d.pdf'), fig)"
   ]
  },
  {
   "cell_type": "markdown",
   "id": "0c4b6444",
   "metadata": {},
   "source": [
    "### speed"
   ]
  },
  {
   "cell_type": "code",
   "execution_count": null,
   "id": "56dc4ff3",
   "metadata": {
    "tags": []
   },
   "outputs": [],
   "source": [
    "for na in [0, 15]:\n",
    "    withinNozzle0(os.path.join(SERVERFOLDER, 'HB_speed'), EXPORTFOLDER, 2.5, 2\n",
    "              , zunits='nozzle_inner_width', \n",
    "              cvar='vsup', overwrite=True \n",
    "              , xvar='rbar', volume=False\n",
    "              , vsup_list=[5, 7.5, 10, 12.5, 15]\n",
    "             , nozzle_angle_list=[na])"
   ]
  },
  {
   "cell_type": "code",
   "execution_count": null,
   "id": "d190633f",
   "metadata": {},
   "outputs": [],
   "source": [
    "txtPlots0(os.path.join(SERVERFOLDER, 'HB_speed'), EXPORTFOLDER\n",
    "         , xunits='nozzle_inner_width', \n",
    "         cvar='vsup', xvar='vsup', yvar='nozzle_angle',\n",
    "         vsup_list=[5, 7.5, 10, 12.5, 15], overwrite=True, fontsize=20)"
   ]
  },
  {
   "cell_type": "code",
   "execution_count": null,
   "id": "978453cd",
   "metadata": {
    "tags": []
   },
   "outputs": [],
   "source": [
    "XSPlots0(os.path.join(SERVERFOLDER, 'HB_speed'), EXPORTFOLDER, 2.5, 8\n",
    "         , xunits='nozzle_inner_width', \n",
    "         cvar='vsup', xvar='vsup', yvar='nozzle_angle',\n",
    "         vsup_list=[5, 7.5, 10, 12.5, 15], overwrite=True)"
   ]
  },
  {
   "cell_type": "code",
   "execution_count": null,
   "id": "728796fc",
   "metadata": {
    "tags": []
   },
   "outputs": [],
   "source": [
    "for na in [0,15]:\n",
    "    survivalRMultiRow(os.path.join(SERVERFOLDER, 'HB_speed'), EXPORTFOLDER, cvar='vsup'\n",
    "                  , volume=False\n",
    "                  , vsup_list=[5, 7.5, 10, 12.5, 15]\n",
    "                  , nozzle_angle_list=[na], overwrite=True)"
   ]
  },
  {
   "cell_type": "code",
   "execution_count": null,
   "id": "3046e5b2",
   "metadata": {
    "tags": []
   },
   "outputs": [],
   "source": [
    "for s in ['y_shearStressy', 'y_viscy', 'x_shearStressx', 'x_viscx']:\n",
    "    picPlots0(os.path.join(SERVERFOLDER, 'HB_speed'), EXPORTFOLDER, 2.5, 0\n",
    "          , tag=s, overwrite=True, xvar='vsup', yvar='nozzle_angle'\n",
    "          , vsup_list=[5, 7.5, 10, 12.5, 15])"
   ]
  },
  {
   "cell_type": "code",
   "execution_count": null,
   "id": "7e2ec43a",
   "metadata": {
    "tags": []
   },
   "outputs": [],
   "source": [
    "for s in ['y_shearStressy']:\n",
    "    cropx = 60/1216 # RG\n",
    "    cropy = 240/1216\n",
    "    crops = {'cropxl':cropx, 'cropxr':1-cropx, 'cropyb':1-cropy, 'cropyt':cropy}\n",
    "    picPlots0(os.path.join(SERVERFOLDER, 'HB_speed'), EXPORTFOLDER, 2.5, 0\n",
    "          , tag=s, overwrite=True, xvar='vsup', yvar='nozzle_angle'\n",
    "              , crops=crops\n",
    "          , vsup_list=[5, 7.5, 10, 12.5, 15])"
   ]
  },
  {
   "cell_type": "code",
   "execution_count": null,
   "id": "46f7742b",
   "metadata": {},
   "outputs": [],
   "source": [
    "viscRatioPlot0(os.path.join(SERVERFOLDER, 'HB_speed'), EXPORTFOLDER\n",
    "               , 2.5, 8, xunits='nozzle_inner_width', yvar='aspectratio', cvar='vsup', mvar='nozzle_angle'\n",
    "              , overwrite=True, export=True, vsup_list=[5, 7.5, 10, 12.5, 15])"
   ]
  },
  {
   "cell_type": "markdown",
   "id": "35c067b1",
   "metadata": {},
   "source": [
    "### diameter"
   ]
  },
  {
   "cell_type": "code",
   "execution_count": null,
   "id": "420ad3bd",
   "metadata": {
    "tags": []
   },
   "outputs": [],
   "source": [
    "topfolder = os.path.join(SERVERFOLDER, 'HB_diameter')\n",
    "for na in [0, 15]:\n",
    "    withinNozzle0(topfolder, EXPORTFOLDER, 2.5, -2\n",
    "                  , zunits='nozzle_inner_width', cvar='nozzle_inner_width'\n",
    "                  , xvar='rbar', volume=False\n",
    "                  , nozzle_angle_list=[na], overwrite=True)"
   ]
  },
  {
   "cell_type": "code",
   "execution_count": null,
   "id": "55ca8679",
   "metadata": {
    "tags": []
   },
   "outputs": [],
   "source": [
    "topfolder = os.path.join(SERVERFOLDER, 'HB_diameter')\n",
    "XSPlots0(topfolder, EXPORTFOLDER, 2.5, 6, xunits='nozzle_inner_width'\n",
    "         , cvar='nozzle_inner_width', xvar='nozzle_inner_width'\n",
    "         , yvar='vink', nozzle_angle_list=[0],  overwrite=True)"
   ]
  },
  {
   "cell_type": "code",
   "execution_count": null,
   "id": "b5798dd2",
   "metadata": {
    "tags": []
   },
   "outputs": [],
   "source": [
    "topfolder = os.path.join(SERVERFOLDER, 'HB_diameter')\n",
    "XSPlots0(topfolder, EXPORTFOLDER, 2.5, 6, xunits='nozzle_inner_width'\n",
    "         , cvar='nozzle_inner_width', xvar='vink', bn_list=['cn209', 'cn208', 'cn137', 'cn226']\n",
    "         , yvar='vink', nozzle_angle_list=[0],  overwrite=True)"
   ]
  },
  {
   "cell_type": "code",
   "execution_count": null,
   "id": "8288b493",
   "metadata": {
    "tags": []
   },
   "outputs": [],
   "source": [
    "topfolder = os.path.join(SERVERFOLDER, 'HB_diameter')\n",
    "XSPlots0(topfolder, EXPORTFOLDER, 2.5, 6, xunits='nozzle_inner_width'\n",
    "         , cvar='nozzle_inner_width', xvar='ink_k', bn_list=['cn254', 'cn253', 'cn137', 'cn252']\n",
    "         , yvar='ink_k', nozzle_angle_list=[0],  overwrite=True)"
   ]
  },
  {
   "cell_type": "code",
   "execution_count": null,
   "id": "c3119f03",
   "metadata": {},
   "outputs": [],
   "source": [
    "for f in ['cn209', 'cn208', 'cn137', 'cn226']:\n",
    "    stabilityPlot(os.path.join(SERVERFOLDER, 'HB_diameter', f), EXPORTFOLDER, 2.5, 8, xunits='nozzle_inner_width', export=True)"
   ]
  },
  {
   "cell_type": "code",
   "execution_count": null,
   "id": "5a4c3533",
   "metadata": {
    "tags": []
   },
   "outputs": [],
   "source": [
    "topfolder = os.path.join(SERVERFOLDER, 'HB_diameter')\n",
    "txtPlots0(topfolder, EXPORTFOLDER, xunits='nozzle_inner_width'\n",
    "         , cvar='nozzle_inner_width', xvar='nozzle_inner_width'\n",
    "         , yvar='vink', nozzle_angle_list=[0], overwrite=True, fontsize=20)"
   ]
  },
  {
   "cell_type": "code",
   "execution_count": null,
   "id": "ef1e2c7d",
   "metadata": {
    "tags": []
   },
   "outputs": [],
   "source": [
    "topfolder = os.path.join(SERVERFOLDER, 'HB_diameter')\n",
    "txtPlots0(topfolder, EXPORTFOLDER, xunits='nozzle_inner_width'\n",
    "         , cvar='nozzle_inner_width', xvar='nozzle_inner_width'\n",
    "         , yvar='nozzle_angle', vsup_list=[10], overwrite=True, fontsize=20)"
   ]
  },
  {
   "cell_type": "code",
   "execution_count": null,
   "id": "716b15e5",
   "metadata": {
    "tags": []
   },
   "outputs": [],
   "source": [
    "topfolder = os.path.join(SERVERFOLDER, 'HB_diameter')\n",
    "XSPlots0(topfolder, EXPORTFOLDER, 2.5, 6, xunits='nozzle_inner_width'\n",
    "         , cvar='nozzle_inner_width', xvar='nozzle_inner_width'\n",
    "         , yvar='vink', nozzle_angle_list=[0], overwrite=True)"
   ]
  },
  {
   "cell_type": "code",
   "execution_count": null,
   "id": "47810682",
   "metadata": {
    "tags": []
   },
   "outputs": [],
   "source": [
    "topfolder = os.path.join(SERVERFOLDER, 'HB_diameter')\n",
    "for s in ['y_umag', 'y_viscy', 'a_stre', 'y_py', 'x_viscx']:\n",
    "    picPlots0(topfolder, EXPORTFOLDER, 2.5, 0, tag=s, overwrite=True, supv_list=[10]\n",
    "          , xvar='nozzle_inner_width', yvar='nozzle_angle')"
   ]
  },
  {
   "cell_type": "code",
   "execution_count": null,
   "id": "ddaa02cc",
   "metadata": {
    "tags": []
   },
   "outputs": [],
   "source": [
    "topfolder = os.path.join(SERVERFOLDER, 'HB_diameter')\n",
    "for na in [0,15]:\n",
    "    survivalRMultiRow(topfolder, EXPORTFOLDER, cvar='nozzle_inner_width'\n",
    "                  , nozzle_angle_list=[na], volume=False, overwrite=True, export=True)"
   ]
  },
  {
   "cell_type": "code",
   "execution_count": null,
   "id": "92b71f3a",
   "metadata": {},
   "outputs": [],
   "source": [
    "[metricVals(os.path.join(SERVERFOLDER, 'HB_diameter', s), 2.5, 8\n",
    "           , ['aspectratio'], xunits='nozzle_inner_width') for s in ['cn208', 'cn209', 'cn226', 'cn137']]"
   ]
  },
  {
   "cell_type": "code",
   "execution_count": 1,
   "id": "9e2e504b",
   "metadata": {},
   "outputs": [
    {
     "data": {
      "text/plain": [
       "1.1207588689324064"
      ]
     },
     "execution_count": 1,
     "metadata": {},
     "output_type": "execute_result"
    }
   ],
   "source": [
    "0.7072309/0.6310286"
   ]
  },
  {
   "cell_type": "code",
   "execution_count": null,
   "id": "72c14bc3",
   "metadata": {},
   "outputs": [],
   "source": [
    "l1 = [metricVals(os.path.join(SERVERFOLDER, 'HB_diameter', s), 2.5, 8\n",
    "           , ['aspectratio'], xunits='nozzle_inner_width') for s in ['cn212', 'cn229']]\n",
    "print(l1)\n",
    "l1[1]['aspectratio']/l1[0]['aspectratio']"
   ]
  },
  {
   "cell_type": "code",
   "execution_count": null,
   "id": "d4b53423",
   "metadata": {},
   "outputs": [],
   "source": [
    "for s in ['cn209', 'cn226']:\n",
    "    xlist, ylist = shearStressCalcSlice(os.path.join(SERVERFOLDER, 'HB_diameter', s), 2.5, 'nozzle_inner_width')\n",
    "    print(s, np.mean(ylist[0:20]))\n",
    "(45.585-31.377)/45.585"
   ]
  },
  {
   "cell_type": "code",
   "execution_count": null,
   "id": "8348bd2d",
   "metadata": {},
   "outputs": [],
   "source": [
    "viscRatioPlot0(os.path.join(SERVERFOLDER, 'HB_diameter'), EXPORTFOLDER\n",
    "               , 2.5, 8, xunits='nozzle_inner_width'\n",
    "               , yvar='aspectratio', cvar='nozzle_inner_width'\n",
    "               , xvar='viscRatio', mvar='vsup', nozzle_angle_list=[0]\n",
    "              , overwrite=True, export=True)"
   ]
  },
  {
   "cell_type": "code",
   "execution_count": null,
   "id": "88081af5",
   "metadata": {
    "tags": []
   },
   "outputs": [],
   "source": [
    "topfolder = os.path.join(SERVERFOLDER, 'HB_diameter')\n",
    "linePlots0(topfolder, EXPORTFOLDER, 'nozzle_inner_width', 2.5\n",
    "           , imsize=6.5, yvar=['vz', 'vx', 'nu'], \n",
    "           x=2, xunits='nozzle_inner_width', bn_list=['cn209', 'cn208', 'cn137', 'cn226'],\n",
    "           zunits='nozzle_inner_width', nozzle_angle_list=[0], export=True, overwrite=True)"
   ]
  },
  {
   "cell_type": "code",
   "execution_count": null,
   "id": "e49a5305",
   "metadata": {
    "tags": []
   },
   "outputs": [],
   "source": [
    "topfolder = os.path.join(SERVERFOLDER, 'HB_diameter')\n",
    "linePlots0(topfolder, EXPORTFOLDER, 'nozzle_inner_width', 2.5\n",
    "           , imsize=6.5, yvar=['vz', 'vx', 'nu'], \n",
    "           x=2, xunits='nozzle_inner_width', bn_list=['cn254', 'cn253', 'cn137', 'cn252'],\n",
    "           zunits='nozzle_inner_width', nozzle_angle_list=[0], export=True, overwrite=True)"
   ]
  },
  {
   "cell_type": "code",
   "execution_count": null,
   "id": "bf48ddfb",
   "metadata": {
    "tags": []
   },
   "outputs": [],
   "source": [
    "for s in ['y_shearStressy', 'y_viscy', 'x_shearStressx', 'x_viscx']:\n",
    "    picPlots0(os.path.join(SERVERFOLDER, 'HB_diameter'), EXPORTFOLDER, 2.5, 0\n",
    "          , tag=s, overwrite=True, \n",
    "          cvar='nozzle_inner_width', xvar='nozzle_inner_width'\n",
    "         , yvar='nozzle_angle', vsup_list=[10])"
   ]
  },
  {
   "cell_type": "code",
   "execution_count": null,
   "id": "1b076360",
   "metadata": {
    "tags": []
   },
   "outputs": [],
   "source": [
    "for s in ['y_shearStressy']:\n",
    "    cropx = 60/1216 # RG\n",
    "    cropy = 240/1216\n",
    "    crops = {'cropxl':cropx, 'cropxr':1-cropx, 'cropyb':1-cropy, 'cropyt':cropy}\n",
    "    picPlots0(os.path.join(SERVERFOLDER, 'HB_diameter'), EXPORTFOLDER, 2.5, 0\n",
    "          , tag=s, overwrite=True, \n",
    "          cvar='nozzle_inner_width', xvar='nozzle_inner_width'\n",
    "              ,crops=crops\n",
    "         , yvar='nozzle_angle', vsup_list=[10])"
   ]
  },
  {
   "cell_type": "markdown",
   "id": "bba361e9",
   "metadata": {},
   "source": [
    "### newtonian diameter"
   ]
  },
  {
   "cell_type": "code",
   "execution_count": null,
   "id": "e27f7fcd",
   "metadata": {
    "tags": []
   },
   "outputs": [],
   "source": [
    "extractTP(os.path.join(SERVERFOLDER, 'newt_diameter', 'cn255'))"
   ]
  },
  {
   "cell_type": "code",
   "execution_count": null,
   "id": "a3b36777",
   "metadata": {
    "tags": []
   },
   "outputs": [],
   "source": [
    "topfolder = os.path.join(SERVERFOLDER, 'newt_diameter')\n",
    "withinNozzle0(topfolder, EXPORTFOLDER, 2.5, -2\n",
    "                  , zunits='nozzle_inner_width', cvar='nozzle_inner_width'\n",
    "                  , xvar='rbar', volume=False, vink_list=[10]\n",
    "                  , overwrite=True)"
   ]
  },
  {
   "cell_type": "code",
   "execution_count": null,
   "id": "087b07a0",
   "metadata": {
    "tags": []
   },
   "outputs": [],
   "source": [
    "topfolder = os.path.join(SERVERFOLDER, 'newt_diameter')\n",
    "withinNozzle0(topfolder, EXPORTFOLDER, 2.5, -2\n",
    "                  , zunits='nozzle_inner_width', cvar='nozzle_inner_width'\n",
    "                  , xvar='rbar', volume=False, vink_list=[10]\n",
    "                  , overwrite=True)"
   ]
  },
  {
   "cell_type": "code",
   "execution_count": null,
   "id": "0132c855",
   "metadata": {},
   "outputs": [],
   "source": [
    "txtPlots0(os.path.join(SERVERFOLDER, 'newt_diameter'), EXPORTFOLDER, xunits='nozzle_inner_width'\n",
    "         , cvar='nozzle_inner_width', xvar='nozzle_inner_width'\n",
    "         , yvar='vink', overwrite=True, fontsize=20)"
   ]
  },
  {
   "cell_type": "code",
   "execution_count": null,
   "id": "f2ee2f3a",
   "metadata": {
    "tags": []
   },
   "outputs": [],
   "source": [
    "topfolder = os.path.join(SERVERFOLDER, 'newt_diameter')\n",
    "XSPlots0(topfolder, EXPORTFOLDER, 2.5, 6, xunits='nozzle_inner_width'\n",
    "         , cvar='nozzle_inner_width', xvar='nuink', bn_list=['cn243', 'cn242', 'cn200', 'cn255']\n",
    "         , yvar='nuink', overwrite=True)"
   ]
  },
  {
   "cell_type": "code",
   "execution_count": null,
   "id": "e96951b0",
   "metadata": {
    "tags": []
   },
   "outputs": [],
   "source": [
    "topfolder = os.path.join(SERVERFOLDER, 'newt_diameter')\n",
    "XSPlots0(topfolder, EXPORTFOLDER, 2.5, 6, xunits='nozzle_inner_width'\n",
    "         , cvar='nozzle_inner_width', xvar='nuink', bn_list=['cn248', 'cn247', 'cn200', 'cn244']\n",
    "         , yvar='nuink', overwrite=True)"
   ]
  },
  {
   "cell_type": "code",
   "execution_count": null,
   "id": "0af51b6d",
   "metadata": {
    "tags": []
   },
   "outputs": [],
   "source": [
    "topfolder = os.path.join(SERVERFOLDER, 'newt_diameter')\n",
    "XSPlots0(topfolder, EXPORTFOLDER, 2.5, 6, xunits='nozzle_inner_width'\n",
    "         , cvar='nozzle_inner_width', xvar='nozzle_inner_width', vink_list=[10]\n",
    "         , yvar='vink', overwrite=True)"
   ]
  },
  {
   "cell_type": "code",
   "execution_count": null,
   "id": "4dd98461",
   "metadata": {
    "tags": []
   },
   "outputs": [],
   "source": [
    "for s in ['y_shearStressy', 'y_viscy', 'x_shearStressx', 'x_viscx']:\n",
    "    picPlots0(os.path.join(SERVERFOLDER, 'newt_diameter'), EXPORTFOLDER, 2.5, 0\n",
    "          , tag=s, cvar='nozzle_inner_width'\n",
    "          , xvar='nozzle_inner_width', vink_list=[10]\n",
    "         , yvar='vink', overwrite=True)"
   ]
  },
  {
   "cell_type": "code",
   "execution_count": null,
   "id": "900a62d4",
   "metadata": {},
   "outputs": [],
   "source": [
    "topfolder = os.path.join(SERVERFOLDER, 'newt_diameter')\n",
    "kwargs = {'ylims':[[0, 2100], [0, 3100], [0, 21]], 'export':True, 'overwrite':True}\n",
    "analyticalPlot(topfolder, EXPORTFOLDER, [10], [0.26, 0.413, 0.603, 0.838], [10], [0], **kwargs)\n",
    "withinNozzle0(topfolder, EXPORTFOLDER, 2.5, -2\n",
    "                  , zunits='nozzle_inner_width', cvar='nozzle_inner_width'\n",
    "                  , xvar='rbar', volume=False\n",
    "                  , vink_list=[10], **kwargs)"
   ]
  },
  {
   "cell_type": "markdown",
   "id": "d4fa9c10",
   "metadata": {},
   "source": [
    "## newtonian"
   ]
  },
  {
   "cell_type": "code",
   "execution_count": null,
   "id": "fbe8ed40",
   "metadata": {
    "tags": []
   },
   "outputs": [],
   "source": [
    "topfolder = os.path.join(SERVERFOLDER, 'newt_angle')\n",
    "XSPlots0(topfolder, EXPORTFOLDER, 2.5 , 8, xunits='nozzle_inner_width'\n",
    "         , cvar='nozzle_angle', xvar='nozzle_angle', yvar='nuink', overwrite=True\n",
    "        , dy=0.7, dx=0.4)"
   ]
  },
  {
   "cell_type": "code",
   "execution_count": null,
   "id": "4bf81fc1",
   "metadata": {
    "tags": []
   },
   "outputs": [],
   "source": [
    "topfolder = os.path.join(SERVERFOLDER, 'newt_angle')\n",
    "for nuink in [1,10]:\n",
    "    withinNozzle0(topfolder, EXPORTFOLDER, 2.5, -2\n",
    "                  , zunits='nozzle_inner_width', cvar='nozzle_angle'\n",
    "                  , xvar='rbar', volume=False, export=True\n",
    "                  , nuink_list=[nuink], overwrite=True)"
   ]
  },
  {
   "cell_type": "code",
   "execution_count": null,
   "id": "44cd6bf4",
   "metadata": {},
   "outputs": [],
   "source": [
    "topfolder = os.path.join(SERVERFOLDER, 'newt_angle')\n",
    "kwargs = {'ylims':[[0,1000], [0,1400], [0,21]], 'export':True, 'overwrite':True}\n",
    "analyticalPlot(topfolder, EXPORTFOLDER, [10], [0.603], [10], [0,5,10,15,20,25,30], **kwargs)\n",
    "withinNozzle0(topfolder, EXPORTFOLDER, 2.5, -2\n",
    "                  , zunits='nozzle_inner_width', cvar='nozzle_angle'\n",
    "                  , xvar='rbar', volume=False\n",
    "                  , nuink_list=[10], **kwargs)"
   ]
  },
  {
   "cell_type": "code",
   "execution_count": null,
   "id": "2495c7a7",
   "metadata": {
    "tags": []
   },
   "outputs": [],
   "source": [
    "topfolder = os.path.join(SERVERFOLDER, 'newt_angle')\n",
    "for nuink in [1, 10]:\n",
    "    survivalRMultiRow(topfolder, EXPORTFOLDER, cvar='nozzle_angle', a3=10**-4, fontsize=8\n",
    "                  , nuink_list=[nuink], volume=False, overwrite=True, export=True)"
   ]
  },
  {
   "cell_type": "code",
   "execution_count": null,
   "id": "60976344",
   "metadata": {
    "tags": []
   },
   "outputs": [],
   "source": [
    "kwargs = {'xvar':'nozzle_angle', 'nuink_list':[10] , 'nozzle_angle_list':[0,10,20,30]\n",
    "          , 'export':True, 'overwrite':True}\n",
    "topfolder = os.path.join(SERVERFOLDER, 'newt_angle')\n",
    "picPlots0(topfolder, EXPORTFOLDER, 2.5, 0, tag='a_stre', imsize=8, yvar='nuink',\n",
    "               **kwargs)"
   ]
  },
  {
   "cell_type": "code",
   "execution_count": null,
   "id": "c50ca881",
   "metadata": {
    "tags": []
   },
   "outputs": [],
   "source": [
    "kwargs = {'xvar':'nozzle_angle'\n",
    "          , 'nozzle_angle_list':[0,10,20,30], 'export':True, 'overwrite':True}\n",
    "\n",
    "for s in ['newt_angle', 'HB_angle']:\n",
    "    topfolder = os.path.join(SERVERFOLDER, s)\n",
    "    if s=='newt_angle':\n",
    "        kwargs['nuink_list']=[10]\n",
    "    else:\n",
    "        kwargs.pop('nuink_list')\n",
    "        kwargs['bath_depth_list'] = [6.05]\n",
    "    linePlots0(topfolder, EXPORTFOLDER, 'nozzle_angle', 2.5, imsize=6.5\n",
    "           , yvar=['vz', 'vx', 'nu'], x=1.4, zunits='nozzle_inner_width', **kwargs)\n",
    "    picPlots0(topfolder, EXPORTFOLDER, 2.5, 0, tag='a_stre', imsize=8, yvar='ink_rho',\n",
    "               **kwargs)"
   ]
  },
  {
   "cell_type": "code",
   "execution_count": null,
   "id": "5f8f3a54",
   "metadata": {},
   "outputs": [],
   "source": [
    "viscRatioPlot0(os.path.join(SERVERFOLDER, 'newt_angle'), EXPORTFOLDER\n",
    "               , 2.5, 8, xunits='nozzle_inner_width'\n",
    "               , yvar='aspectratio', cvar='nuink'\n",
    "              , overwrite=True, export=True)"
   ]
  },
  {
   "cell_type": "code",
   "execution_count": null,
   "id": "baa47192",
   "metadata": {
    "tags": []
   },
   "outputs": [],
   "source": [
    "for s in ['y_shearStressy', 'y_viscy', 'x_shearStressx', 'x_viscx']:\n",
    "    picPlots0(os.path.join(SERVERFOLDER, 'newt_angle'), EXPORTFOLDER, 2.5, 0\n",
    "          , tag=s, xvar='nozzle_angle'\n",
    "          , yvar='nuink', cvar='nuink'\n",
    "              , overwrite=True, export=True)"
   ]
  },
  {
   "cell_type": "markdown",
   "id": "b9db1df0",
   "metadata": {},
   "source": [
    "## viscosity (k)"
   ]
  },
  {
   "cell_type": "code",
   "execution_count": null,
   "id": "7b4ecaf9",
   "metadata": {
    "tags": []
   },
   "outputs": [],
   "source": [
    "topfolder = os.path.join(SERVERFOLDER, 'HB_k')\n",
    "kwargs = {'xunits':'nozzle_inner_width', 'xvar':'kink', \n",
    "          'cvar':'kink', 'yvar':'nozzle_angle',\n",
    "         'overwrite':True, 'export':True}\n",
    "\n",
    "XSPlots0(topfolder, EXPORTFOLDER, 2.5 , 8, dx=0.5, **kwargs)"
   ]
  },
  {
   "cell_type": "code",
   "execution_count": null,
   "id": "8781d546",
   "metadata": {
    "tags": []
   },
   "outputs": [],
   "source": [
    "topfolder = os.path.join(SERVERFOLDER, 'HB_k')\n",
    "kwargs = {'xunits':'nozzle_inner_width', 'xvar':'kink', \n",
    "          'cvar':'kink', 'yvar':'nozzle_angle',\n",
    "         'overwrite':True, 'export':True}\n",
    "\n",
    "picPlots0(topfolder, EXPORTFOLDER, 2.5,0, 'y_shearStressy'\n",
    "          , crops={'cropxl':200/1200, 'cropxr':500/1200, 'cropyt':400/1216, 'cropyb':650/1216}\n",
    "          , **kwargs)"
   ]
  },
  {
   "cell_type": "code",
   "execution_count": null,
   "id": "ce01b059",
   "metadata": {},
   "outputs": [],
   "source": [
    "topfolder = os.path.join(SERVERFOLDER, 'HB_k')\n",
    "kwargs = {'xunits':'nozzle_inner_width', 'xvar':'kink', \n",
    "          'cvar':'kink', 'yvar':'nozzle_angle',\n",
    "         'overwrite':True, 'export':True}\n",
    "\n",
    "# for s in ['a_stre', 'y_viscy', 'x_viscx', 'y_py']:\n",
    "for s in ['y_shearStressy', 'y_viscy', 'x_shearStressx', 'x_viscx']:\n",
    "    picPlots0(topfolder, EXPORTFOLDER, 2.5,0, s\n",
    "          , **kwargs)"
   ]
  },
  {
   "cell_type": "code",
   "execution_count": null,
   "id": "af028fea",
   "metadata": {
    "tags": []
   },
   "outputs": [],
   "source": [
    "for s in ['y_shearStressy']:\n",
    "    cropx = 60/1216 # RG\n",
    "    cropy = 240/1216\n",
    "    crops = {'cropxl':cropx, 'cropxr':1-cropx, 'cropyb':1-cropy, 'cropyt':cropy}\n",
    "    topfolder = os.path.join(SERVERFOLDER, 'HB_k')\n",
    "    kwargs = {'xunits':'nozzle_inner_width', 'xvar':'kink', \n",
    "          'cvar':'kink', 'yvar':'nozzle_angle',\n",
    "         'overwrite':True, 'export':True, 'crops':crops}\n",
    "    picPlots0(topfolder, EXPORTFOLDER, 2.5,0, s\n",
    "          , **kwargs)"
   ]
  },
  {
   "cell_type": "code",
   "execution_count": null,
   "id": "1f218d75",
   "metadata": {
    "tags": []
   },
   "outputs": [],
   "source": [
    "topfolder = os.path.join(SERVERFOLDER, 'HB_k')\n",
    "kwargs = {'xunits':'nozzle_inner_width', 'xvar':'kink', \n",
    "          'cvar':'kink', 'yvar':'nozzle_angle',\n",
    "         'overwrite':True, 'export':True}\n",
    "\n",
    "txtPlots0(topfolder, EXPORTFOLDER,  **kwargs)"
   ]
  },
  {
   "cell_type": "code",
   "execution_count": null,
   "id": "00aa44f6",
   "metadata": {
    "tags": []
   },
   "outputs": [],
   "source": [
    "topfolder = os.path.join(SERVERFOLDER, 'HB_k')\n",
    "kwargs = {'zunits':'nozzle_inner_width', 'cvar':'kink', 'xvar':'rbar', \n",
    "         'overwrite':True, 'export':True, 'volume':False, 'logy':True}\n",
    "for nozzle_angle in [0,15]:\n",
    "    withinNozzle0(topfolder, EXPORTFOLDER, 2.5, 2, nozzle_angle_list=[nozzle_angle], **kwargs)"
   ]
  },
  {
   "cell_type": "code",
   "execution_count": null,
   "id": "9cb80e8f",
   "metadata": {
    "tags": []
   },
   "outputs": [],
   "source": [
    "topfolder = os.path.join(SERVERFOLDER, 'HB_k')\n",
    "kwargs = {'zunits':'nozzle_inner_width', 'cvar':'kink',\n",
    "         'overwrite':True, 'export':True, 'volume':False, 'logx':True, 'a3':10**-4}\n",
    "for nozzle_angle in [0,15]:\n",
    "    survivalRMultiRow(topfolder, EXPORTFOLDER, nozzle_angle_list=[nozzle_angle], **kwargs)"
   ]
  },
  {
   "cell_type": "code",
   "execution_count": null,
   "id": "7d7e8755",
   "metadata": {
    "tags": []
   },
   "outputs": [],
   "source": [
    "viscRatioPlot0(os.path.join(SERVERFOLDER, 'HB_k'), EXPORTFOLDER\n",
    "               , 2.5, 8, xunits='nozzle_inner_width'\n",
    "               , yvar='aspectratio', cvar='ink_k'\n",
    "              , overwrite=True, export=True)"
   ]
  },
  {
   "cell_type": "code",
   "execution_count": null,
   "id": "70afaf5e",
   "metadata": {
    "tags": []
   },
   "outputs": [],
   "source": [
    "topfolder = os.path.join(SERVERFOLDER, 'HB_k')\n",
    "kwargs = {'xunits':'nozzle_inner_width', 'xvar':'kink', \n",
    "          'cvar':'kink', 'yvar':'nozzle_angle',\n",
    "         'overwrite':True, 'export':False}\n",
    "\n",
    "txtPlots0(topfolder, EXPORTFOLDER, fontsize=12, **kwargs)"
   ]
  },
  {
   "cell_type": "code",
   "execution_count": null,
   "id": "f02a3545",
   "metadata": {},
   "outputs": [],
   "source": [
    "topfolder = os.path.join(SERVERFOLDER, 'HB_k')\n",
    "linePlots0(topfolder, EXPORTFOLDER, 'kink', 2.5, imsize=6.5\n",
    "           , yvar=['vz', 'vx', 'nu'], \n",
    "           x=1.4, nozzle_angle_list=[0]\n",
    "           , export=True, overwrite=True)"
   ]
  },
  {
   "cell_type": "markdown",
   "id": "abd85baa",
   "metadata": {},
   "source": [
    "### Newtonian viscosity sweep"
   ]
  },
  {
   "cell_type": "code",
   "execution_count": null,
   "id": "4004caff",
   "metadata": {
    "tags": []
   },
   "outputs": [],
   "source": [
    "topfolder = os.path.join(SERVERFOLDER, 'newt_visc')\n",
    "kwargs = {'xunits':'nozzle_inner_width', 'xvar':'nuink', \n",
    "          'cvar':'nuink', 'yvar':'nozzle_angle',\n",
    "         'overwrite':True, 'export':True, 'imsize':8}\n",
    "\n",
    "XSPlots0(topfolder, EXPORTFOLDER, 2.5, 8, dx=0.4,  **kwargs)"
   ]
  },
  {
   "cell_type": "code",
   "execution_count": null,
   "id": "cecd5bd7",
   "metadata": {
    "tags": []
   },
   "outputs": [],
   "source": [
    "topfolder = os.path.join(SERVERFOLDER, 'newt_visc')\n",
    "kwargs = {'xunits':'nozzle_inner_width', 'xvar':'rbar',\n",
    "          'cvar':'nuink', 'logy':True, 'zunits':'nozzle_inner_width',\n",
    "         'overwrite':True, 'export':True, 'imsize':8, 'volume':False}\n",
    "withinNozzle0(topfolder, EXPORTFOLDER, 2.5, 2, **kwargs)"
   ]
  },
  {
   "cell_type": "code",
   "execution_count": null,
   "id": "a8459209",
   "metadata": {
    "tags": []
   },
   "outputs": [],
   "source": [
    "topfolder = os.path.join(SERVERFOLDER, 'newt_visc')\n",
    "kwargs = {'xunits':'nozzle_inner_width', 'xvar':'nuink', 'zunits':'nozzle_inner_width',\n",
    "          'cvar':'nuink', 'yvar':'nozzle_angle', 'volume':False, \n",
    "         'overwrite':True, 'export':True, 'imsize':8, 'a3':10**-6, 'a2':10**-4, 'a1':1}\n",
    "survivalRMultiRow(topfolder, EXPORTFOLDER, **kwargs)"
   ]
  },
  {
   "cell_type": "code",
   "execution_count": null,
   "id": "222194bc",
   "metadata": {},
   "outputs": [],
   "source": [
    "viscRatioPlot0(os.path.join(SERVERFOLDER, 'newt_visc'), EXPORTFOLDER\n",
    "               , 2.5, 8, xunits='nozzle_inner_width'\n",
    "               , yvar='aspectratio', cvar='nuink'\n",
    "              , overwrite=True, export=True)"
   ]
  },
  {
   "cell_type": "code",
   "execution_count": null,
   "id": "f904f56c",
   "metadata": {},
   "outputs": [],
   "source": [
    "topfolder = os.path.join(SERVERFOLDER, 'newt_visc')\n",
    "kwargs = {'ylims':[[5*10**0, 5*10**7], [10, 5*10**7], [0, 20]], 'export':True, 'overwrite':True, 'logy':True,\n",
    "          'xunits':'nozzle_inner_width', \n",
    "          'cvar':'nuink',  \n",
    "         'volume':False}\n",
    "analyticalPlot(topfolder, EXPORTFOLDER, [10],[0.603],  [10**i for i in range(0,6)], [0], **kwargs)\n",
    "withinNozzle0(topfolder, EXPORTFOLDER, 2.5, 2, zunits='nozzle_inner_width', xvar='rbar', **kwargs)"
   ]
  }
 ],
 "metadata": {
  "kernelspec": {
   "display_name": "Python 3 (ipykernel)",
   "language": "python",
   "name": "python3"
  },
  "language_info": {
   "codemirror_mode": {
    "name": "ipython",
    "version": 3
   },
   "file_extension": ".py",
   "mimetype": "text/x-python",
   "name": "python",
   "nbconvert_exporter": "python",
   "pygments_lexer": "ipython3",
   "version": "3.8.3"
  }
 },
 "nbformat": 4,
 "nbformat_minor": 5
}
