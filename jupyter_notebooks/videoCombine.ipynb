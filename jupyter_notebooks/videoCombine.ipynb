{
 "cells": [
  {
   "cell_type": "markdown",
   "id": "ef80c0b1",
   "metadata": {},
   "source": [
    "# videoCombine\n",
    "Notebook for combining stills into big videos"
   ]
  },
  {
   "cell_type": "code",
   "execution_count": 1,
   "id": "84c69be4",
   "metadata": {},
   "outputs": [],
   "source": [
    "%load_ext autoreload\n",
    "%autoreload 2\n",
    "LOGGERDEFINED = False"
   ]
  },
  {
   "cell_type": "code",
   "execution_count": 2,
   "id": "09a786f3",
   "metadata": {
    "tags": []
   },
   "outputs": [],
   "source": [
    "import os\n",
    "import sys\n",
    "parentdir = os.path.dirname(os.getcwd())\n",
    "sys.path.append(parentdir)\n",
    "sys.path.append(os.path.join(parentdir, 'py'))\n",
    "import folderparser as fp\n",
    "import videofuncs as vf\n",
    "from config import cfg\n",
    "serverfolder = cfg.path.server\n",
    "LOGGERDEFINED = fp.openLog('videoCombine.ipynb', LOGGERDEFINED, level='DEBUG', exportLog=True)"
   ]
  },
  {
   "cell_type": "markdown",
   "id": "04aa2d1e",
   "metadata": {},
   "source": [
    "## Adjacent"
   ]
  },
  {
   "cell_type": "code",
   "execution_count": 3,
   "id": "1902117c",
   "metadata": {},
   "outputs": [],
   "source": [
    "folders = fp.caseFolders(os.path.join(serverfolder, 'adjacent'))"
   ]
  },
  {
   "cell_type": "code",
   "execution_count": 4,
   "id": "43a35f3a",
   "metadata": {},
   "outputs": [],
   "source": [
    "# print(folders)"
   ]
  },
  {
   "cell_type": "code",
   "execution_count": null,
   "id": "74079874",
   "metadata": {},
   "outputs": [],
   "source": [
    "test = [r'\\\\cfs2e.nist.gov\\642\\NIST_Projects\\Additive Manufacturing and Rheology\\OpenFOAM\\simulations\\viscositysweep\\adjacent\\aj30']\n",
    "for c in folders:\n",
    "    vf.titleCard(c, overwrite=False, diag=True)"
   ]
  },
  {
   "cell_type": "code",
   "execution_count": 4,
   "id": "22aa7d44",
   "metadata": {},
   "outputs": [
    {
     "name": "stdout",
     "output_type": "stream",
     "text": [
      "INFO: write //cfs2e.nist.gov/642/NIST_Projects/Additive Manufacturing and Rheology/OpenFOAM/simulations\\adjacent\\aj212\\images\\y_umag.mp4\n",
      "INFO: write //cfs2e.nist.gov/642/NIST_Projects/Additive Manufacturing and Rheology/OpenFOAM/simulations\\adjacent\\aj212\\images\\a_umag.mp4\n",
      "INFO: write //cfs2e.nist.gov/642/NIST_Projects/Additive Manufacturing and Rheology/OpenFOAM/simulations\\adjacent\\aj213\\images\\y_umag.mp4\n",
      "INFO: write //cfs2e.nist.gov/642/NIST_Projects/Additive Manufacturing and Rheology/OpenFOAM/simulations\\adjacent\\aj213\\images\\a_umag.mp4\n",
      "INFO: write //cfs2e.nist.gov/642/NIST_Projects/Additive Manufacturing and Rheology/OpenFOAM/simulations\\adjacent\\aj214\\images\\y_umag.mp4\n",
      "INFO: write //cfs2e.nist.gov/642/NIST_Projects/Additive Manufacturing and Rheology/OpenFOAM/simulations\\adjacent\\aj214\\images\\a_umag.mp4\n",
      "INFO: write //cfs2e.nist.gov/642/NIST_Projects/Additive Manufacturing and Rheology/OpenFOAM/simulations\\adjacent\\aj215\\images\\y_umag.mp4\n",
      "INFO: write //cfs2e.nist.gov/642/NIST_Projects/Additive Manufacturing and Rheology/OpenFOAM/simulations\\adjacent\\aj215\\images\\a_umag.mp4\n",
      "INFO: write //cfs2e.nist.gov/642/NIST_Projects/Additive Manufacturing and Rheology/OpenFOAM/simulations\\adjacent\\aj216\\images\\y_umag.mp4\n",
      "INFO: write //cfs2e.nist.gov/642/NIST_Projects/Additive Manufacturing and Rheology/OpenFOAM/simulations\\adjacent\\aj216\\images\\a_umag.mp4\n",
      "INFO: write //cfs2e.nist.gov/642/NIST_Projects/Additive Manufacturing and Rheology/OpenFOAM/simulations\\adjacent\\aj217\\images\\y_umag.mp4\n",
      "INFO: write //cfs2e.nist.gov/642/NIST_Projects/Additive Manufacturing and Rheology/OpenFOAM/simulations\\adjacent\\aj217\\images\\a_umag.mp4\n",
      "INFO: write //cfs2e.nist.gov/642/NIST_Projects/Additive Manufacturing and Rheology/OpenFOAM/simulations\\adjacent\\aj220\\images\\y_umag.mp4\n",
      "INFO: write //cfs2e.nist.gov/642/NIST_Projects/Additive Manufacturing and Rheology/OpenFOAM/simulations\\adjacent\\aj220\\images\\a_umag.mp4\n",
      "INFO: write //cfs2e.nist.gov/642/NIST_Projects/Additive Manufacturing and Rheology/OpenFOAM/simulations\\adjacent\\aj224\\images\\y_umag.mp4\n",
      "INFO: write //cfs2e.nist.gov/642/NIST_Projects/Additive Manufacturing and Rheology/OpenFOAM/simulations\\adjacent\\aj224\\images\\a_umag.mp4\n",
      "INFO: write //cfs2e.nist.gov/642/NIST_Projects/Additive Manufacturing and Rheology/OpenFOAM/simulations\\adjacent\\aj225\\images\\y_umag.mp4\n",
      "INFO: write //cfs2e.nist.gov/642/NIST_Projects/Additive Manufacturing and Rheology/OpenFOAM/simulations\\adjacent\\aj225\\images\\a_umag.mp4\n",
      "INFO: write //cfs2e.nist.gov/642/NIST_Projects/Additive Manufacturing and Rheology/OpenFOAM/simulations\\adjacent\\aj226\\images\\y_umag.mp4\n",
      "INFO: write //cfs2e.nist.gov/642/NIST_Projects/Additive Manufacturing and Rheology/OpenFOAM/simulations\\adjacent\\aj226\\images\\a_umag.mp4\n",
      "INFO: write //cfs2e.nist.gov/642/NIST_Projects/Additive Manufacturing and Rheology/OpenFOAM/simulations\\adjacent\\aj227\\images\\y_umag.mp4\n",
      "INFO: write //cfs2e.nist.gov/642/NIST_Projects/Additive Manufacturing and Rheology/OpenFOAM/simulations\\adjacent\\aj227\\images\\a_umag.mp4\n",
      "INFO: write //cfs2e.nist.gov/642/NIST_Projects/Additive Manufacturing and Rheology/OpenFOAM/simulations\\adjacent\\aj228\\images\\y_umag.mp4\n",
      "INFO: write //cfs2e.nist.gov/642/NIST_Projects/Additive Manufacturing and Rheology/OpenFOAM/simulations\\adjacent\\aj228\\images\\a_umag.mp4\n",
      "INFO: write //cfs2e.nist.gov/642/NIST_Projects/Additive Manufacturing and Rheology/OpenFOAM/simulations\\adjacent\\aj230\\images\\y_umag.mp4\n",
      "INFO: write //cfs2e.nist.gov/642/NIST_Projects/Additive Manufacturing and Rheology/OpenFOAM/simulations\\adjacent\\aj230\\images\\a_umag.mp4\n",
      "INFO: write //cfs2e.nist.gov/642/NIST_Projects/Additive Manufacturing and Rheology/OpenFOAM/simulations\\adjacent\\aj231\\images\\y_umag.mp4\n",
      "INFO: write //cfs2e.nist.gov/642/NIST_Projects/Additive Manufacturing and Rheology/OpenFOAM/simulations\\adjacent\\aj231\\images\\a_umag.mp4\n",
      "INFO: write //cfs2e.nist.gov/642/NIST_Projects/Additive Manufacturing and Rheology/OpenFOAM/simulations\\adjacent\\aj232\\images\\y_umag.mp4\n",
      "INFO: write //cfs2e.nist.gov/642/NIST_Projects/Additive Manufacturing and Rheology/OpenFOAM/simulations\\adjacent\\aj232\\images\\a_umag.mp4\n",
      "INFO: write //cfs2e.nist.gov/642/NIST_Projects/Additive Manufacturing and Rheology/OpenFOAM/simulations\\adjacent\\aj233\\images\\y_umag.mp4\n",
      "INFO: write //cfs2e.nist.gov/642/NIST_Projects/Additive Manufacturing and Rheology/OpenFOAM/simulations\\adjacent\\aj233\\images\\a_umag.mp4\n",
      "INFO: write //cfs2e.nist.gov/642/NIST_Projects/Additive Manufacturing and Rheology/OpenFOAM/simulations\\adjacent\\aj234\\images\\y_umag.mp4\n",
      "INFO: write //cfs2e.nist.gov/642/NIST_Projects/Additive Manufacturing and Rheology/OpenFOAM/simulations\\adjacent\\aj234\\images\\a_umag.mp4\n",
      "INFO: write //cfs2e.nist.gov/642/NIST_Projects/Additive Manufacturing and Rheology/OpenFOAM/simulations\\adjacent\\aj235\\images\\y_umag.mp4\n",
      "INFO: write //cfs2e.nist.gov/642/NIST_Projects/Additive Manufacturing and Rheology/OpenFOAM/simulations\\adjacent\\aj235\\images\\a_umag.mp4\n",
      "INFO: write //cfs2e.nist.gov/642/NIST_Projects/Additive Manufacturing and Rheology/OpenFOAM/simulations\\adjacent\\aj236\\images\\y_umag.mp4\n",
      "INFO: write //cfs2e.nist.gov/642/NIST_Projects/Additive Manufacturing and Rheology/OpenFOAM/simulations\\adjacent\\aj236\\images\\a_umag.mp4\n",
      "INFO: write //cfs2e.nist.gov/642/NIST_Projects/Additive Manufacturing and Rheology/OpenFOAM/simulations\\adjacent\\aj237\\images\\y_umag.mp4\n",
      "INFO: write //cfs2e.nist.gov/642/NIST_Projects/Additive Manufacturing and Rheology/OpenFOAM/simulations\\adjacent\\aj237\\images\\a_umag.mp4\n",
      "INFO: write //cfs2e.nist.gov/642/NIST_Projects/Additive Manufacturing and Rheology/OpenFOAM/simulations\\adjacent\\aj238\\images\\y_umag.mp4\n",
      "INFO: write //cfs2e.nist.gov/642/NIST_Projects/Additive Manufacturing and Rheology/OpenFOAM/simulations\\adjacent\\aj238\\images\\a_umag.mp4\n",
      "INFO: write //cfs2e.nist.gov/642/NIST_Projects/Additive Manufacturing and Rheology/OpenFOAM/simulations\\adjacent\\aj239\\images\\y_umag.mp4\n",
      "INFO: write //cfs2e.nist.gov/642/NIST_Projects/Additive Manufacturing and Rheology/OpenFOAM/simulations\\adjacent\\aj239\\images\\a_umag.mp4\n",
      "INFO: write //cfs2e.nist.gov/642/NIST_Projects/Additive Manufacturing and Rheology/OpenFOAM/simulations\\adjacent\\aj240\\images\\y_umag.mp4\n",
      "INFO: write //cfs2e.nist.gov/642/NIST_Projects/Additive Manufacturing and Rheology/OpenFOAM/simulations\\adjacent\\aj240\\images\\a_umag.mp4\n",
      "INFO: write //cfs2e.nist.gov/642/NIST_Projects/Additive Manufacturing and Rheology/OpenFOAM/simulations\\adjacent\\aj241\\images\\y_umag.mp4\n",
      "INFO: write //cfs2e.nist.gov/642/NIST_Projects/Additive Manufacturing and Rheology/OpenFOAM/simulations\\adjacent\\aj241\\images\\a_umag.mp4\n",
      "INFO: write //cfs2e.nist.gov/642/NIST_Projects/Additive Manufacturing and Rheology/OpenFOAM/simulations\\adjacent\\aj242\\images\\y_umag.mp4\n",
      "INFO: write //cfs2e.nist.gov/642/NIST_Projects/Additive Manufacturing and Rheology/OpenFOAM/simulations\\adjacent\\aj242\\images\\a_umag.mp4\n",
      "INFO: write //cfs2e.nist.gov/642/NIST_Projects/Additive Manufacturing and Rheology/OpenFOAM/simulations\\adjacent\\aj243\\images\\y_umag.mp4\n",
      "INFO: write //cfs2e.nist.gov/642/NIST_Projects/Additive Manufacturing and Rheology/OpenFOAM/simulations\\adjacent\\aj243\\images\\a_umag.mp4\n",
      "INFO: write //cfs2e.nist.gov/642/NIST_Projects/Additive Manufacturing and Rheology/OpenFOAM/simulations\\adjacent\\aj244\\images\\y_umag.mp4\n",
      "INFO: write //cfs2e.nist.gov/642/NIST_Projects/Additive Manufacturing and Rheology/OpenFOAM/simulations\\adjacent\\aj244\\images\\a_umag.mp4\n",
      "INFO: write //cfs2e.nist.gov/642/NIST_Projects/Additive Manufacturing and Rheology/OpenFOAM/simulations\\adjacent\\aj245\\images\\y_umag.mp4\n",
      "INFO: write //cfs2e.nist.gov/642/NIST_Projects/Additive Manufacturing and Rheology/OpenFOAM/simulations\\adjacent\\aj245\\images\\a_umag.mp4\n",
      "INFO: write //cfs2e.nist.gov/642/NIST_Projects/Additive Manufacturing and Rheology/OpenFOAM/simulations\\adjacent\\aj246\\images\\y_umag.mp4\n",
      "INFO: write //cfs2e.nist.gov/642/NIST_Projects/Additive Manufacturing and Rheology/OpenFOAM/simulations\\adjacent\\aj246\\images\\a_umag.mp4\n",
      "INFO: write //cfs2e.nist.gov/642/NIST_Projects/Additive Manufacturing and Rheology/OpenFOAM/simulations\\adjacent\\aj247\\images\\y_umag.mp4\n",
      "INFO: write //cfs2e.nist.gov/642/NIST_Projects/Additive Manufacturing and Rheology/OpenFOAM/simulations\\adjacent\\aj247\\images\\a_umag.mp4\n"
     ]
    }
   ],
   "source": [
    "for c in folders:\n",
    "    if not os.path.exists(os.path.join(c,'images','y_umag.mp4')):\n",
    "        vf.saveVid(c, 'y', 'umag' )\n",
    "    if not os.path.exists(os.path.join(c,'images','a_umag.mp4')):\n",
    "        vf.saveVid(c, 'a', 'umag' )"
   ]
  },
  {
   "cell_type": "code",
   "execution_count": null,
   "id": "7420afff",
   "metadata": {},
   "outputs": [],
   "source": [
    "vf.saveBigVideo(folders, os.path.join(serverfolder, 'summaryVideo.mp4'))"
   ]
  },
  {
   "cell_type": "code",
   "execution_count": null,
   "id": "19795f4e",
   "metadata": {},
   "outputs": [],
   "source": [
    "vf.saveBigVideo(folders, os.path.join(serverfolder, 'a_summaryVideo.mp4'), angles=['a'])"
   ]
  },
  {
   "cell_type": "code",
   "execution_count": null,
   "id": "8d9172ce",
   "metadata": {},
   "outputs": [],
   "source": [
    "vf.saveBigVideo(folders, os.path.join(serverfolder, 'summaryVideoPresentation.mp4'), titleLength=0, angles=['a'])"
   ]
  },
  {
   "cell_type": "markdown",
   "id": "6225126c",
   "metadata": {},
   "source": [
    "## Create title cards"
   ]
  },
  {
   "cell_type": "code",
   "execution_count": null,
   "id": "becb136a",
   "metadata": {},
   "outputs": [
    {
     "name": "stdout",
     "output_type": "stream",
     "text": [
      "Help on function titleCard in module videofuncs:\n",
      "\n",
      "titleCard(folder: str, overwrite: bool = False, diag: bool = True) -> None\n",
      "    Create and export a title card using the legend for the simulation\n",
      "\n"
     ]
    }
   ],
   "source": [
    "help(vf.titleCard)"
   ]
  },
  {
   "cell_type": "code",
   "execution_count": null,
   "id": "7c4ca9bc",
   "metadata": {
    "tags": []
   },
   "outputs": [],
   "source": [
    "for topfolder in [os.path.join(serverfolder, f) for f in ['HBHBsweep', 'HBnewtsweep', 'newtHBsweep', 'newtnewtsweep']]:\n",
    "    for c in fp.caseFolders(topfolder):\n",
    "        vf.titleCard(c, overwrite=True, diag=True)"
   ]
  },
  {
   "cell_type": "code",
   "execution_count": null,
   "id": "acd65c1c",
   "metadata": {
    "tags": []
   },
   "outputs": [],
   "source": [
    "for topfolder in [os.path.join(serverfolder, f) for f in ['HBHBsweep', 'HBnewtsweep', 'newtHBsweep', 'newtnewtsweep']]:\n",
    "    for c in fp.caseFolders(topfolder):\n",
    "        vf.checkSimRate(c)"
   ]
  },
  {
   "cell_type": "markdown",
   "id": "af36b110",
   "metadata": {},
   "source": [
    "## Put all folders into one big video"
   ]
  },
  {
   "cell_type": "code",
   "execution_count": 5,
   "id": "b95e3683",
   "metadata": {},
   "outputs": [
    {
     "name": "stdout",
     "output_type": "stream",
     "text": [
      "Help on function findFiles in module py.videofuncs:\n",
      "\n",
      "findFiles(topfolders: str, keyList: List[str]) -> List[str]\n",
      "    Find all of the simulation folders in topfolders, and put them in order based on their fp.legendUnique keys, given in priority order in keyList\n",
      "\n"
     ]
    }
   ],
   "source": [
    "help(vf.findFiles)"
   ]
  },
  {
   "cell_type": "code",
   "execution_count": 6,
   "id": "a57ac03c",
   "metadata": {},
   "outputs": [
    {
     "name": "stdout",
     "output_type": "stream",
     "text": [
      "Help on function saveBigVideo in module py.videofuncs:\n",
      "\n",
      "saveBigVideo(folderList: str, filename: str, titleLength: float = 1, diag: bool = True) -> None\n",
      "    Compile all of the time series for all of the simulations into one big video. folderList is a list of the folders to include. filename is the name of the video to save. titleLength is the time that the title cards are up, in s\n",
      "\n"
     ]
    }
   ],
   "source": [
    "help(vf.saveBigVideo)"
   ]
  },
  {
   "cell_type": "code",
   "execution_count": null,
   "id": "d43ff7c6",
   "metadata": {
    "tags": []
   },
   "outputs": [],
   "source": [
    "vf.saveBigVideo(list(files['file']), os.path.join(serverfolder, 'summaryVideo.mp4'))"
   ]
  },
  {
   "cell_type": "markdown",
   "id": "06943081",
   "metadata": {},
   "source": [
    "# Compile figures into a video for each folder"
   ]
  },
  {
   "cell_type": "code",
   "execution_count": 7,
   "id": "c2e9dd6f",
   "metadata": {},
   "outputs": [
    {
     "name": "stdout",
     "output_type": "stream",
     "text": [
      "Help on function saveFigureVideo in module py.videofuncs:\n",
      "\n",
      "saveFigureVideo(topfolderList: str, filename: str, tags: List[List[str]], titleLength: float = 1, diag: bool = True) -> None\n",
      "    Compile a time series of the combined picture plots for all of the simulations into one big video. folderList is a list of the topfolders to include. filename is the name of the video to save. tags should be a list for each folder, and within each list, a list of tags that should be in every file. For example, to get all sigma=0 and then all sigma=40, tags could be [['sigma_0', 'y_umag'],['sigma_40', 'y_umag']]. titleLength is the time that the title cards are up, in s\n",
      "\n"
     ]
    }
   ],
   "source": [
    "help(vf.saveFigureVideo)"
   ]
  },
  {
   "cell_type": "code",
   "execution_count": null,
   "id": "8d4f26fa",
   "metadata": {
    "tags": []
   },
   "outputs": [],
   "source": [
    "figfolder = cfg.path.fig\n",
    "figfolders = [os.path.join(figfolder, 'viscositysweep', 'plots', s) for s in ['newtnewtsweep', 'newtHBsweep', 'HBnewtsweep','HBHBsweep']]\n",
    "vf.saveFigureVideo(figfolders, os.path.join(figfolder, 'viscositysweep', 'plots', 'y_umag.mp4'), [['sigma_0', 'pics_y_umag'],['sigma_40', 'pics_y_umag']])"
   ]
  },
  {
   "cell_type": "code",
   "execution_count": 16,
   "id": "51a6c648",
   "metadata": {
    "tags": []
   },
   "outputs": [
    {
     "name": "stdout",
     "output_type": "stream",
     "text": [
      "INFO: Writing plots\\newtnewtsweep\n",
      "WARNING: IMAGEIO FFMPEG_WRITER WARNING: input image is not divisible by macro_block_size=16, resizing from (1716, 1896) to (1728, 1904) to ensure video compatibility with most codecs and players. To prevent resizing, make your input image divisible by the macro_block_size or set the macro_block_size to 1 (risking incompatibility).\n",
      "INFO: Done creating video C:/Users/lmf1/OneDriveNIST/NIST/data/openfoam/summaries\\viscositysweep\\plots\\newtnewtsweep\\newtnewt_y_umag.mp4\n"
     ]
    }
   ],
   "source": [
    "figfolder = cfg.path.fig\n",
    "figfolders = [os.path.join(figfolder, 'viscositysweep', 'plots', s) for s in ['newtnewtsweep']]\n",
    "vf.saveFigureVideo(figfolders, os.path.join(figfolder, 'viscositysweep', 'plots', 'newtnewtsweep', 'newtnewt_y_umag.mp4'), [['sigma_0', 'pics_y_umag', 'xvar_nuink_yvar_nusup', '.']], titleLength=0)"
   ]
  },
  {
   "cell_type": "markdown",
   "id": "e78392dd",
   "metadata": {},
   "source": [
    "## save video for a single file"
   ]
  },
  {
   "cell_type": "code",
   "execution_count": 8,
   "id": "bd55025a",
   "metadata": {},
   "outputs": [
    {
     "name": "stdout",
     "output_type": "stream",
     "text": [
      "Help on function saveVid in module py.videofuncs:\n",
      "\n",
      "saveVid(folder: str, s: str, p: str, diag: bool = True) -> None\n",
      "    compile images into a video, where images contain the string {s}_{p}.png\n",
      "\n"
     ]
    }
   ],
   "source": [
    "help(vf.saveVid)"
   ]
  },
  {
   "cell_type": "code",
   "execution_count": null,
   "id": "0ae5e367",
   "metadata": {},
   "outputs": [],
   "source": [
    "vf.saveVid(os.path.join(cfg.path.server, 'conicalNozzle', 'newtonian', 'cn224'), 'y', 'umag' )"
   ]
  },
  {
   "cell_type": "markdown",
   "id": "23241c8b",
   "metadata": {},
   "source": [
    "## speed up video"
   ]
  },
  {
   "cell_type": "code",
   "execution_count": 17,
   "id": "3524f26e",
   "metadata": {},
   "outputs": [
    {
     "ename": "SyntaxError",
     "evalue": "invalid syntax (<ipython-input-17-5447186602d2>, line 4)",
     "output_type": "error",
     "traceback": [
      "\u001b[1;36m  File \u001b[1;32m\"<ipython-input-17-5447186602d2>\"\u001b[1;36m, line \u001b[1;32m4\u001b[0m\n\u001b[1;33m    ffmpeg -i movie -vf  \"setpts=0.20*PTS\" new\u001b[0m\n\u001b[1;37m              ^\u001b[0m\n\u001b[1;31mSyntaxError\u001b[0m\u001b[1;31m:\u001b[0m invalid syntax\n"
     ]
    }
   ],
   "source": [
    "import ffmpeg\n",
    "movie = r'\\\\cfs2e.nist.gov\\642\\internal\\3D Printing Lab\\Shopbot\\videos\\singleLines\\mineral812S LapRDT\\I_M9S_S_2.25T\\I_M9S_S_2.25T_211005\\singleLinesNoZig_5_Basler camera_I_M9S_S_2.25T_211005_121222_3_trim.mp4'\n",
    "new = movie.replace('trim', 'trimfast')\n",
    "ffmpeg -i movie -vf  \"setpts=0.20*PTS\" new"
   ]
  },
  {
   "cell_type": "code",
   "execution_count": null,
   "id": "4e047e4f",
   "metadata": {},
   "outputs": [],
   "source": []
  }
 ],
 "metadata": {
  "kernelspec": {
   "display_name": "Python 3",
   "language": "python",
   "name": "python3"
  },
  "language_info": {
   "codemirror_mode": {
    "name": "ipython",
    "version": 3
   },
   "file_extension": ".py",
   "mimetype": "text/x-python",
   "name": "python",
   "nbconvert_exporter": "python",
   "pygments_lexer": "ipython3",
   "version": "3.8.3"
  }
 },
 "nbformat": 4,
 "nbformat_minor": 5
}
